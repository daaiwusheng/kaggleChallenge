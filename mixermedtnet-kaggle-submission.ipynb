{
 "cells": [
  {
   "cell_type": "markdown",
   "id": "f251cc27",
   "metadata": {
    "papermill": {
     "duration": 0.025344,
     "end_time": "2021-12-23T16:35:44.441498",
     "exception": false,
     "start_time": "2021-12-23T16:35:44.416154",
     "status": "completed"
    },
    "tags": []
   },
   "source": [
    "### kaggle要求notebook文件且不能联网，所以需要用到的未原装包要自行放到kaggle dataset里，再用sys.path.append()添加路径"
   ]
  },
  {
   "cell_type": "code",
   "execution_count": 1,
   "id": "0c9e87c6",
   "metadata": {
    "execution": {
     "iopub.execute_input": "2021-12-23T16:35:44.491561Z",
     "iopub.status.busy": "2021-12-23T16:35:44.490099Z",
     "iopub.status.idle": "2021-12-23T16:35:44.499196Z",
     "shell.execute_reply": "2021-12-23T16:35:44.498614Z",
     "shell.execute_reply.started": "2021-12-23T15:33:22.022169Z"
    },
    "papermill": {
     "duration": 0.034491,
     "end_time": "2021-12-23T16:35:44.499315",
     "exception": false,
     "start_time": "2021-12-23T16:35:44.464824",
     "status": "completed"
    },
    "tags": []
   },
   "outputs": [],
   "source": [
    "import sys\n",
    "sys.path.append('../input/labnn/labml-nn')\n",
    "sys.path.append('../input/labnn/helpers')\n",
    "sys.path.append('../input/sk-image/scikit-image-main')\n"
   ]
  },
  {
   "cell_type": "code",
   "execution_count": 2,
   "id": "222cccf8",
   "metadata": {
    "execution": {
     "iopub.execute_input": "2021-12-23T16:35:44.547810Z",
     "iopub.status.busy": "2021-12-23T16:35:44.547202Z",
     "iopub.status.idle": "2021-12-23T16:35:47.574254Z",
     "shell.execute_reply": "2021-12-23T16:35:47.573330Z",
     "shell.execute_reply.started": "2021-12-23T15:33:23.725981Z"
    },
    "papermill": {
     "duration": 3.053199,
     "end_time": "2021-12-23T16:35:47.574397",
     "exception": false,
     "start_time": "2021-12-23T16:35:44.521198",
     "status": "completed"
    },
    "tags": []
   },
   "outputs": [],
   "source": [
    "import os\n",
    "import numpy as np\n",
    "import pandas as pd\n",
    "import torch\n",
    "from torch import nn\n",
    "from torch.utils.data import Dataset, DataLoader\n",
    "import collections\n",
    "from PIL import Image\n",
    "from torchvision import transforms\n",
    "from torchvision import transforms as T\n",
    "from torch.autograd import Variable\n",
    "import torch.nn.functional as F\n",
    "\n",
    "from labml_helpers.module import Module\n",
    "from labml_nn.utils import clone_module_list\n",
    "\n",
    "from skimage.measure import label\n",
    "from skimage.transform import resize\n",
    "from skimage.morphology import dilation\n",
    "from skimage.segmentation import watershed\n",
    "from skimage.morphology import remove_small_objects\n",
    "from typing import Optional, Union, List, Tuple"
   ]
  },
  {
   "cell_type": "code",
   "execution_count": 3,
   "id": "3825a701",
   "metadata": {
    "execution": {
     "iopub.execute_input": "2021-12-23T16:35:47.621089Z",
     "iopub.status.busy": "2021-12-23T16:35:47.620313Z",
     "iopub.status.idle": "2021-12-23T16:35:47.622811Z",
     "shell.execute_reply": "2021-12-23T16:35:47.622332Z",
     "shell.execute_reply.started": "2021-12-23T15:33:29.00424Z"
    },
    "papermill": {
     "duration": 0.027206,
     "end_time": "2021-12-23T16:35:47.622919",
     "exception": false,
     "start_time": "2021-12-23T16:35:47.595713",
     "status": "completed"
    },
    "tags": []
   },
   "outputs": [],
   "source": [
    "WIDTH = 704\n",
    "HEIGHT = 520\n",
    "\n",
    "BATCH_SIZE = 32\n",
    "\n",
    "PATCH_SIZE = 280\n",
    "\n",
    "TEST_CSV = \"../input/sartorius-cell-instance-segmentation/sample_submission.csv\"\n",
    "TEST_PATH = \"../input/sartorius-cell-instance-segmentation/test\" # guanhui\n",
    "RESULT_DIR = \"./\" \n",
    "LOG_PATH = './exp.log'\n",
    "\n",
    "PRETRAIN_MODEL = '../input/cell-pretrain-model/new_model.pth'"
   ]
  },
  {
   "cell_type": "markdown",
   "id": "6ef77ce7",
   "metadata": {
    "papermill": {
     "duration": 0.020469,
     "end_time": "2021-12-23T16:35:47.663969",
     "exception": false,
     "start_time": "2021-12-23T16:35:47.643500",
     "status": "completed"
    },
    "tags": []
   },
   "source": [
    "## DATASET"
   ]
  },
  {
   "cell_type": "code",
   "execution_count": 4,
   "id": "3e51f8b1",
   "metadata": {
    "_kg_hide-input": false,
    "execution": {
     "iopub.execute_input": "2021-12-23T16:35:47.720044Z",
     "iopub.status.busy": "2021-12-23T16:35:47.719250Z",
     "iopub.status.idle": "2021-12-23T16:35:47.721601Z",
     "shell.execute_reply": "2021-12-23T16:35:47.721207Z",
     "shell.execute_reply.started": "2021-12-23T15:33:33.283979Z"
    },
    "jupyter": {
     "source_hidden": true
    },
    "papermill": {
     "duration": 0.03714,
     "end_time": "2021-12-23T16:35:47.721702",
     "exception": false,
     "start_time": "2021-12-23T16:35:47.684562",
     "status": "completed"
    },
    "tags": []
   },
   "outputs": [],
   "source": [
    "\n",
    "def normalization(data):\n",
    "    _range = np.max(data) - np.min(data)\n",
    "    return (data - np.min(data)) / _range\n",
    "\n",
    "class CellDataset_submit(Dataset):\n",
    "    def __init__(self, image_dir, df, transforms=None, patch_size=16):\n",
    "        self.transforms = transforms\n",
    "        self.image_dir = image_dir\n",
    "        self.df = df\n",
    "        self.patch_size = patch_size\n",
    "        self.height = HEIGHT\n",
    "        self.width = WIDTH\n",
    "        \n",
    "        if self.height % self.patch_size !=0:\n",
    "            self.row_sum = self.height // self.patch_size +1\n",
    "        else:\n",
    "            self.row_sum = self.height // self.patch_size\n",
    "        if self.width % self.patch_size !=0:\n",
    "            self.col_sum = self.width // self.patch_size+1\n",
    "        else:\n",
    "            self.col_sum = self.width // self.patch_size\n",
    "        \n",
    "        self.patch_num = self.row_sum * self.col_sum\n",
    "\n",
    "        self.image_info = collections.defaultdict(dict)\n",
    "#         temp_df_11 = self.df.groupby('id')['annotation'].agg(lambda x: list(x)).reset_index()\n",
    "\n",
    "#         train_df, val_df = train_test_split(temp_df_11, test_size=0.2, random_state=42)\n",
    "        temp_df = self.df\n",
    "\n",
    "        ## 将id, path, annotation转成字典\n",
    "        ii = 0\n",
    "        for index, row in temp_df.iterrows():\n",
    "            self.image_info[ii] = {\n",
    "                'image_id': row['id'],\n",
    "                'image_path': os.path.join(self.image_dir, row['id'] + '.png'),\n",
    "            }\n",
    "            ii += 1\n",
    "\n",
    "    def __getitem__(self, idx):\n",
    "        ''' Get the image and the target'''\n",
    "        img_pad = np.zeros((self.row_sum * self.patch_size , self.col_sum * self.patch_size))\n",
    "        img_idx = idx // self.patch_num\n",
    "        patch_idx = idx % self.patch_num\n",
    "\n",
    "        img_path = self.image_info[img_idx][\"image_path\"]\n",
    "        img_name = self.image_info[img_idx]['image_id']\n",
    "        img = Image.open(img_path)\n",
    "\n",
    "        info = self.image_info[img_idx]\n",
    "        img = np.array(img)\n",
    "        img_pad[:520,:704] = img\n",
    "        img_pad = normalization(img_pad)\n",
    "\n",
    "        # 计算patch位置\n",
    "        cur_row = patch_idx // self.col_sum\n",
    "        cur_col = patch_idx % self.col_sum\n",
    "        \n",
    "        start_row = cur_row * self.patch_size\n",
    "        end_row = start_row + self.patch_size\n",
    "        start_col = cur_col * self.patch_size\n",
    "        end_col = start_col + self.patch_size\n",
    "        \n",
    "        # 切片\n",
    "        image_clip = img_pad[start_row:end_row, start_col:end_col]\n",
    "\n",
    "        transform = transforms.Compose([\n",
    "            transforms.ToTensor()\n",
    "        ])\n",
    "        image_clip = transform(image_clip)\n",
    "\n",
    "        image_clip = torch.as_tensor(image_clip, dtype=torch.float)\n",
    "        \n",
    "        return image_clip,img_name\n",
    "\n",
    "    def __len__(self):\n",
    "        return len(self.image_info) * self.patch_num\n"
   ]
  },
  {
   "cell_type": "code",
   "execution_count": 5,
   "id": "adfad13f",
   "metadata": {
    "execution": {
     "iopub.execute_input": "2021-12-23T16:35:47.785040Z",
     "iopub.status.busy": "2021-12-23T16:35:47.784178Z",
     "iopub.status.idle": "2021-12-23T16:35:47.785924Z",
     "shell.execute_reply": "2021-12-23T16:35:47.786328Z",
     "shell.execute_reply.started": "2021-12-23T15:34:48.837067Z"
    },
    "papermill": {
     "duration": 0.043916,
     "end_time": "2021-12-23T16:35:47.786440",
     "exception": false,
     "start_time": "2021-12-23T16:35:47.742524",
     "status": "completed"
    },
    "tags": []
   },
   "outputs": [],
   "source": [
    "\n",
    "class First2D(nn.Module):\n",
    "    def __init__(self, in_channels, middle_channels, out_channels, dropout=False):\n",
    "        super(First2D, self).__init__()\n",
    "\n",
    "        layers = [\n",
    "            nn.Conv2d(in_channels, middle_channels, kernel_size=3, padding=1),\n",
    "            nn.BatchNorm2d(middle_channels),\n",
    "            nn.ReLU(inplace=True),\n",
    "            nn.Conv2d(middle_channels, out_channels, kernel_size=3, padding=1),\n",
    "            nn.BatchNorm2d(out_channels),\n",
    "            nn.ReLU(inplace=True)\n",
    "        ]\n",
    "\n",
    "        if dropout:\n",
    "            assert 0 <= dropout <= 1, 'dropout must be between 0 and 1'\n",
    "            layers.append(nn.Dropout2d(p=dropout))\n",
    "\n",
    "        self.first = nn.Sequential(*layers)\n",
    "\n",
    "    def forward(self, x):\n",
    "        return self.first(x)\n",
    "\n",
    "\n",
    "class Encoder2D(nn.Module):\n",
    "    def __init__(\n",
    "            self, in_channels, middle_channels, out_channels,\n",
    "            dropout=False, downsample_kernel=2\n",
    "    ):\n",
    "        super(Encoder2D, self).__init__()\n",
    "\n",
    "        layers = [\n",
    "            nn.MaxPool2d(kernel_size=downsample_kernel),\n",
    "            nn.Conv2d(in_channels, middle_channels, kernel_size=3, padding=1),\n",
    "            nn.BatchNorm2d(middle_channels),\n",
    "            nn.ReLU(inplace=True),\n",
    "            nn.Conv2d(middle_channels, out_channels, kernel_size=3, padding=1),\n",
    "            nn.BatchNorm2d(out_channels),\n",
    "            nn.ReLU(inplace=True)\n",
    "        ]\n",
    "\n",
    "        if dropout:\n",
    "            assert 0 <= dropout <= 1, 'dropout must be between 0 and 1'\n",
    "            layers.append(nn.Dropout2d(p=dropout))\n",
    "\n",
    "        self.encoder = nn.Sequential(*layers)\n",
    "\n",
    "    def forward(self, x):\n",
    "        return self.encoder(x)\n",
    "\n",
    "\n",
    "class Center2D(nn.Module):\n",
    "    def __init__(self, in_channels, middle_channels, out_channels, deconv_channels, dropout=False):\n",
    "        super(Center2D, self).__init__()\n",
    "\n",
    "        layers = [\n",
    "            nn.MaxPool2d(kernel_size=2),\n",
    "            nn.Conv2d(in_channels, middle_channels, kernel_size=3, padding=1),\n",
    "            nn.BatchNorm2d(middle_channels),\n",
    "            nn.ReLU(inplace=True),\n",
    "            nn.Conv2d(middle_channels, out_channels, kernel_size=3, padding=1),\n",
    "            nn.BatchNorm2d(out_channels),\n",
    "            nn.ReLU(inplace=True),\n",
    "            nn.ConvTranspose2d(out_channels, deconv_channels, kernel_size=2, stride=2)\n",
    "        ]\n",
    "\n",
    "        if dropout:\n",
    "            assert 0 <= dropout <= 1, 'dropout must be between 0 and 1'\n",
    "            layers.append(nn.Dropout2d(p=dropout))\n",
    "\n",
    "        self.center = nn.Sequential(*layers)\n",
    "\n",
    "    def forward(self, x):\n",
    "        return self.center(x)\n",
    "\n",
    "\n",
    "class Decoder2D(nn.Module):\n",
    "    def __init__(self, in_channels, middle_channels, out_channels, deconv_channels, dropout=False):\n",
    "        super(Decoder2D, self).__init__()\n",
    "\n",
    "        layers = [\n",
    "            nn.Conv2d(in_channels, middle_channels, kernel_size=3, padding=1),\n",
    "            nn.BatchNorm2d(middle_channels),\n",
    "            nn.ReLU(inplace=True),\n",
    "            nn.Conv2d(middle_channels, out_channels, kernel_size=3, padding=1),\n",
    "            nn.BatchNorm2d(out_channels),\n",
    "            nn.ReLU(inplace=True),\n",
    "            nn.ConvTranspose2d(out_channels, deconv_channels, kernel_size=2, stride=2)\n",
    "        ]\n",
    "\n",
    "        if dropout:\n",
    "            assert 0 <= dropout <= 1, 'dropout must be between 0 and 1'\n",
    "            layers.append(nn.Dropout2d(p=dropout))\n",
    "\n",
    "        self.decoder = nn.Sequential(*layers)\n",
    "\n",
    "    def forward(self, x):\n",
    "        return self.decoder(x)\n",
    "\n",
    "\n",
    "class Last2D(nn.Module):\n",
    "    def __init__(self, in_channels, middle_channels, softmax=False):\n",
    "        super(Last2D, self).__init__()\n",
    "\n",
    "        layers = [\n",
    "            nn.Conv2d(in_channels, middle_channels, kernel_size=3, padding=1),\n",
    "            nn.BatchNorm2d(middle_channels),\n",
    "            nn.ReLU(inplace=True),\n",
    "            nn.Conv2d(middle_channels, middle_channels, kernel_size=3, padding=1),\n",
    "            nn.BatchNorm2d(middle_channels),\n",
    "            nn.ReLU(inplace=True),\n",
    "            nn.Conv2d(middle_channels, middle_channels, kernel_size=1),\n",
    "        ]\n",
    "\n",
    "        self.first = nn.Sequential(*layers)\n",
    "\n",
    "    def forward(self, x):\n",
    "        return self.first(x)"
   ]
  },
  {
   "cell_type": "code",
   "execution_count": 6,
   "id": "fe9ea8cc",
   "metadata": {
    "execution": {
     "iopub.execute_input": "2021-12-23T16:35:47.864084Z",
     "iopub.status.busy": "2021-12-23T16:35:47.861869Z",
     "iopub.status.idle": "2021-12-23T16:35:47.866132Z",
     "shell.execute_reply": "2021-12-23T16:35:47.865699Z",
     "shell.execute_reply.started": "2021-12-23T15:33:38.781945Z"
    },
    "jupyter": {
     "source_hidden": true
    },
    "papermill": {
     "duration": 0.059158,
     "end_time": "2021-12-23T16:35:47.866236",
     "exception": false,
     "start_time": "2021-12-23T16:35:47.807078",
     "status": "completed"
    },
    "tags": []
   },
   "outputs": [],
   "source": [
    "\n",
    "class ConvMixerLayer(Module):\n",
    "    \"\"\"\n",
    "    <a id=\"ConvMixerLayer\"></a>\n",
    "    ## ConvMixer layer\n",
    "    This is a single ConvMixerLayer layer. The model will have a series of these.\n",
    "    \"\"\"\n",
    "\n",
    "    def __init__(self, d_model: int, kernel_size: int):\n",
    "        \"\"\"\n",
    "        * `d_model` is the number of channels in patch embeddings, $h$\n",
    "        * `kernel_size` is the size of the kernel of spatial convolution, $k$\n",
    "        \"\"\"\n",
    "        super().__init__()\n",
    "        # Depth-wise convolution is separate convolution for each channel.\n",
    "        # We do this with a convolution layer with the number of groups equal to the number of channels.\n",
    "        # So that each channel is it's own group.\n",
    "        self.depth_wise_conv = nn.Conv2d(d_model, d_model,\n",
    "                                         kernel_size=kernel_size,\n",
    "                                         groups=d_model,\n",
    "                                         padding=(kernel_size - 1) // 2)\n",
    "        # Activation after depth-wise convolution\n",
    "        self.act1 = nn.GELU()\n",
    "        # Normalization after depth-wise convolution\n",
    "        self.norm1 = nn.BatchNorm2d(d_model)\n",
    "\n",
    "        # Point-wise convolution is a $1 \\times 1$ convolution.\n",
    "        # i.e. a linear transformation of patch embeddings\n",
    "        self.point_wise_conv = nn.Conv2d(d_model, d_model, kernel_size=1)\n",
    "        # Activation after point-wise convolution\n",
    "        self.act2 = nn.GELU()\n",
    "        # Normalization after point-wise convolution\n",
    "        self.norm2 = nn.BatchNorm2d(d_model)\n",
    "\n",
    "    def forward(self, x: torch.Tensor):\n",
    "        # For the residual connection around the depth-wise convolution\n",
    "        residual = x\n",
    "\n",
    "        # Depth-wise convolution, activation and normalization\n",
    "        x = self.depth_wise_conv(x)\n",
    "        x = self.act1(x)\n",
    "        x = self.norm1(x)\n",
    "\n",
    "        # Add residual connection\n",
    "        x += residual\n",
    "\n",
    "        # Point-wise convolution, activation and normalization\n",
    "        x = self.point_wise_conv(x)\n",
    "        x = self.act2(x)\n",
    "        x = self.norm2(x)\n",
    "        #\n",
    "        return x\n",
    "\n",
    "class PatchEmbeddings(Module):\n",
    "    \"\"\"\n",
    "    <a id=\"PatchEmbeddings\"></a>\n",
    "    ## Get patch embeddings\n",
    "    This splits the image into patches of size $p \\times p$ and gives an embedding for each patch.\n",
    "    \"\"\"\n",
    "\n",
    "    def __init__(self, d_model: int, patch_size: int, in_channels: int):\n",
    "        \"\"\"\n",
    "        * `d_model` is the number of channels in patch embeddings $h$\n",
    "        * `patch_size` is the size of the patch, $p$\n",
    "        * `in_channels` is the number of channels in the input image (3 for rgb)\n",
    "        \"\"\"\n",
    "        super().__init__()\n",
    "\n",
    "        # We create a convolution layer with a kernel size and and stride length equal to patch size.\n",
    "        # This is equivalent to splitting the image into patches and doing a linear\n",
    "        # transformation on each patch.\n",
    "        self.conv = nn.Conv2d(in_channels, d_model, kernel_size=patch_size, stride=patch_size)\n",
    "        # Activation function\n",
    "        self.act = nn.GELU()\n",
    "        # Batch normalization\n",
    "        self.norm = nn.BatchNorm2d(d_model)\n",
    "\n",
    "    def forward(self, x: torch.Tensor):\n",
    "        \"\"\"\n",
    "        * `x` is the input image of shape `[batch_size, channels, height, width]`\n",
    "        \"\"\"\n",
    "        # Apply convolution layer\n",
    "        x = self.conv(x)\n",
    "        # Activation and normalization\n",
    "        x = self.act(x)\n",
    "        x = self.norm(x)\n",
    "\n",
    "        #\n",
    "        return x\n",
    "\n",
    "\n",
    "class UNet2D(nn.Module):\n",
    "    def __init__(self, in_channels, conv_depths=(64, 128, 256, 512, 1024)):\n",
    "        assert len(conv_depths) > 2, 'conv_depths must have at least 3 members'\n",
    "\n",
    "        super(UNet2D, self).__init__()\n",
    "\n",
    "        # defining encoder layers\n",
    "        encoder_layers = []\n",
    "        encoder_layers.append(First2D(in_channels, conv_depths[0], conv_depths[0]))\n",
    "        encoder_layers.extend([Encoder2D(conv_depths[i], conv_depths[i + 1], conv_depths[i + 1])\n",
    "                               for i in range(len(conv_depths)-2)])\n",
    "\n",
    "        # defining decoder layers\n",
    "        decoder_layers = []\n",
    "        decoder_layers.extend([Decoder2D(2 * conv_depths[i + 1], 2 * conv_depths[i], 2 * conv_depths[i], conv_depths[i])\n",
    "                               for i in reversed(range(len(conv_depths)-2))])\n",
    "        decoder_layers.append(Last2D(conv_depths[1], conv_depths[0]))\n",
    "\n",
    "        # encoder, center and decoder layers\n",
    "        self.encoder_layers = nn.Sequential(*encoder_layers)\n",
    "        self.center = Center2D(conv_depths[-2], conv_depths[-1], conv_depths[-1], conv_depths[-2])\n",
    "        self.decoder_layers = nn.Sequential(*decoder_layers)\n",
    "\n",
    "    def forward(self, x, return_all=False):\n",
    "        x_enc = [x]\n",
    "        for enc_layer in self.encoder_layers:\n",
    "            x_enc.append(enc_layer(x_enc[-1]))\n",
    "\n",
    "        x_dec = [self.center(x_enc[-1])]\n",
    "        for dec_layer_idx, dec_layer in enumerate(self.decoder_layers):\n",
    "            x_opposite = x_enc[-1-dec_layer_idx]\n",
    "            x_cat = torch.cat(\n",
    "                [pad_to_shape(x_dec[-1], x_opposite.shape), x_opposite],\n",
    "                dim=1\n",
    "            )\n",
    "            x_dec.append(dec_layer(x_cat))\n",
    "\n",
    "        if not return_all:\n",
    "            return x_dec[-1]\n",
    "        else:\n",
    "            return x_enc + x_dec\n",
    "\n",
    "\n",
    "def pad_to_shape(this, shp):\n",
    "    \"\"\"\n",
    "    Pads this image with zeroes to shp.\n",
    "    Args:\n",
    "        this: image tensor to pad\n",
    "        shp: desired output shape\n",
    "    Returns:\n",
    "        Zero-padded tensor of shape shp.\n",
    "    \"\"\"\n",
    "    if len(shp) == 4:\n",
    "        pad = (0, shp[3] - this.shape[3], 0, shp[2] - this.shape[2])\n",
    "    elif len(shp) == 5:\n",
    "        pad = (0, shp[4] - this.shape[4], 0, shp[3] - this.shape[3], 0, shp[2] - this.shape[2])\n",
    "    return F.pad(this, pad)\n",
    "\n",
    "\n",
    "class ClassificationHead(Module):\n",
    "    \"\"\"\n",
    "    <a id=\"ClassificationHead\"></a>\n",
    "    ## Classification Head\n",
    "    They do average pooling (taking the mean of all patch embeddings) and a final linear transformation\n",
    "    to predict the log-probabilities of the image classes.\n",
    "    \"\"\"\n",
    "\n",
    "    def __init__(self, d_model: int):\n",
    "        \"\"\"\n",
    "        * `d_model` is the number of channels in patch embeddings, $h$\n",
    "        * `n_classes` is the number of classes in the classification task\n",
    "        \"\"\"\n",
    "        super().__init__()\n",
    "        # Average Pool\n",
    "        # self.pool = nn.AdaptiveAvgPool2d((1, 1))\n",
    "        self.convtrans1 = nn.ConvTranspose2d(d_model, d_model, kernel_size=4, stride=2, padding=1)\n",
    "        self.act1 = nn.GELU()\n",
    "        self.batchnorm1 = nn.BatchNorm2d(d_model)\n",
    "\n",
    "        self.convtrans2 = nn.ConvTranspose2d(d_model, d_model, kernel_size=4, stride=2, padding=1)\n",
    "        self.act2 = nn.GELU()\n",
    "        self.batchnorm2 = nn.BatchNorm2d(d_model)\n",
    "\n",
    "        self.convtrans3 = nn.ConvTranspose2d(d_model, d_model, kernel_size=4, stride=2, padding=1)\n",
    "        self.act3 = nn.GELU()\n",
    "        self.batchnorm3 = nn.BatchNorm2d(d_model)\n",
    "        #这里尽量不要考虑上采用函数，因为这个线性插值的纯粹的数值计算是不能学习的，反卷积可以做到上采样\n",
    "        # self.upsample = nn.UpsamplingBilinear2d(scale_factor=2)\n",
    "        #1*1卷积这里，无论前面输出多好channel， 这里直接拿来作为输入就行了\n",
    "        self.conv = nn.Conv2d(d_model, 64, kernel_size=1, stride=1, padding=0)\n",
    "        #由于目前用的交叉商函数自带softmax， 所以这里就不需要加入softmax了\n",
    "        # Linear layer\n",
    "        # self.linear = nn.Linear(d_model, n_classes)\n",
    "        # self.softmax = nn.Softmax(dim=1)\n",
    "\n",
    "    def forward(self, x: torch.Tensor):\n",
    "        # Average pooling\n",
    "        # x = self.pool(x)\n",
    "        x = self.convtrans1(x)\n",
    "        x = self.act1(x)\n",
    "        x = self.batchnorm1(x)\n",
    "\n",
    "        x = self.convtrans2(x)\n",
    "        x = self.act2(x)\n",
    "        x = self.batchnorm2(x)\n",
    "\n",
    "        x = self.convtrans3(x)\n",
    "        x = self.act3(x)\n",
    "        x = self.batchnorm3(x)\n",
    "\n",
    "        x = self.conv(x)\n",
    "        # x = self.upsample(x)\n",
    "        # Get the embedding, `x` will have shape `[batch_size, d_model, 1, 1]`\n",
    "        # x = x[:, :, 0, 0]\n",
    "        # Linear layer\n",
    "        # x = self.linear(x)\n",
    "\n",
    "        # print(x)\n",
    "        # print('*'*25)\n",
    "        # x = self.adjust(x)\n",
    "        # x = self.softmax(x)\n",
    "        # print(x.shape)\n",
    "        # print(x)\n",
    "\n",
    "        #\n",
    "        return x\n",
    "\n",
    "\n",
    "class Segmentation(Module):\n",
    "\n",
    "    def __init__(self, d_model: int):\n",
    "        super().__init__()\n",
    "        self.adjust = nn.Conv2d(d_model, 3, kernel_size=1, stride=1, padding=0)\n",
    "\n",
    "    def forward(self, x: torch.Tensor):\n",
    "        x = self.adjust(x)\n",
    "\n",
    "        return x\n",
    "\n",
    "\n",
    "class ConvUnetMixer(Module):\n",
    "    \"\"\"\n",
    "    ## ConvMixer\n",
    "    This combines the patch embeddings block, a number of ConvMixer layers and a classification head.\n",
    "    \"\"\"\n",
    "    def __init__(self, conv_mixer_layer: ConvMixerLayer, n_layers: int,\n",
    "                 patch_emb: PatchEmbeddings,\n",
    "                 unet: UNet2D,\n",
    "                 classification: ClassificationHead,\n",
    "                 segmentation: Segmentation):\n",
    "        \"\"\"\n",
    "        * `conv_mixer_layer` is a copy of a single [ConvMixer layer](#ConvMixerLayer).\n",
    "         We make copies of it to make ConvMixer with `n_layers`.\n",
    "        * `n_layers` is the number of ConvMixer layers (or depth), $d$.\n",
    "        * `patch_emb` is the [patch embeddings layer](#PatchEmbeddings).\n",
    "        * `classification` is the [classification head](#ClassificationHead).\n",
    "        \"\"\"\n",
    "        super().__init__()\n",
    "        # Patch embeddings\n",
    "        self.patch_emb = patch_emb\n",
    "        # Unet layer\n",
    "        self.unet = unet\n",
    "        # Segmentation layer\n",
    "        self.classification = classification\n",
    "        self.segmentation = segmentation\n",
    "        # Make copies of the [ConvMixer layer](#ConvMixerLayer)\n",
    "        self.conv_mixer_layers = clone_module_list(conv_mixer_layer, n_layers)\n",
    "\n",
    "    def forward(self, x: torch.Tensor):\n",
    "        \"\"\"\n",
    "        * `x` is the input image of shape `[batch_size, channels, height, width]`\n",
    "        \"\"\"\n",
    "        xin = x.clone()\n",
    "        # Get patch embeddings. This gives a tensor of shape `[batch_size, d_model, height / patch_size, width / patch_size]`.\n",
    "        x = self.patch_emb(x)\n",
    "\n",
    "        # Pass through [ConvMixer layers](#ConvMixerLayer)\n",
    "        for layer in self.conv_mixer_layers:\n",
    "            x = layer(x)\n",
    "\n",
    "        x = self.classification(x)\n",
    "\n",
    "        x_u = self.unet(xin)\n",
    "\n",
    "        x = x + x_u\n",
    "\n",
    "        # Segmentation output\n",
    "        x = self.segmentation(x)\n",
    "\n",
    "        #\n",
    "        return x"
   ]
  },
  {
   "cell_type": "code",
   "execution_count": 7,
   "id": "ed6bdc5c",
   "metadata": {
    "execution": {
     "iopub.execute_input": "2021-12-23T16:35:47.949449Z",
     "iopub.status.busy": "2021-12-23T16:35:47.948632Z",
     "iopub.status.idle": "2021-12-23T16:35:47.951011Z",
     "shell.execute_reply": "2021-12-23T16:35:47.950559Z",
     "shell.execute_reply.started": "2021-12-23T15:33:56.157241Z"
    },
    "papermill": {
     "duration": 0.064003,
     "end_time": "2021-12-23T16:35:47.951129",
     "exception": false,
     "start_time": "2021-12-23T16:35:47.887126",
     "status": "completed"
    },
    "tags": []
   },
   "outputs": [],
   "source": [
    "device = torch.device(\"cuda\" if torch.cuda.is_available() else \"cpu\")"
   ]
  },
  {
   "cell_type": "code",
   "execution_count": 8,
   "id": "63639f68",
   "metadata": {
    "execution": {
     "iopub.execute_input": "2021-12-23T16:35:47.998384Z",
     "iopub.status.busy": "2021-12-23T16:35:47.997766Z",
     "iopub.status.idle": "2021-12-23T16:35:48.014662Z",
     "shell.execute_reply": "2021-12-23T16:35:48.014160Z",
     "shell.execute_reply.started": "2021-12-23T15:33:58.91594Z"
    },
    "papermill": {
     "duration": 0.042922,
     "end_time": "2021-12-23T16:35:48.014802",
     "exception": false,
     "start_time": "2021-12-23T16:35:47.971880",
     "status": "completed"
    },
    "tags": []
   },
   "outputs": [],
   "source": [
    "df_all = pd.read_csv(TEST_CSV)\n",
    "test_dataset = CellDataset_submit(TEST_PATH, df_all, patch_size=280)\n",
    "# batch_size must be 1 and shuffle must be False\n",
    "test_loader = DataLoader(test_dataset, batch_size=1, shuffle=False, num_workers=2) \n"
   ]
  },
  {
   "cell_type": "code",
   "execution_count": 9,
   "id": "e1f74998",
   "metadata": {
    "execution": {
     "iopub.execute_input": "2021-12-23T16:35:48.067918Z",
     "iopub.status.busy": "2021-12-23T16:35:48.067158Z",
     "iopub.status.idle": "2021-12-23T16:35:48.069212Z",
     "shell.execute_reply": "2021-12-23T16:35:48.069621Z",
     "shell.execute_reply.started": "2021-12-23T15:34:03.901256Z"
    },
    "papermill": {
     "duration": 0.030501,
     "end_time": "2021-12-23T16:35:48.069738",
     "exception": false,
     "start_time": "2021-12-23T16:35:48.039237",
     "status": "completed"
    },
    "tags": []
   },
   "outputs": [],
   "source": [
    "patch_size: int = 8\n",
    "# Number of channels in patch embeddings, $h$\n",
    "d_model: int = 256\n",
    "# Number of [ConvMixer layers](#ConvMixerLayer) or depth, $d$\n",
    "n_layers: int = 4\n",
    "# Kernel size of the depth-wise convolution, $k$\n",
    "kernel_size: int = 7\n",
    "# Number of classes in the task\n",
    "n_classes: int = 1\n",
    "# conv_depths must have at least 3 members\n",
    "conv_depths = (64, 128, 256, 512, 1024)\n",
    "inchannel = 1"
   ]
  },
  {
   "cell_type": "code",
   "execution_count": 10,
   "id": "7d1a3983",
   "metadata": {
    "execution": {
     "iopub.execute_input": "2021-12-23T16:35:48.125257Z",
     "iopub.status.busy": "2021-12-23T16:35:48.124651Z",
     "iopub.status.idle": "2021-12-23T16:35:54.067172Z",
     "shell.execute_reply": "2021-12-23T16:35:54.066170Z",
     "shell.execute_reply.started": "2021-12-23T15:34:55.882367Z"
    },
    "papermill": {
     "duration": 5.972954,
     "end_time": "2021-12-23T16:35:54.067330",
     "exception": false,
     "start_time": "2021-12-23T16:35:48.094376",
     "status": "completed"
    },
    "tags": []
   },
   "outputs": [],
   "source": [
    "model = ConvUnetMixer(ConvMixerLayer(d_model, kernel_size), n_layers,\n",
    "                          PatchEmbeddings(d_model, patch_size, 1),\n",
    "                          UNet2D(inchannel, conv_depths),\n",
    "                          ClassificationHead(d_model),\n",
    "                          Segmentation(64)).to(device)\n",
    "\n",
    "model.load_state_dict(torch.load(PRETRAIN_MODEL))\n",
    "model = model.to(device)"
   ]
  },
  {
   "cell_type": "code",
   "execution_count": 11,
   "id": "b71dcfb8",
   "metadata": {
    "execution": {
     "iopub.execute_input": "2021-12-23T16:35:54.117418Z",
     "iopub.status.busy": "2021-12-23T16:35:54.116193Z",
     "iopub.status.idle": "2021-12-23T16:35:54.120754Z",
     "shell.execute_reply": "2021-12-23T16:35:54.120320Z",
     "shell.execute_reply.started": "2021-12-23T16:00:23.539977Z"
    },
    "papermill": {
     "duration": 0.031287,
     "end_time": "2021-12-23T16:35:54.120898",
     "exception": false,
     "start_time": "2021-12-23T16:35:54.089611",
     "status": "completed"
    },
    "tags": []
   },
   "outputs": [],
   "source": [
    "## all predicted masks\n",
    "predicted_masks_list=np.zeros((len(df_all),test_dataset.row_sum * test_dataset.patch_size,test_dataset.col_sum * test_dataset.patch_size)) \n",
    "predicted_contour_list=np.zeros((len(df_all),test_dataset.row_sum * test_dataset.patch_size,test_dataset.col_sum * test_dataset.patch_size)) \n",
    "# predicted_distance_list=np.zeros((len(df_all),test_dataset.row_sum * test_dataset.patch_size,test_dataset.col_sum * test_dataset.patch_size)) \n",
    "names = ['a' for i in range(len(df_all))]"
   ]
  },
  {
   "cell_type": "code",
   "execution_count": 12,
   "id": "cba3b0c3",
   "metadata": {
    "execution": {
     "iopub.execute_input": "2021-12-23T16:35:54.174040Z",
     "iopub.status.busy": "2021-12-23T16:35:54.173513Z",
     "iopub.status.idle": "2021-12-23T16:35:59.842632Z",
     "shell.execute_reply": "2021-12-23T16:35:59.841760Z",
     "shell.execute_reply.started": "2021-12-23T16:00:24.794111Z"
    },
    "papermill": {
     "duration": 5.699469,
     "end_time": "2021-12-23T16:35:59.842821",
     "exception": false,
     "start_time": "2021-12-23T16:35:54.143352",
     "status": "completed"
    },
    "tags": []
   },
   "outputs": [],
   "source": [
    "patch_id = 0\n",
    "img_id = 0\n",
    "row_sums = test_dataset.row_sum\n",
    "col_sums = test_dataset.col_sum\n",
    "patch_nums = test_dataset.patch_num\n",
    "model.eval()\n",
    "with torch.no_grad():\n",
    "    for batch_idx, (X_batch,y_name) in enumerate(test_loader): \n",
    "        X_batch = Variable(X_batch.to(device))\n",
    "        y_out = model(X_batch)\n",
    "        pre_mask = torch.sigmoid(y_out[0][0])\n",
    "        pre_contour = torch.sigmoid(y_out[0][1])\n",
    "#         pre_distance = torch.tanh(y_out[0][2])\n",
    "        \n",
    "        patch_id = batch_idx % patch_nums\n",
    "        img_id = batch_idx // patch_nums\n",
    "        \n",
    "        cur_r = patch_id // col_sums\n",
    "        cur_c = patch_id % col_sums\n",
    "\n",
    "        start_r = cur_r * PATCH_SIZE\n",
    "        end_r = start_r + PATCH_SIZE\n",
    "        start_c = cur_c * PATCH_SIZE\n",
    "        end_c = start_c + PATCH_SIZE\n",
    "        \n",
    "        predicted_masks_list[img_id, start_r:end_r, start_c:end_c] = pre_mask.cpu()\n",
    "        predicted_contour_list[img_id, start_r:end_r, start_c:end_c] = pre_contour.cpu()\n",
    "#         predicted_distance_list[img_id, start_r:end_r, start_c:end_c] = pre_distance.cpu()\n",
    "        names[img_id] = y_name[0]\n",
    "\n",
    "        "
   ]
  },
  {
   "cell_type": "code",
   "execution_count": 13,
   "id": "d6ad0183",
   "metadata": {
    "execution": {
     "iopub.execute_input": "2021-12-23T16:35:59.927256Z",
     "iopub.status.busy": "2021-12-23T16:35:59.925582Z",
     "iopub.status.idle": "2021-12-23T16:35:59.928080Z",
     "shell.execute_reply": "2021-12-23T16:35:59.928504Z",
     "shell.execute_reply.started": "2021-12-23T16:00:28.364059Z"
    },
    "papermill": {
     "duration": 0.044653,
     "end_time": "2021-12-23T16:35:59.928628",
     "exception": false,
     "start_time": "2021-12-23T16:35:59.883975",
     "status": "completed"
    },
    "tags": []
   },
   "outputs": [],
   "source": [
    "predicted_masks_list = predicted_masks_list[:,:520,:704]\n",
    "predicted_contour_list = predicted_contour_list[:,:520,:704]\n",
    "# predicted_distance_list = predicted_distance_list[:,:520,:704]"
   ]
  },
  {
   "cell_type": "code",
   "execution_count": 14,
   "id": "cfc29715",
   "metadata": {
    "execution": {
     "iopub.execute_input": "2021-12-23T16:35:59.978313Z",
     "iopub.status.busy": "2021-12-23T16:35:59.977425Z",
     "iopub.status.idle": "2021-12-23T16:35:59.984911Z",
     "shell.execute_reply": "2021-12-23T16:35:59.984464Z",
     "shell.execute_reply.started": "2021-12-23T16:00:29.918844Z"
    },
    "papermill": {
     "duration": 0.032014,
     "end_time": "2021-12-23T16:35:59.985018",
     "exception": false,
     "start_time": "2021-12-23T16:35:59.953004",
     "status": "completed"
    },
    "tags": []
   },
   "outputs": [],
   "source": [
    "predicted_masks_list = np.where(predicted_masks_list>0.5,1,0)"
   ]
  },
  {
   "cell_type": "code",
   "execution_count": 15,
   "id": "ccbea2a0",
   "metadata": {
    "execution": {
     "iopub.execute_input": "2021-12-23T16:36:00.052913Z",
     "iopub.status.busy": "2021-12-23T16:36:00.052043Z",
     "iopub.status.idle": "2021-12-23T16:36:00.633826Z",
     "shell.execute_reply": "2021-12-23T16:36:00.633224Z",
     "shell.execute_reply.started": "2021-12-23T16:00:31.178297Z"
    },
    "papermill": {
     "duration": 0.627515,
     "end_time": "2021-12-23T16:36:00.633990",
     "exception": false,
     "start_time": "2021-12-23T16:36:00.006475",
     "status": "completed"
    },
    "tags": []
   },
   "outputs": [
    {
     "data": {
      "text/plain": [
       "<function matplotlib.pyplot.show(close=None, block=None)>"
      ]
     },
     "execution_count": 15,
     "metadata": {},
     "output_type": "execute_result"
    },
    {
     "data": {
      "image/png": "[encoded data removed]",
      "text/plain": [
       "<Figure size 1080x1080 with 3 Axes>"
      ]
     },
     "metadata": {
      "needs_background": "light"
     },
     "output_type": "display_data"
    }
   ],
   "source": [
    "import matplotlib.pyplot as plt\n",
    "plt.figure(figsize=(15,15))\n",
    "plt.subplot(1,3,1)\n",
    "plt.imshow(predicted_masks_list[0][:520,:704],cmap='gray')\n",
    "plt.subplot(1,3,2)\n",
    "plt.imshow(predicted_masks_list[1][:520,:704],cmap='gray')\n",
    "plt.subplot(1,3,3)\n",
    "plt.imshow(predicted_masks_list[2][:520,:704],cmap='gray')\n",
    "plt.show"
   ]
  },
  {
   "cell_type": "code",
   "execution_count": 16,
   "id": "0b0b9f98",
   "metadata": {
    "execution": {
     "iopub.execute_input": "2021-12-23T16:36:00.687345Z",
     "iopub.status.busy": "2021-12-23T16:36:00.686548Z",
     "iopub.status.idle": "2021-12-23T16:36:00.688534Z",
     "shell.execute_reply": "2021-12-23T16:36:00.688930Z",
     "shell.execute_reply.started": "2021-12-23T15:36:20.361009Z"
    },
    "papermill": {
     "duration": 0.029572,
     "end_time": "2021-12-23T16:36:00.689053",
     "exception": false,
     "start_time": "2021-12-23T16:36:00.659481",
     "status": "completed"
    },
    "tags": []
   },
   "outputs": [],
   "source": [
    "# predicted_contour_list = np.where(predicted_contour_list>0.2,1,0)"
   ]
  },
  {
   "cell_type": "code",
   "execution_count": 17,
   "id": "5989ab1c",
   "metadata": {
    "execution": {
     "iopub.execute_input": "2021-12-23T16:36:00.762317Z",
     "iopub.status.busy": "2021-12-23T16:36:00.741365Z",
     "iopub.status.idle": "2021-12-23T16:36:01.449153Z",
     "shell.execute_reply": "2021-12-23T16:36:01.448672Z",
     "shell.execute_reply.started": "2021-12-23T16:00:35.039542Z"
    },
    "papermill": {
     "duration": 0.736675,
     "end_time": "2021-12-23T16:36:01.449284",
     "exception": false,
     "start_time": "2021-12-23T16:36:00.712609",
     "status": "completed"
    },
    "tags": []
   },
   "outputs": [
    {
     "data": {
      "text/plain": [
       "<function matplotlib.pyplot.show(close=None, block=None)>"
      ]
     },
     "execution_count": 17,
     "metadata": {},
     "output_type": "execute_result"
    },
    {
     "data": {
      "image/png": "[encoded data removed]",
      "text/plain": [
       "<Figure size 1080x1080 with 3 Axes>"
      ]
     },
     "metadata": {
      "needs_background": "light"
     },
     "output_type": "display_data"
    }
   ],
   "source": [
    "plt.figure(figsize=(15,15))\n",
    "plt.subplot(1,3,1)\n",
    "plt.imshow(predicted_contour_list[0][:520,:704],cmap='gray')\n",
    "plt.subplot(1,3,2)\n",
    "plt.imshow(predicted_contour_list[1][:520,:704],cmap='gray')\n",
    "plt.subplot(1,3,3)\n",
    "plt.imshow(predicted_contour_list[2][:520,:704],cmap='gray')\n",
    "plt.show"
   ]
  },
  {
   "cell_type": "code",
   "execution_count": 18,
   "id": "5a06a40d",
   "metadata": {
    "execution": {
     "iopub.execute_input": "2021-12-23T16:36:01.508899Z",
     "iopub.status.busy": "2021-12-23T16:36:01.508097Z",
     "iopub.status.idle": "2021-12-23T16:36:01.510100Z",
     "shell.execute_reply": "2021-12-23T16:36:01.510470Z",
     "shell.execute_reply.started": "2021-12-23T14:58:29.707515Z"
    },
    "papermill": {
     "duration": 0.03313,
     "end_time": "2021-12-23T16:36:01.510601",
     "exception": false,
     "start_time": "2021-12-23T16:36:01.477471",
     "status": "completed"
    },
    "tags": []
   },
   "outputs": [],
   "source": [
    "# plt.figure(figsize=(15,15))\n",
    "# plt.subplot(1,3,1)\n",
    "# plt.imshow(predicted_distance_list[0][:520,:704],cmap='gray')\n",
    "# plt.subplot(1,3,2)\n",
    "# plt.imshow(predicted_distance_list[1][:520,:704],cmap='gray')\n",
    "# plt.subplot(1,3,3)\n",
    "# plt.imshow(predicted_distance_list[2][:520,:704],cmap='gray')\n",
    "# plt.show"
   ]
  },
  {
   "cell_type": "code",
   "execution_count": 19,
   "id": "a6017df8",
   "metadata": {
    "execution": {
     "iopub.execute_input": "2021-12-23T16:36:01.589691Z",
     "iopub.status.busy": "2021-12-23T16:36:01.568290Z",
     "iopub.status.idle": "2021-12-23T16:36:01.602219Z",
     "shell.execute_reply": "2021-12-23T16:36:01.601810Z",
     "shell.execute_reply.started": "2021-12-23T15:36:58.432967Z"
    },
    "jupyter": {
     "source_hidden": true
    },
    "papermill": {
     "duration": 0.064142,
     "end_time": "2021-12-23T16:36:01.602320",
     "exception": false,
     "start_time": "2021-12-23T16:36:01.538178",
     "status": "completed"
    },
    "tags": []
   },
   "outputs": [],
   "source": [
    "\n",
    "# 调用此函数时直接 bcd_watershed(img)即可，img是模型输出的3通道图片\n",
    "def bcd_watershed(img, thres1=0.9, thres2=0.8, thres3=0.85, thres4=0.5, thres5=0.0, thres_small=16,\n",
    "                  scale_factors=(1.0, 1.0), remove_small_mode='background', seed_thres=32, return_seed=False):\n",
    "    r\"\"\"Convert binary foreground probability maps, instance contours and signed distance\n",
    "        transform to instance masks via watershed segmentation algorithm.\n",
    "\n",
    "        Note:\n",
    "            This function uses the `skimage.segmentation.watershed <https://github.com/scikit-image/scikit-image/blob/master/skimage/segmentation/_watershed.py#L89>`_\n",
    "            function that converts the input image into ``np.float64`` data type for processing. Therefore please make sure enough memory is allocated when handling large arrays.\n",
    "\n",
    "        Args:\n",
    "            img (numpy.ndarray): foreground and contour probability of shape :math:`(C, Y, X)`.\n",
    "            thres1 (float): threshold of seeds. Default: 0.9\n",
    "            thres2 (float): threshold of instance contours. Default: 0.8\n",
    "            thres3 (float): threshold of foreground. Default: 0.85\n",
    "            thres4 (float): threshold of signed distance for locating seeds. Default: 0.5\n",
    "            thres5 (float): threshold of signed distance for foreground. Default: 0.0\n",
    "            thres_small (int): size threshold of small objects to remove. Default: 16\n",
    "            scale_factors (tuple): scale factors for resizing in :math:`( Y, X)` order. Default: ( 1.0, 1.0)\n",
    "            remove_small_mode (str): ``'background'``, ``'neighbor'`` or ``'none'``. Default: ``'background'``\n",
    "        \"\"\"\n",
    "    assert img.shape[0] == 3 # channel = 3\n",
    "    semantic, boundary, distance = img[0], img[1], img[2]\n",
    "    distance = (distance / 255.0) * 2.0 - 1.0\n",
    "\n",
    "    seed_map = (semantic > int(255 * thres1)) * (boundary < int(255 * thres2)) * (distance > thres4)\n",
    "    foreground = (semantic > int(255 * thres3)) * (distance > thres5)\n",
    "    seed = label(seed_map)  # 生成连通图，用数字0-n表示，相通的标为同一类，不通的为不同类。这里默认参数似乎是判断上下左右4个像素是否联通。可选8像素\n",
    "    seed = remove_small_objects(seed, seed_thres)  # 第二个是mini_size\n",
    "    segm = watershed(-semantic.astype(np.float64), seed, mask=foreground)\n",
    "    segm = remove_small_instances(segm, thres_small, remove_small_mode)\n",
    "\n",
    "    if not all(x == 1.0 for x in scale_factors):\n",
    "        target_size = (int(semantic.shape[0] * scale_factors[0]),\n",
    "                       int(semantic.shape[1] * scale_factors[1]),\n",
    "                       int(semantic.shape[2] * scale_factors[2]))\n",
    "        segm = resize(segm, target_size, order=0, anti_aliasing=False, preserve_range=True)\n",
    "\n",
    "    if not return_seed:\n",
    "        return cast2dtype(segm)\n",
    "\n",
    "    return cast2dtype(segm), seed\n",
    "\n",
    "\n",
    "def bc_watershed(volume, thres1=0.9, thres2=0.8, thres3=0.85, thres_small=128, scale_factors=(1.0, 1.0, 1.0),\n",
    "                 remove_small_mode='background', seed_thres=32):\n",
    "    r\"\"\"Convert binary foreground probability maps and instance contours to\n",
    "    instance masks via watershed segmentation algorithm.\n",
    "\n",
    "    Note:\n",
    "        This function uses the `skimage.segmentation.watershed <https://github.com/scikit-image/scikit-image/blob/master/skimage/segmentation/_watershed.py#L89>`_\n",
    "        function that converts the input image into ``np.float64`` data type for processing. Therefore please make sure enough memory is allocated when handling large arrays.\n",
    "\n",
    "    Args:\n",
    "        volume (numpy.ndarray): foreground and contour probability of shape :math:`(C, Z, Y, X)`.\n",
    "        thres1 (float): threshold of seeds. Default: 0.9\n",
    "        thres2 (float): threshold of instance contours. Default: 0.8\n",
    "        thres3 (float): threshold of foreground. Default: 0.85\n",
    "        thres_small (int): size threshold of small objects to remove. Default: 128\n",
    "        scale_factors (tuple): scale factors for resizing in :math:`(Z, Y, X)` order. Default: (1.0, 1.0, 1.0)\n",
    "        remove_small_mode (str): ``'background'``, ``'neighbor'`` or ``'none'``. Default: ``'background'``\n",
    "    \"\"\"\n",
    "    assert volume.shape[0] == 2\n",
    "    semantic = volume[0]\n",
    "    boundary = volume[1]\n",
    "    seed_map = (semantic > int(255 * thres1)) * (boundary < int(255 * thres2))\n",
    "    foreground = (semantic > int(255 * thres3))\n",
    "    seed = label(seed_map)\n",
    "    seed = remove_small_objects(seed, seed_thres)\n",
    "    segm = watershed(-semantic.astype(np.float64), seed, mask=foreground)\n",
    "    segm = remove_small_instances(segm, thres_small, remove_small_mode)\n",
    "\n",
    "    if not all(x == 1.0 for x in scale_factors):\n",
    "        target_size = (int(semantic.shape[0] * scale_factors[0]),\n",
    "                       int(semantic.shape[1] * scale_factors[1]),\n",
    "                       int(semantic.shape[2] * scale_factors[2]))\n",
    "        segm = resize(segm, target_size, order=0, anti_aliasing=False, preserve_range=True)\n",
    "\n",
    "    return cast2dtype(segm)\n",
    "\n",
    "\n",
    "def remove_small_instances(segm: np.ndarray,\n",
    "                           thres_small: int = 128,\n",
    "                           mode: str = 'background'):\n",
    "    \"\"\"Remove small spurious instances.\n",
    "    \"\"\"\n",
    "    assert mode in ['none',\n",
    "                    'background',\n",
    "                    'background_2d',\n",
    "                    'neighbor',\n",
    "                    'neighbor_2d']\n",
    "\n",
    "    if mode == 'none':\n",
    "        return segm\n",
    "\n",
    "    if mode == 'background':\n",
    "        return remove_small_objects(segm, thres_small)\n",
    "    elif mode == 'background_2d':\n",
    "        temp = [remove_small_objects(segm[i], thres_small)\n",
    "                for i in range(segm.shape[0])]\n",
    "        return np.stack(temp, axis=0)\n",
    "\n",
    "    if mode == 'neighbor':\n",
    "        return merge_small_objects(segm, thres_small, do_3d=True)\n",
    "    elif mode == 'neighbor_2d':\n",
    "        temp = [merge_small_objects(segm[i], thres_small)\n",
    "                for i in range(segm.shape[0])]\n",
    "        return np.stack(temp, axis=0)\n",
    "\n",
    "\n",
    "def merge_small_objects(segm, thres_small, do_3d=False):\n",
    "    struct = np.ones((1,3,3)) if do_3d else np.ones((3,3))\n",
    "    indices, counts = np.unique(segm, return_counts=True)\n",
    "\n",
    "    for i in range(len(indices)):\n",
    "        idx = indices[i]\n",
    "        if counts[i] < thres_small:\n",
    "            temp = (segm == idx).astype(np.uint8)\n",
    "            coord = bbox_ND(temp, relax=2)\n",
    "            cropped = crop_ND(temp, coord)\n",
    "\n",
    "            diff = dilation(cropped, struct) - cropped\n",
    "            diff_segm = crop_ND(segm, coord)\n",
    "            diff_segm[np.where(diff==0)]=0\n",
    "\n",
    "            u, ct = np.unique(diff_segm, return_counts=True)\n",
    "            if len(u) > 1 and u[0] == 0:\n",
    "                u, ct = u[1:], ct[1:]\n",
    "\n",
    "            segm[np.where(segm==idx)] = u[np.argmax(ct)]\n",
    "\n",
    "    return segm\n",
    "\n",
    "\n",
    "def cast2dtype(segm):\n",
    "    \"\"\"Cast the segmentation mask to the best dtype to save storage.\n",
    "    \"\"\"\n",
    "    max_id = np.amax(np.unique(segm))\n",
    "    m_type = getSegType(int(max_id))\n",
    "    return segm.astype(m_type)\n",
    "\n",
    "\n",
    "def getSegType(mid):\n",
    "    # reduce the label dtype\n",
    "    m_type = np.uint64\n",
    "    if mid < 2**8:\n",
    "        m_type = np.uint8\n",
    "    elif mid < 2**16:\n",
    "        m_type = np.uint16\n",
    "    elif mid < 2**32:\n",
    "        m_type = np.uint32\n",
    "    return m_type\n",
    "\n",
    "\n",
    "def crop_ND(img: np.ndarray, coord: Tuple[int]) -> np.ndarray:\n",
    "    N = img.ndim\n",
    "    assert len(coord) == N * 2\n",
    "    slicing = []\n",
    "    for i in range(N):\n",
    "        slicing.append(slice(coord[2*i], coord[2*i+1]))\n",
    "    slicing = tuple(slicing)\n",
    "    return img[slicing].copy()\n",
    "\n",
    "\n",
    "def bbox_ND(img: np.ndarray, relax: int = 0) -> tuple:\n",
    "    \"\"\"Calculate the bounding box of an object in a N-dimensional\n",
    "    numpy array. All non-zero elements are treated as foregounrd.\n",
    "    Reference: https://stackoverflow.com/a/31402351\n",
    "\n",
    "    Args:\n",
    "        img (np.ndarray): a N-dimensional array with zero as background.\n",
    "\n",
    "    Returns:\n",
    "        tuple: N-dimensional bounding box coordinates.\n",
    "    \"\"\"\n",
    "    N = img.ndim\n",
    "    out = []\n",
    "    for ax in itertools.combinations(reversed(range(N)), N - 1):\n",
    "        nonzero = np.any(img, axis=ax)\n",
    "        out.extend(np.where(nonzero)[0][[0, -1]])\n",
    "\n",
    "    return bbox_relax(out, img.shape, relax)\n",
    "\n",
    "\n",
    "def bbox_relax(coord: Union[tuple, list],\n",
    "               shape: tuple,\n",
    "               relax: int = 0) -> tuple:\n",
    "\n",
    "    assert len(coord) == len(shape) * 2\n",
    "    coord = list(coord)\n",
    "    for i in range(len(shape)):\n",
    "        coord[2*i] = max(0, coord[2*i]-relax)\n",
    "        coord[2*i+1] = min(shape[i], coord[2*i+1]+relax)\n",
    "\n",
    "    return tuple(coord)"
   ]
  },
  {
   "cell_type": "code",
   "execution_count": 20,
   "id": "e990ab86",
   "metadata": {
    "execution": {
     "iopub.execute_input": "2021-12-23T16:36:01.664566Z",
     "iopub.status.busy": "2021-12-23T16:36:01.663477Z",
     "iopub.status.idle": "2021-12-23T16:36:01.741566Z",
     "shell.execute_reply": "2021-12-23T16:36:01.741058Z",
     "shell.execute_reply.started": "2021-12-23T16:00:41.57398Z"
    },
    "papermill": {
     "duration": 0.112118,
     "end_time": "2021-12-23T16:36:01.741700",
     "exception": false,
     "start_time": "2021-12-23T16:36:01.629582",
     "status": "completed"
    },
    "tags": []
   },
   "outputs": [],
   "source": [
    "mask_contour=np.zeros((len(df_all),2,520,704)) \n",
    "for i in range(len(df_all)):\n",
    "    mask_contour[i][0] = predicted_masks_list[i]\n",
    "    mask_contour[i][1] = predicted_contour_list[i]\n",
    "mask_contour = mask_contour * 255\n",
    "del predicted_masks_list\n",
    "del predicted_contour_list\n",
    "watershed_result = np.zeros((len(df_all),520,704)) \n",
    "for i in range(len(df_all)):\n",
    "    watershed_result[i] = bc_watershed(mask_contour[i], thres1=0.6, thres2=0.6, thres3=0.6, thres_small=32, scale_factors=(1.0, 1.0, 1.0),\n",
    "                 remove_small_mode='background', seed_thres=16)\n"
   ]
  },
  {
   "cell_type": "code",
   "execution_count": 21,
   "id": "4b98c3ae",
   "metadata": {
    "execution": {
     "iopub.execute_input": "2021-12-23T16:36:01.803077Z",
     "iopub.status.busy": "2021-12-23T16:36:01.802417Z",
     "iopub.status.idle": "2021-12-23T16:36:01.805932Z",
     "shell.execute_reply": "2021-12-23T16:36:01.805464Z",
     "shell.execute_reply.started": "2021-12-23T16:00:43.234017Z"
    },
    "papermill": {
     "duration": 0.036404,
     "end_time": "2021-12-23T16:36:01.806045",
     "exception": false,
     "start_time": "2021-12-23T16:36:01.769641",
     "status": "completed"
    },
    "tags": []
   },
   "outputs": [],
   "source": [
    "def rle_encode(img):\n",
    "    \"\"\"\n",
    "    img: numpy array, 1 - mask, 0 - background\n",
    "    Returns run length as string formated\n",
    "    \"\"\"\n",
    "    pixels = img.flatten()\n",
    "    pixels = np.concatenate([[0], pixels, [0]])\n",
    "    runs = np.where(pixels[1:] != pixels[:-1])[0] + 1\n",
    "    runs[1::2] -= runs[::2]\n",
    "    return ' '.join(str(x) for x in runs)"
   ]
  },
  {
   "cell_type": "code",
   "execution_count": 22,
   "id": "62694afc",
   "metadata": {
    "execution": {
     "iopub.execute_input": "2021-12-23T16:36:01.866319Z",
     "iopub.status.busy": "2021-12-23T16:36:01.865796Z",
     "iopub.status.idle": "2021-12-23T16:36:02.704093Z",
     "shell.execute_reply": "2021-12-23T16:36:02.703166Z",
     "shell.execute_reply.started": "2021-12-23T16:00:48.007249Z"
    },
    "papermill": {
     "duration": 0.870529,
     "end_time": "2021-12-23T16:36:02.704239",
     "exception": false,
     "start_time": "2021-12-23T16:36:01.833710",
     "status": "completed"
    },
    "tags": []
   },
   "outputs": [],
   "source": [
    "result = [[] for i in range(len(df_all)) ]\n",
    "for p in range(len(df_all)):\n",
    "    for i in range(1,int(watershed_result[p].max())+1):\n",
    "        temp = np.where(watershed_result[p]==i,1,0)\n",
    "        if temp.sum() == 0:\n",
    "            continue\n",
    "        encode = rle_encode(temp)\n",
    "        result[p].append(encode)\n",
    "    "
   ]
  },
  {
   "cell_type": "code",
   "execution_count": 23,
   "id": "d3cb73b8",
   "metadata": {
    "execution": {
     "iopub.execute_input": "2021-12-23T16:36:02.766735Z",
     "iopub.status.busy": "2021-12-23T16:36:02.765183Z",
     "iopub.status.idle": "2021-12-23T16:36:02.767357Z",
     "shell.execute_reply": "2021-12-23T16:36:02.767752Z",
     "shell.execute_reply.started": "2021-12-23T16:00:58.994569Z"
    },
    "papermill": {
     "duration": 0.035431,
     "end_time": "2021-12-23T16:36:02.767996",
     "exception": false,
     "start_time": "2021-12-23T16:36:02.732565",
     "status": "completed"
    },
    "tags": []
   },
   "outputs": [],
   "source": [
    "submit = []\n",
    "for i in range(len(df_all)):\n",
    "    for j in range(len(result[i])):\n",
    "        submit.append([names[i], result[i][j]])\n"
   ]
  },
  {
   "cell_type": "code",
   "execution_count": 24,
   "id": "3277ed3d",
   "metadata": {
    "execution": {
     "iopub.execute_input": "2021-12-23T16:36:02.828293Z",
     "iopub.status.busy": "2021-12-23T16:36:02.827548Z",
     "iopub.status.idle": "2021-12-23T16:36:02.836700Z",
     "shell.execute_reply": "2021-12-23T16:36:02.836300Z",
     "shell.execute_reply.started": "2021-12-23T16:05:19.173003Z"
    },
    "papermill": {
     "duration": 0.041468,
     "end_time": "2021-12-23T16:36:02.836834",
     "exception": false,
     "start_time": "2021-12-23T16:36:02.795366",
     "status": "completed"
    },
    "tags": []
   },
   "outputs": [],
   "source": [
    "import pandas as pd \n",
    "col_name = ['id','predicted']\n",
    "test=pd.DataFrame(data=submit,index=None,columns=col_name)#数据有三列，列名分别为one,two,three\n",
    "test\n",
    "test.to_csv('./submission.csv',index=False)"
   ]
  },
  {
   "cell_type": "code",
   "execution_count": null,
   "id": "66013404",
   "metadata": {
    "papermill": {
     "duration": 0.028043,
     "end_time": "2021-12-23T16:36:02.892376",
     "exception": false,
     "start_time": "2021-12-23T16:36:02.864333",
     "status": "completed"
    },
    "tags": []
   },
   "outputs": [],
   "source": []
  },
  {
   "cell_type": "code",
   "execution_count": 25,
   "id": "2b2114cb",
   "metadata": {
    "execution": {
     "iopub.execute_input": "2021-12-23T16:36:02.952041Z",
     "iopub.status.busy": "2021-12-23T16:36:02.950516Z",
     "iopub.status.idle": "2021-12-23T16:36:02.952660Z",
     "shell.execute_reply": "2021-12-23T16:36:02.953096Z",
     "shell.execute_reply.started": "2021-12-23T15:00:03.276863Z"
    },
    "papermill": {
     "duration": 0.033151,
     "end_time": "2021-12-23T16:36:02.953215",
     "exception": false,
     "start_time": "2021-12-23T16:36:02.920064",
     "status": "completed"
    },
    "tags": []
   },
   "outputs": [],
   "source": [
    "# x2=np.zeros((3,test_dataset.row_sum * test_dataset.patch_size,test_dataset.col_sum * test_dataset.patch_size)) \n",
    "# x2[0] = predicted_masks_list[0]\n",
    "# x2[1] = predicted_contour_list[0]\n",
    "# x2 = x2*255\n",
    "# x2[2] = predicted_distance_list[0]\n",
    "\n",
    "# x2 = bcd_watershed(x2)\n"
   ]
  },
  {
   "cell_type": "code",
   "execution_count": 26,
   "id": "43956f9e",
   "metadata": {
    "execution": {
     "iopub.execute_input": "2021-12-23T16:36:03.011875Z",
     "iopub.status.busy": "2021-12-23T16:36:03.011311Z",
     "iopub.status.idle": "2021-12-23T16:36:03.014931Z",
     "shell.execute_reply": "2021-12-23T16:36:03.014504Z",
     "shell.execute_reply.started": "2021-12-23T15:00:04.64352Z"
    },
    "papermill": {
     "duration": 0.03398,
     "end_time": "2021-12-23T16:36:03.015038",
     "exception": false,
     "start_time": "2021-12-23T16:36:02.981058",
     "status": "completed"
    },
    "tags": []
   },
   "outputs": [],
   "source": [
    "# plt.imshow(x2[:520,:704],cmap='jet')\n",
    "# plt.show()"
   ]
  },
  {
   "cell_type": "markdown",
   "id": "461e256d",
   "metadata": {
    "papermill": {
     "duration": 0.027533,
     "end_time": "2021-12-23T16:36:03.070258",
     "exception": false,
     "start_time": "2021-12-23T16:36:03.042725",
     "status": "completed"
    },
    "tags": []
   },
   "source": [
    "# predicting on test set is finish, waiting for next step"
   ]
  }
 ],
 "metadata": {
  "kernelspec": {
   "display_name": "Python 3",
   "language": "python",
   "name": "python3"
  },
  "language_info": {
   "codemirror_mode": {
    "name": "ipython",
    "version": 3
   },
   "file_extension": ".py",
   "mimetype": "text/x-python",
   "name": "python",
   "nbconvert_exporter": "python",
   "pygments_lexer": "ipython3",
   "version": "3.7.10"
  },
  "papermill": {
   "default_parameters": {},
   "duration": 28.469271,
   "end_time": "2021-12-23T16:36:05.366095",
   "environment_variables": {},
   "exception": null,
   "input_path": "__notebook__.ipynb",
   "output_path": "__notebook__.ipynb",
   "parameters": {},
   "start_time": "2021-12-23T16:35:36.896824",
   "version": "2.3.3"
  }
 },
 "nbformat": 4,
 "nbformat_minor": 5
}
