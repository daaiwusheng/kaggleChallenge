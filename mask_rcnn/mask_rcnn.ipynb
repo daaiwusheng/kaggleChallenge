{
  "cells": [
    {
      "cell_type": "code",
      "source": [
        "gpu_info = !nvidia-smi\n",
        "gpu_info = '\\n'.join(gpu_info)\n",
        "if gpu_info.find('failed') >= 0:\n",
        "  print('Select the Runtime > \"Change runtime type\" menu to enable a GPU accelerator, ')\n",
        "  print('and then re-execute this cell.')\n",
        "else:\n",
        "  print(gpu_info)"
      ],
      "metadata": {
        "colab": {
          "base_uri": "https://localhost:8080/"
        },
        "id": "BHp4cZA16tcL",
        "outputId": "40b812c6-6731-4cee-d834-11bd695afa16"
      },
      "id": "BHp4cZA16tcL",
      "execution_count": 1,
      "outputs": [
        {
          "output_type": "stream",
          "name": "stdout",
          "text": [
            "Fri Dec 24 14:53:18 2021       \n",
            "+-----------------------------------------------------------------------------+\n",
            "| NVIDIA-SMI 495.44       Driver Version: 460.32.03    CUDA Version: 11.2     |\n",
            "|-------------------------------+----------------------+----------------------+\n",
            "| GPU  Name        Persistence-M| Bus-Id        Disp.A | Volatile Uncorr. ECC |\n",
            "| Fan  Temp  Perf  Pwr:Usage/Cap|         Memory-Usage | GPU-Util  Compute M. |\n",
            "|                               |                      |               MIG M. |\n",
            "|===============================+======================+======================|\n",
            "|   0  Tesla P100-PCIE...  Off  | 00000000:00:04.0 Off |                    0 |\n",
            "| N/A   55C    P0    47W / 250W |      0MiB / 16280MiB |      0%      Default |\n",
            "|                               |                      |                  N/A |\n",
            "+-------------------------------+----------------------+----------------------+\n",
            "                                                                               \n",
            "+-----------------------------------------------------------------------------+\n",
            "| Processes:                                                                  |\n",
            "|  GPU   GI   CI        PID   Type   Process name                  GPU Memory |\n",
            "|        ID   ID                                                   Usage      |\n",
            "|=============================================================================|\n",
            "|  No running processes found                                                 |\n",
            "+-----------------------------------------------------------------------------+\n"
          ]
        }
      ]
    },
    {
      "cell_type": "code",
      "source": [
        "# from google.colab import drive\n",
        "# drive.mount('/content/drive')"
      ],
      "metadata": {
        "id": "uEXIvgwH5FKR"
      },
      "id": "uEXIvgwH5FKR",
      "execution_count": 2,
      "outputs": []
    },
    {
      "cell_type": "code",
      "source": [
        "# !mkdir cell\n",
        "# !7z x -aos /content/drive/MyDrive/cell/cell.zip -o/content/cell"
      ],
      "metadata": {
        "id": "C__6M_9g5Cpz"
      },
      "id": "C__6M_9g5Cpz",
      "execution_count": 3,
      "outputs": []
    },
    {
      "cell_type": "markdown",
      "id": "db334f10",
      "metadata": {
        "id": "db334f10",
        "papermill": {
          "duration": 0.034041,
          "end_time": "2021-11-08T17:09:32.829117",
          "exception": false,
          "start_time": "2021-11-08T17:09:32.795076",
          "status": "completed"
        },
        "tags": []
      },
      "source": [
        "## Imports"
      ]
    },
    {
      "cell_type": "code",
      "execution_count": 4,
      "id": "9d24944a",
      "metadata": {
        "_cell_guid": "b1076dfc-b9ad-4769-8c92-a6c4dae69d19",
        "_uuid": "8f2839f25d086af736a60e9eeb907d3b93b6e0e5",
        "execution": {
          "iopub.execute_input": "2021-11-08T17:09:32.902564Z",
          "iopub.status.busy": "2021-11-08T17:09:32.900470Z",
          "iopub.status.idle": "2021-11-08T17:09:36.334158Z",
          "shell.execute_reply": "2021-11-08T17:09:36.333329Z",
          "shell.execute_reply.started": "2021-11-08T00:07:05.252427Z"
        },
        "id": "9d24944a",
        "papermill": {
          "duration": 3.474726,
          "end_time": "2021-11-08T17:09:36.334385",
          "exception": false,
          "start_time": "2021-11-08T17:09:32.859659",
          "status": "completed"
        },
        "tags": []
      },
      "outputs": [],
      "source": [
        "# The notebooks is self-contained\n",
        "# It has very few imports\n",
        "# No external dependencies (only the model weights)\n",
        "# No train - inference notebooks\n",
        "# We only rely on Pytorch\n",
        "import os\n",
        "import random\n",
        "import time\n",
        "import collections\n",
        "import numpy as np\n",
        "import pandas as pd\n",
        "import matplotlib.pyplot as plt\n",
        "import cv2\n",
        "from sklearn.model_selection import train_test_split\n",
        "from tqdm.notebook import tqdm\n",
        "\n",
        "import torch\n",
        "import torchvision\n",
        "from torchvision.transforms import ToPILImage\n",
        "from torchvision.transforms import functional as F\n",
        "from torch.utils.data import Dataset, DataLoader\n",
        "from torchvision.models.detection.faster_rcnn import FastRCNNPredictor\n",
        "from torchvision.models.detection.mask_rcnn import MaskRCNNPredictor"
      ]
    },
    {
      "cell_type": "code",
      "execution_count": 5,
      "id": "cfd13ed0",
      "metadata": {
        "execution": {
          "iopub.execute_input": "2021-11-08T17:09:36.402716Z",
          "iopub.status.busy": "2021-11-08T17:09:36.401960Z",
          "iopub.status.idle": "2021-11-08T17:09:36.464779Z",
          "shell.execute_reply": "2021-11-08T17:09:36.464143Z",
          "shell.execute_reply.started": "2021-11-08T00:07:05.263161Z"
        },
        "id": "cfd13ed0",
        "papermill": {
          "duration": 0.100208,
          "end_time": "2021-11-08T17:09:36.464950",
          "exception": false,
          "start_time": "2021-11-08T17:09:36.364742",
          "status": "completed"
        },
        "tags": []
      },
      "outputs": [],
      "source": [
        "# Fix randomness\n",
        "\n",
        "def fix_all_seeds(seed):\n",
        "    np.random.seed(seed)\n",
        "    random.seed(seed)\n",
        "    os.environ['PYTHONHASHSEED'] = str(seed)\n",
        "    torch.manual_seed(seed)\n",
        "    torch.cuda.manual_seed(seed)\n",
        "    if torch.cuda.is_available():\n",
        "        torch.cuda.manual_seed_all(seed)\n",
        "        torch.backends.cudnn.deterministic = True\n",
        "    \n",
        "fix_all_seeds(2021)"
      ]
    },
    {
      "cell_type": "markdown",
      "id": "ba0b20f0",
      "metadata": {
        "id": "ba0b20f0",
        "papermill": {
          "duration": 0.02957,
          "end_time": "2021-11-08T17:09:36.525848",
          "exception": false,
          "start_time": "2021-11-08T17:09:36.496278",
          "status": "completed"
        },
        "tags": []
      },
      "source": [
        "## Configuration"
      ]
    },
    {
      "cell_type": "code",
      "execution_count": 6,
      "id": "06a92e3b",
      "metadata": {
        "execution": {
          "iopub.execute_input": "2021-11-08T17:09:36.599778Z",
          "iopub.status.busy": "2021-11-08T17:09:36.598560Z",
          "iopub.status.idle": "2021-11-08T17:09:36.600729Z",
          "shell.execute_reply": "2021-11-08T17:09:36.601366Z",
          "shell.execute_reply.started": "2021-11-08T00:07:05.274261Z"
        },
        "id": "06a92e3b",
        "lines_to_next_cell": 1,
        "papermill": {
          "duration": 0.045722,
          "end_time": "2021-11-08T17:09:36.601561",
          "exception": false,
          "start_time": "2021-11-08T17:09:36.555839",
          "status": "completed"
        },
        "tags": []
      },
      "outputs": [],
      "source": [
        "# Reduced the train dataset to 5000 rows\n",
        "TEST = False\n",
        "\n",
        "if os.path.exists(\"../input/sartorius-cell-instance-segmentation\"):\n",
        "    # running on kaggle\n",
        "    data_directory = '../input/sartorius-cell-instance-segmentation'\n",
        "    DEVICE = torch.device('cuda') if torch.cuda.is_available() else torch.device('cpu')\n",
        "    BATCH_SIZE = 2\n",
        "    NUM_EPOCHS = 30\n",
        "\n",
        "elif 'google.colab' in str(get_ipython()):\n",
        "    # running on CoLab\n",
        "    from google.colab import drive\n",
        "    # drive.mount('/content/drive')\n",
        "    data_directory = '/content/cell'\n",
        "    DEVICE = torch.device('cuda') if torch.cuda.is_available() else torch.device('cpu')\n",
        "    BATCH_SIZE = 2\n",
        "    NUM_EPOCHS = 50\n",
        "    \n",
        "else:\n",
        "    data_directory = 'input'\n",
        "    DEVICE = torch.device('cpu')\n",
        "    BATCH_SIZE = 2\n",
        "    NUM_EPOCHS = 1\n",
        "    TEST = True\n",
        "\n",
        "TRAIN_CSV = f\"{data_directory}/train.csv\"\n",
        "TRAIN_PATH = f\"{data_directory}/train\"\n",
        "TEST_PATH = f\"{data_directory}/test\"\n",
        "\n",
        "WIDTH = 704\n",
        "HEIGHT = 520\n",
        "\n",
        "resize_factor = False # 0.5\n",
        "\n",
        "# Normalize to resnet mean and std if True.\n",
        "NORMALIZE = False\n",
        "RESNET_MEAN = (0.485, 0.456, 0.406)\n",
        "RESNET_STD = (0.229, 0.224, 0.225)\n",
        "\n",
        "# No changes tried with the optimizer yet.\n",
        "MOMENTUM = 0.9\n",
        "LEARNING_RATE = 0.001\n",
        "WEIGHT_DECAY = 0.0005\n",
        "\n",
        "# Changes the confidence required for a pixel to be kept for a mask. \n",
        "# Only used 0.5 till now.\n",
        "# MASK_THRESHOLD = 0.5\n",
        "# MIN_SCORE = 0.5\n",
        "# cell type specific thresholds\n",
        "cell_type_dict = {\"astro\": 1, \"cort\": 2, \"shsy5y\": 3}\n",
        "mask_threshold_dict = {1: 0.55, 2: 0.75, 3:  0.6}\n",
        "min_score_dict = {1: 0.55, 2: 0.75, 3: 0.5}\n",
        "\n",
        "# Use a StepLR scheduler if True. \n",
        "USE_SCHEDULER = False\n",
        "\n",
        "PCT_IMAGES_VALIDATION = 0.075\n",
        "\n",
        "BOX_DETECTIONS_PER_IMG = 540"
      ]
    },
    {
      "cell_type": "markdown",
      "id": "f97cb4d9",
      "metadata": {
        "id": "f97cb4d9",
        "papermill": {
          "duration": 0.030363,
          "end_time": "2021-11-08T17:09:36.662342",
          "exception": false,
          "start_time": "2021-11-08T17:09:36.631979",
          "status": "completed"
        },
        "tags": []
      },
      "source": [
        "## Utilities"
      ]
    },
    {
      "cell_type": "code",
      "execution_count": 7,
      "id": "6e08872a",
      "metadata": {
        "execution": {
          "iopub.execute_input": "2021-11-08T17:09:36.742972Z",
          "iopub.status.busy": "2021-11-08T17:09:36.741798Z",
          "iopub.status.idle": "2021-11-08T17:09:36.745217Z",
          "shell.execute_reply": "2021-11-08T17:09:36.744610Z",
          "shell.execute_reply.started": "2021-11-08T00:07:05.294068Z"
        },
        "papermill": {
          "duration": 0.051878,
          "end_time": "2021-11-08T17:09:36.745399",
          "exception": false,
          "start_time": "2021-11-08T17:09:36.693521",
          "status": "completed"
        },
        "tags": [],
        "id": "6e08872a"
      },
      "outputs": [],
      "source": [
        "# ref: https://www.kaggle.com/inversion/run-length-decoding-quick-start\n",
        "def rle_decode(mask_rle, shape, color=1):\n",
        "    '''\n",
        "    mask_rle: run-length as string formated (start length)\n",
        "    shape: (height, width, channels) of array to return\n",
        "    color: color for the mask\n",
        "    Returns numpy array (mask)\n",
        "\n",
        "    '''\n",
        "    s = mask_rle.split()\n",
        "\n",
        "    starts = list(map(lambda x: int(x) - 1, s[0::2]))\n",
        "    lengths = list(map(int, s[1::2]))\n",
        "    ends = [x + y for x, y in zip(starts, lengths)]\n",
        "    if len(shape)==3:\n",
        "        img = np.zeros((shape[0] * shape[1], shape[2]), dtype=np.float32)\n",
        "    else:\n",
        "        img = np.zeros(shape[0] * shape[1], dtype=np.float32)\n",
        "    for start, end in zip(starts, ends):\n",
        "        img[start : end] = color\n",
        "\n",
        "    return img.reshape(shape)\n",
        "\n",
        "\n",
        "def rle_encoding(x):\n",
        "    dots = np.where(x.flatten() == 1)[0]\n",
        "    run_lengths = []\n",
        "    prev = -2\n",
        "    for b in dots:\n",
        "        if (b>prev+1): run_lengths.extend((b + 1, 0))\n",
        "        run_lengths[-1] += 1\n",
        "        prev = b\n",
        "    return ' '.join(map(str, run_lengths))\n",
        "\n",
        "\n",
        "def remove_overlapping_pixels(mask, other_masks):\n",
        "    for other_mask in other_masks:\n",
        "        if np.sum(np.logical_and(mask, other_mask)) > 0:\n",
        "            mask[np.logical_and(mask, other_mask)] = 0\n",
        "    return mask\n",
        "\n",
        "def combine_masks(masks, mask_threshold):\n",
        "    \"\"\"\n",
        "    combine masks into one image\n",
        "    \"\"\"\n",
        "    maskimg = np.zeros((HEIGHT, WIDTH))\n",
        "    # print(len(masks.shape), masks.shape)\n",
        "    for m, mask in enumerate(masks,1):\n",
        "        maskimg[mask>mask_threshold] = m\n",
        "    return maskimg\n",
        "\n",
        "\n",
        "def get_filtered_masks(pred):\n",
        "    \"\"\"\n",
        "    filter masks using MIN_SCORE for mask and MAX_THRESHOLD for pixels\n",
        "    \"\"\"\n",
        "    use_masks = []   \n",
        "    for i, mask in enumerate(pred[\"masks\"]):\n",
        "\n",
        "        # Filter-out low-scoring results. Not tried yet.\n",
        "        scr = pred[\"scores\"][i].cpu().item()\n",
        "        label = pred[\"labels\"][i].cpu().item()\n",
        "        if scr > min_score_dict[label]:\n",
        "            mask = mask.cpu().numpy().squeeze()\n",
        "            # Keep only highly likely pixels\n",
        "            binary_mask = mask > mask_threshold_dict[label]\n",
        "            binary_mask = remove_overlapping_pixels(binary_mask, use_masks)\n",
        "            use_masks.append(binary_mask)\n",
        "\n",
        "    return use_masks\n"
      ]
    },
    {
      "cell_type": "markdown",
      "id": "8a933b96",
      "metadata": {
        "papermill": {
          "duration": 0.029666,
          "end_time": "2021-11-08T17:09:36.805080",
          "exception": false,
          "start_time": "2021-11-08T17:09:36.775414",
          "status": "completed"
        },
        "tags": [],
        "id": "8a933b96"
      },
      "source": [
        "### Metric: mean of the precision values at each IoU threshold\n",
        "\n",
        "Ref: https://www.kaggle.com/theoviel/competition-metric-map-iou"
      ]
    },
    {
      "cell_type": "code",
      "execution_count": 8,
      "id": "c0ab8f55",
      "metadata": {
        "execution": {
          "iopub.execute_input": "2021-11-08T17:09:36.889429Z",
          "iopub.status.busy": "2021-11-08T17:09:36.888055Z",
          "iopub.status.idle": "2021-11-08T17:09:36.890437Z",
          "shell.execute_reply": "2021-11-08T17:09:36.890978Z",
          "shell.execute_reply.started": "2021-11-08T00:07:05.313683Z"
        },
        "papermill": {
          "duration": 0.055242,
          "end_time": "2021-11-08T17:09:36.891164",
          "exception": false,
          "start_time": "2021-11-08T17:09:36.835922",
          "status": "completed"
        },
        "tags": [],
        "id": "c0ab8f55"
      },
      "outputs": [],
      "source": [
        "def compute_iou(labels, y_pred, verbose=0):\n",
        "    \"\"\"\n",
        "    Computes the IoU for instance labels and predictions.\n",
        "\n",
        "    Args:\n",
        "        labels (np array): Labels.\n",
        "        y_pred (np array): predictions\n",
        "\n",
        "    Returns:\n",
        "        np array: IoU matrix, of size true_objects x pred_objects.\n",
        "    \"\"\"\n",
        "\n",
        "    true_objects = len(np.unique(labels))\n",
        "    pred_objects = len(np.unique(y_pred))\n",
        "\n",
        "    if verbose:\n",
        "        print(\"Number of true objects: {}\".format(true_objects))\n",
        "        print(\"Number of predicted objects: {}\".format(pred_objects))\n",
        "\n",
        "    # Compute intersection between all objects\n",
        "    intersection = np.histogram2d(\n",
        "        labels.flatten(), y_pred.flatten(), bins=(true_objects, pred_objects)\n",
        "    )[0]\n",
        "\n",
        "    # Compute areas (needed for finding the union between all objects)\n",
        "    area_true = np.histogram(labels, bins=true_objects)[0]\n",
        "    area_pred = np.histogram(y_pred, bins=pred_objects)[0]\n",
        "    area_true = np.expand_dims(area_true, -1)\n",
        "    area_pred = np.expand_dims(area_pred, 0)\n",
        "\n",
        "    # Compute union\n",
        "    union = area_true + area_pred - intersection\n",
        "    intersection = intersection[1:, 1:] # exclude background\n",
        "    union = union[1:, 1:]\n",
        "    union[union == 0] = 1e-9\n",
        "    iou = intersection / union\n",
        "    \n",
        "    return iou  \n",
        "\n",
        "def precision_at(threshold, iou):\n",
        "    \"\"\"\n",
        "    Computes the precision at a given threshold.\n",
        "\n",
        "    Args:\n",
        "        threshold (float): Threshold.\n",
        "        iou (np array): IoU matrix.\n",
        "\n",
        "    Returns:\n",
        "        int: Number of true positives,\n",
        "        int: Number of false positives,\n",
        "        int: Number of false negatives.\n",
        "    \"\"\"\n",
        "    matches = iou > threshold\n",
        "    true_positives = np.sum(matches, axis=1) == 1  # Correct objects\n",
        "    false_positives = np.sum(matches, axis=0) == 0  # Missed objects\n",
        "    false_negatives = np.sum(matches, axis=1) == 0  # Extra objects\n",
        "    tp, fp, fn = (\n",
        "        np.sum(true_positives),\n",
        "        np.sum(false_positives),\n",
        "        np.sum(false_negatives),\n",
        "    )\n",
        "    return tp, fp, fn\n",
        "\n",
        "def iou_map(truths, preds, verbose=0):\n",
        "    \"\"\"\n",
        "    Computes the metric for the competition.\n",
        "    Masks contain the segmented pixels where each object has one value associated,\n",
        "    and 0 is the background.\n",
        "\n",
        "    Args:\n",
        "        truths (list of masks): Ground truths.\n",
        "        preds (list of masks): Predictions.\n",
        "        verbose (int, optional): Whether to print infos. Defaults to 0.\n",
        "\n",
        "    Returns:\n",
        "        float: mAP.\n",
        "    \"\"\"\n",
        "    ious = [compute_iou(truth, pred, verbose) for truth, pred in zip(truths, preds)]\n",
        "\n",
        "    if verbose:\n",
        "        print(\"Thresh\\tTP\\tFP\\tFN\\tPrec.\")\n",
        "\n",
        "    prec = []\n",
        "    for t in np.arange(0.5, 1.0, 0.05):\n",
        "        tps, fps, fns = 0, 0, 0\n",
        "        for iou in ious:\n",
        "            tp, fp, fn = precision_at(t, iou)\n",
        "            tps += tp\n",
        "            fps += fp\n",
        "            fns += fn\n",
        "\n",
        "        p = tps / (tps + fps + fns)\n",
        "        prec.append(p)\n",
        "\n",
        "        if verbose:\n",
        "            print(\"{:1.3f}\\t{}\\t{}\\t{}\\t{:1.3f}\".format(t, tps, fps, fns, p))\n",
        "\n",
        "    if verbose:\n",
        "        print(\"AP\\t-\\t-\\t-\\t{:1.3f}\".format(np.mean(prec)))\n",
        "\n",
        "    return np.mean(prec)\n",
        "\n",
        "\n",
        "def get_score(ds, mdl):\n",
        "    \"\"\"\n",
        "    Get average IOU mAP score for a dataset\n",
        "    \"\"\"\n",
        "    mdl.eval()\n",
        "    iouscore = 0\n",
        "    for i in tqdm(range(len(ds))):\n",
        "        img, targets = ds[i]\n",
        "        with torch.no_grad():\n",
        "            result = mdl([img.to(DEVICE)])[0]\n",
        "            \n",
        "        masks = combine_masks(targets['masks'], 0.5)\n",
        "        labels = pd.Series(result['labels'].cpu().numpy()).value_counts()\n",
        "\n",
        "        mask_threshold = mask_threshold_dict[labels.sort_values().index[-1]]\n",
        "        pred_masks = combine_masks(get_filtered_masks(result), mask_threshold)\n",
        "        iouscore += iou_map([masks],[pred_masks])\n",
        "    return iouscore / len(ds)\n"
      ]
    },
    {
      "cell_type": "markdown",
      "id": "4f345e32",
      "metadata": {
        "papermill": {
          "duration": 0.029609,
          "end_time": "2021-11-08T17:09:36.950719",
          "exception": false,
          "start_time": "2021-11-08T17:09:36.921110",
          "status": "completed"
        },
        "tags": [],
        "id": "4f345e32"
      },
      "source": [
        "### Transformations\n",
        "Just Horizontal and Vertical Flip for now.\n",
        "\n",
        "Normalization to Resnet's mean and std can be performed using the parameter `NORMALIZE` in the top cell.\n",
        "\n",
        "The first 3 transformations come from [this](https://www.kaggle.com/abhishek/maskrcnn-utils) utils package by Abishek, `VerticalFlip` is my adaption of HorizontalFlip, and `Normalize` is of my own."
      ]
    },
    {
      "cell_type": "code",
      "execution_count": 9,
      "id": "397b4f92",
      "metadata": {
        "execution": {
          "iopub.execute_input": "2021-11-08T17:09:37.021136Z",
          "iopub.status.busy": "2021-11-08T17:09:37.019842Z",
          "iopub.status.idle": "2021-11-08T17:09:37.031718Z",
          "shell.execute_reply": "2021-11-08T17:09:37.031112Z",
          "shell.execute_reply.started": "2021-11-08T00:07:05.337886Z"
        },
        "papermill": {
          "duration": 0.050987,
          "end_time": "2021-11-08T17:09:37.031878",
          "exception": false,
          "start_time": "2021-11-08T17:09:36.980891",
          "status": "completed"
        },
        "tags": [],
        "id": "397b4f92"
      },
      "outputs": [],
      "source": [
        "# These are slight redefinitions of torch.transformation classes\n",
        "# The difference is that they handle the target and the mask\n",
        "# Copied from Abishek, added new ones\n",
        "class Compose:\n",
        "    def __init__(self, transforms):\n",
        "        self.transforms = transforms\n",
        "\n",
        "    def __call__(self, image, target):\n",
        "        for t in self.transforms:\n",
        "            image, target = t(image, target)\n",
        "        return image, target\n",
        "\n",
        "class VerticalFlip:\n",
        "    def __init__(self, prob):\n",
        "        self.prob = prob\n",
        "\n",
        "    def __call__(self, image, target):\n",
        "        if random.random() < self.prob:\n",
        "            height, width = image.shape[-2:]\n",
        "            image = image.flip(-2)\n",
        "            bbox = target[\"boxes\"]\n",
        "            bbox[:, [1, 3]] = height - bbox[:, [3, 1]]\n",
        "            target[\"boxes\"] = bbox\n",
        "            target[\"masks\"] = target[\"masks\"].flip(-2)\n",
        "        return image, target\n",
        "\n",
        "class HorizontalFlip:\n",
        "    def __init__(self, prob):\n",
        "        self.prob = prob\n",
        "\n",
        "    def __call__(self, image, target):\n",
        "        if random.random() < self.prob:\n",
        "            height, width = image.shape[-2:]\n",
        "            image = image.flip(-1)\n",
        "            bbox = target[\"boxes\"]\n",
        "            bbox[:, [0, 2]] = width - bbox[:, [2, 0]]\n",
        "            target[\"boxes\"] = bbox\n",
        "            target[\"masks\"] = target[\"masks\"].flip(-1)\n",
        "        return image, target\n",
        "\n",
        "class Normalize:\n",
        "    def __call__(self, image, target):\n",
        "        image = F.normalize(image, RESNET_MEAN, RESNET_STD)\n",
        "        return image, target\n",
        "\n",
        "class ToTensor:\n",
        "    def __call__(self, image, target):\n",
        "        image = F.to_tensor(image)\n",
        "        return image, target\n",
        "    \n",
        "\n",
        "def get_transform(train):\n",
        "    transforms = [ToTensor()]\n",
        "    if NORMALIZE:\n",
        "        transforms.append(Normalize())\n",
        "    \n",
        "    # Data augmentation for train\n",
        "    if train: \n",
        "        transforms.append(HorizontalFlip(0.5))\n",
        "        transforms.append(VerticalFlip(0.5))\n",
        "\n",
        "    return Compose(transforms)"
      ]
    },
    {
      "cell_type": "markdown",
      "id": "c2ccd1cd",
      "metadata": {
        "id": "c2ccd1cd",
        "papermill": {
          "duration": 0.02941,
          "end_time": "2021-11-08T17:09:37.091349",
          "exception": false,
          "start_time": "2021-11-08T17:09:37.061939",
          "status": "completed"
        },
        "tags": []
      },
      "source": [
        "## Training Dataset and DataLoader"
      ]
    },
    {
      "cell_type": "code",
      "execution_count": 10,
      "id": "a88e737d",
      "metadata": {
        "execution": {
          "iopub.execute_input": "2021-11-08T17:09:37.176403Z",
          "iopub.status.busy": "2021-11-08T17:09:37.175135Z",
          "iopub.status.idle": "2021-11-08T17:09:37.178634Z",
          "shell.execute_reply": "2021-11-08T17:09:37.178013Z",
          "shell.execute_reply.started": "2021-11-08T00:07:05.356582Z"
        },
        "id": "a88e737d",
        "papermill": {
          "duration": 0.057009,
          "end_time": "2021-11-08T17:09:37.178793",
          "exception": false,
          "start_time": "2021-11-08T17:09:37.121784",
          "status": "completed"
        },
        "tags": []
      },
      "outputs": [],
      "source": [
        "cell_type_dict = {\"astro\": 1, \"cort\": 2, \"shsy5y\": 3}\n",
        "\n",
        "class CellDataset(Dataset):\n",
        "    def __init__(self, image_dir, df, transforms=None, resize=False):\n",
        "        self.transforms = transforms\n",
        "        self.image_dir = image_dir\n",
        "        self.df = df\n",
        "        \n",
        "        self.should_resize = resize is not False\n",
        "        if self.should_resize:\n",
        "            self.height = int(HEIGHT * resize)\n",
        "            self.width = int(WIDTH * resize)\n",
        "            print(\"image size used:\", self.height, self.width)\n",
        "        else:\n",
        "            self.height = HEIGHT\n",
        "            self.width = WIDTH\n",
        "        \n",
        "        self.image_info = collections.defaultdict(dict)\n",
        "        temp_df = self.df.groupby([\"id\", \"cell_type\"])['annotation'].agg(lambda x: list(x)).reset_index()\n",
        "        for index, row in temp_df.iterrows():\n",
        "            self.image_info[index] = {\n",
        "                    'image_id': row['id'],\n",
        "                    'image_path': os.path.join(self.image_dir, row['id'] + '.png'),\n",
        "                    'annotations': list(row[\"annotation\"]),\n",
        "                    'cell_type': cell_type_dict[row[\"cell_type\"]]\n",
        "                    }\n",
        "            \n",
        "    def get_box(self, a_mask):\n",
        "        ''' Get the bounding box of a given mask '''\n",
        "        pos = np.where(a_mask)\n",
        "        xmin = np.min(pos[1])\n",
        "        xmax = np.max(pos[1])\n",
        "        ymin = np.min(pos[0])\n",
        "        ymax = np.max(pos[0])\n",
        "        return [xmin, ymin, xmax, ymax]\n",
        "\n",
        "    def __getitem__(self, idx):\n",
        "        ''' Get the image and the target'''\n",
        "        \n",
        "        img_path = self.image_info[idx][\"image_path\"]\n",
        "        img = cv2.imread(img_path, cv2.IMREAD_COLOR)\n",
        "        \n",
        "        if self.should_resize:\n",
        "            img = cv2.resize(img, (self.width, self.height))\n",
        "\n",
        "        info = self.image_info[idx]\n",
        "\n",
        "        n_objects = len(info['annotations'])\n",
        "        masks = np.zeros((len(info['annotations']), self.height, self.width), dtype=np.uint8)\n",
        "        boxes = []\n",
        "        labels = []\n",
        "        for i, annotation in enumerate(info['annotations']):\n",
        "            a_mask = rle_decode(annotation, (HEIGHT, WIDTH))\n",
        "            \n",
        "            if self.should_resize:\n",
        "                a_mask = cv2.resize(a_mask, (self.width, self.height))\n",
        "            \n",
        "            a_mask = np.array(a_mask) > 0\n",
        "            masks[i, :, :] = a_mask\n",
        "            \n",
        "            boxes.append(self.get_box(a_mask))\n",
        "\n",
        "        # labels\n",
        "        labels = [int(info[\"cell_type\"]) for _ in range(n_objects)]\n",
        "        #labels = [1 for _ in range(n_objects)]\n",
        "        \n",
        "        \n",
        "        boxes = torch.as_tensor(boxes, dtype=torch.float32)\n",
        "        labels = torch.as_tensor(labels, dtype=torch.int64)\n",
        "        masks = torch.as_tensor(masks, dtype=torch.uint8)\n",
        "\n",
        "        image_id = torch.tensor([idx])\n",
        "        area = (boxes[:, 3] - boxes[:, 1]) * (boxes[:, 2] - boxes[:, 0])\n",
        "        iscrowd = torch.zeros((n_objects,), dtype=torch.int64)\n",
        "\n",
        "        # This is the required target for the Mask R-CNN\n",
        "        target = {\n",
        "            'boxes': boxes,\n",
        "            'labels': labels,\n",
        "            'masks': masks,\n",
        "            'image_id': image_id,\n",
        "            'area': area,\n",
        "            'iscrowd': iscrowd\n",
        "        }\n",
        "\n",
        "        if self.transforms is not None:\n",
        "            img, target = self.transforms(img, target)\n",
        "\n",
        "        return img, target\n",
        "\n",
        "    def __len__(self):\n",
        "        return len(self.image_info)"
      ]
    },
    {
      "cell_type": "code",
      "execution_count": 11,
      "id": "1f97e033",
      "metadata": {
        "execution": {
          "iopub.execute_input": "2021-11-08T17:09:37.245130Z",
          "iopub.status.busy": "2021-11-08T17:09:37.244433Z",
          "iopub.status.idle": "2021-11-08T17:09:37.838010Z",
          "shell.execute_reply": "2021-11-08T17:09:37.838575Z",
          "shell.execute_reply.started": "2021-11-08T00:07:05.380067Z"
        },
        "id": "1f97e033",
        "papermill": {
          "duration": 0.629901,
          "end_time": "2021-11-08T17:09:37.838785",
          "exception": false,
          "start_time": "2021-11-08T17:09:37.208884",
          "status": "completed"
        },
        "tags": []
      },
      "outputs": [],
      "source": [
        "df_base = pd.read_csv(TRAIN_CSV, nrows=5000 if TEST else None)"
      ]
    },
    {
      "cell_type": "code",
      "execution_count": 12,
      "id": "eadf1e1f",
      "metadata": {
        "execution": {
          "iopub.execute_input": "2021-11-08T17:09:37.924666Z",
          "iopub.status.busy": "2021-11-08T17:09:37.912423Z",
          "iopub.status.idle": "2021-11-08T17:09:38.027081Z",
          "shell.execute_reply": "2021-11-08T17:09:38.027633Z",
          "shell.execute_reply.started": "2021-11-08T00:07:05.724866Z"
        },
        "id": "eadf1e1f",
        "outputId": "f2ae50d7-998a-4a82-b9f4-612faaff8c8a",
        "papermill": {
          "duration": 0.156563,
          "end_time": "2021-11-08T17:09:38.027825",
          "exception": false,
          "start_time": "2021-11-08T17:09:37.871262",
          "status": "completed"
        },
        "tags": [],
        "colab": {
          "base_uri": "https://localhost:8080/",
          "height": 577
        }
      },
      "outputs": [
        {
          "output_type": "display_data",
          "data": {
            "text/html": [
              "\n",
              "  <div id=\"df-0458476f-a0c0-47e3-b281-40fa03562bb0\">\n",
              "    <div class=\"colab-df-container\">\n",
              "      <div>\n",
              "<style scoped>\n",
              "    .dataframe tbody tr th:only-of-type {\n",
              "        vertical-align: middle;\n",
              "    }\n",
              "\n",
              "    .dataframe tbody tr th {\n",
              "        vertical-align: top;\n",
              "    }\n",
              "\n",
              "    .dataframe thead th {\n",
              "        text-align: right;\n",
              "    }\n",
              "</style>\n",
              "<table border=\"1\" class=\"dataframe\">\n",
              "  <thead>\n",
              "    <tr style=\"text-align: right;\">\n",
              "      <th></th>\n",
              "      <th>id</th>\n",
              "      <th>cell_type</th>\n",
              "      <th>annotation</th>\n",
              "      <th>quantiles</th>\n",
              "    </tr>\n",
              "  </thead>\n",
              "  <tbody>\n",
              "    <tr>\n",
              "      <th>5</th>\n",
              "      <td>a7b1db2a42fc</td>\n",
              "      <td>astro</td>\n",
              "      <td>594</td>\n",
              "      <td>(105.0, 594.0]</td>\n",
              "    </tr>\n",
              "    <tr>\n",
              "      <th>71</th>\n",
              "      <td>903d94c69354</td>\n",
              "      <td>astro</td>\n",
              "      <td>351</td>\n",
              "      <td>(105.0, 594.0]</td>\n",
              "    </tr>\n",
              "    <tr>\n",
              "      <th>135</th>\n",
              "      <td>2c2cb870da85</td>\n",
              "      <td>astro</td>\n",
              "      <td>174</td>\n",
              "      <td>(105.0, 594.0]</td>\n",
              "    </tr>\n",
              "    <tr>\n",
              "      <th>138</th>\n",
              "      <td>1ea4e44e5497</td>\n",
              "      <td>astro</td>\n",
              "      <td>164</td>\n",
              "      <td>(105.0, 594.0]</td>\n",
              "    </tr>\n",
              "    <tr>\n",
              "      <th>139</th>\n",
              "      <td>a75cdb426a8e</td>\n",
              "      <td>astro</td>\n",
              "      <td>163</td>\n",
              "      <td>(105.0, 594.0]</td>\n",
              "    </tr>\n",
              "  </tbody>\n",
              "</table>\n",
              "</div>\n",
              "      <button class=\"colab-df-convert\" onclick=\"convertToInteractive('df-0458476f-a0c0-47e3-b281-40fa03562bb0')\"\n",
              "              title=\"Convert this dataframe to an interactive table.\"\n",
              "              style=\"display:none;\">\n",
              "        \n",
              "  <svg xmlns=\"http://www.w3.org/2000/svg\" height=\"24px\"viewBox=\"0 0 24 24\"\n",
              "       width=\"24px\">\n",
              "    <path d=\"M0 0h24v24H0V0z\" fill=\"none\"/>\n",
              "    <path d=\"M18.56 5.44l.94 2.06.94-2.06 2.06-.94-2.06-.94-.94-2.06-.94 2.06-2.06.94zm-11 1L8.5 8.5l.94-2.06 2.06-.94-2.06-.94L8.5 2.5l-.94 2.06-2.06.94zm10 10l.94 2.06.94-2.06 2.06-.94-2.06-.94-.94-2.06-.94 2.06-2.06.94z\"/><path d=\"M17.41 7.96l-1.37-1.37c-.4-.4-.92-.59-1.43-.59-.52 0-1.04.2-1.43.59L10.3 9.45l-7.72 7.72c-.78.78-.78 2.05 0 2.83L4 21.41c.39.39.9.59 1.41.59.51 0 1.02-.2 1.41-.59l7.78-7.78 2.81-2.81c.8-.78.8-2.07 0-2.86zM5.41 20L4 18.59l7.72-7.72 1.47 1.35L5.41 20z\"/>\n",
              "  </svg>\n",
              "      </button>\n",
              "      \n",
              "  <style>\n",
              "    .colab-df-container {\n",
              "      display:flex;\n",
              "      flex-wrap:wrap;\n",
              "      gap: 12px;\n",
              "    }\n",
              "\n",
              "    .colab-df-convert {\n",
              "      background-color: #E8F0FE;\n",
              "      border: none;\n",
              "      border-radius: 50%;\n",
              "      cursor: pointer;\n",
              "      display: none;\n",
              "      fill: #1967D2;\n",
              "      height: 32px;\n",
              "      padding: 0 0 0 0;\n",
              "      width: 32px;\n",
              "    }\n",
              "\n",
              "    .colab-df-convert:hover {\n",
              "      background-color: #E2EBFA;\n",
              "      box-shadow: 0px 1px 2px rgba(60, 64, 67, 0.3), 0px 1px 3px 1px rgba(60, 64, 67, 0.15);\n",
              "      fill: #174EA6;\n",
              "    }\n",
              "\n",
              "    [theme=dark] .colab-df-convert {\n",
              "      background-color: #3B4455;\n",
              "      fill: #D2E3FC;\n",
              "    }\n",
              "\n",
              "    [theme=dark] .colab-df-convert:hover {\n",
              "      background-color: #434B5C;\n",
              "      box-shadow: 0px 1px 3px 1px rgba(0, 0, 0, 0.15);\n",
              "      filter: drop-shadow(0px 1px 2px rgba(0, 0, 0, 0.3));\n",
              "      fill: #FFFFFF;\n",
              "    }\n",
              "  </style>\n",
              "\n",
              "      <script>\n",
              "        const buttonEl =\n",
              "          document.querySelector('#df-0458476f-a0c0-47e3-b281-40fa03562bb0 button.colab-df-convert');\n",
              "        buttonEl.style.display =\n",
              "          google.colab.kernel.accessAllowed ? 'block' : 'none';\n",
              "\n",
              "        async function convertToInteractive(key) {\n",
              "          const element = document.querySelector('#df-0458476f-a0c0-47e3-b281-40fa03562bb0');\n",
              "          const dataTable =\n",
              "            await google.colab.kernel.invokeFunction('convertToInteractive',\n",
              "                                                     [key], {});\n",
              "          if (!dataTable) return;\n",
              "\n",
              "          const docLinkHtml = 'Like what you see? Visit the ' +\n",
              "            '<a target=\"_blank\" href=https://colab.research.google.com/notebooks/data_table.ipynb>data table notebook</a>'\n",
              "            + ' to learn more about interactive tables.';\n",
              "          element.innerHTML = '';\n",
              "          dataTable['output_type'] = 'display_data';\n",
              "          await google.colab.output.renderOutput(dataTable, element);\n",
              "          const docLink = document.createElement('div');\n",
              "          docLink.innerHTML = docLinkHtml;\n",
              "          element.appendChild(docLink);\n",
              "        }\n",
              "      </script>\n",
              "    </div>\n",
              "  </div>\n",
              "  "
            ],
            "text/plain": [
              "               id cell_type  annotation       quantiles\n",
              "5    a7b1db2a42fc     astro         594  (105.0, 594.0]\n",
              "71   903d94c69354     astro         351  (105.0, 594.0]\n",
              "135  2c2cb870da85     astro         174  (105.0, 594.0]\n",
              "138  1ea4e44e5497     astro         164  (105.0, 594.0]\n",
              "139  a75cdb426a8e     astro         163  (105.0, 594.0]"
            ]
          },
          "metadata": {}
        },
        {
          "output_type": "display_data",
          "data": {
            "text/html": [
              "\n",
              "  <div id=\"df-901d0e64-0163-4102-9312-18ab5ff4ab11\">\n",
              "    <div class=\"colab-df-container\">\n",
              "      <div>\n",
              "<style scoped>\n",
              "    .dataframe tbody tr th:only-of-type {\n",
              "        vertical-align: middle;\n",
              "    }\n",
              "\n",
              "    .dataframe tbody tr th {\n",
              "        vertical-align: top;\n",
              "    }\n",
              "\n",
              "    .dataframe thead th {\n",
              "        text-align: right;\n",
              "    }\n",
              "</style>\n",
              "<table border=\"1\" class=\"dataframe\">\n",
              "  <thead>\n",
              "    <tr style=\"text-align: right;\">\n",
              "      <th></th>\n",
              "      <th>id</th>\n",
              "      <th>cell_type</th>\n",
              "      <th>annotation</th>\n",
              "      <th>quantiles</th>\n",
              "    </tr>\n",
              "  </thead>\n",
              "  <tbody>\n",
              "    <tr>\n",
              "      <th>165</th>\n",
              "      <td>4425efbbacfc</td>\n",
              "      <td>cort</td>\n",
              "      <td>108</td>\n",
              "      <td>(43.0, 108.0]</td>\n",
              "    </tr>\n",
              "    <tr>\n",
              "      <th>185</th>\n",
              "      <td>4b8dc9c901a6</td>\n",
              "      <td>cort</td>\n",
              "      <td>94</td>\n",
              "      <td>(43.0, 108.0]</td>\n",
              "    </tr>\n",
              "    <tr>\n",
              "      <th>186</th>\n",
              "      <td>adfd16bee70c</td>\n",
              "      <td>cort</td>\n",
              "      <td>94</td>\n",
              "      <td>(43.0, 108.0]</td>\n",
              "    </tr>\n",
              "    <tr>\n",
              "      <th>188</th>\n",
              "      <td>76ad9ac01e2d</td>\n",
              "      <td>cort</td>\n",
              "      <td>94</td>\n",
              "      <td>(43.0, 108.0]</td>\n",
              "    </tr>\n",
              "    <tr>\n",
              "      <th>196</th>\n",
              "      <td>44a154410273</td>\n",
              "      <td>cort</td>\n",
              "      <td>89</td>\n",
              "      <td>(43.0, 108.0]</td>\n",
              "    </tr>\n",
              "  </tbody>\n",
              "</table>\n",
              "</div>\n",
              "      <button class=\"colab-df-convert\" onclick=\"convertToInteractive('df-901d0e64-0163-4102-9312-18ab5ff4ab11')\"\n",
              "              title=\"Convert this dataframe to an interactive table.\"\n",
              "              style=\"display:none;\">\n",
              "        \n",
              "  <svg xmlns=\"http://www.w3.org/2000/svg\" height=\"24px\"viewBox=\"0 0 24 24\"\n",
              "       width=\"24px\">\n",
              "    <path d=\"M0 0h24v24H0V0z\" fill=\"none\"/>\n",
              "    <path d=\"M18.56 5.44l.94 2.06.94-2.06 2.06-.94-2.06-.94-.94-2.06-.94 2.06-2.06.94zm-11 1L8.5 8.5l.94-2.06 2.06-.94-2.06-.94L8.5 2.5l-.94 2.06-2.06.94zm10 10l.94 2.06.94-2.06 2.06-.94-2.06-.94-.94-2.06-.94 2.06-2.06.94z\"/><path d=\"M17.41 7.96l-1.37-1.37c-.4-.4-.92-.59-1.43-.59-.52 0-1.04.2-1.43.59L10.3 9.45l-7.72 7.72c-.78.78-.78 2.05 0 2.83L4 21.41c.39.39.9.59 1.41.59.51 0 1.02-.2 1.41-.59l7.78-7.78 2.81-2.81c.8-.78.8-2.07 0-2.86zM5.41 20L4 18.59l7.72-7.72 1.47 1.35L5.41 20z\"/>\n",
              "  </svg>\n",
              "      </button>\n",
              "      \n",
              "  <style>\n",
              "    .colab-df-container {\n",
              "      display:flex;\n",
              "      flex-wrap:wrap;\n",
              "      gap: 12px;\n",
              "    }\n",
              "\n",
              "    .colab-df-convert {\n",
              "      background-color: #E8F0FE;\n",
              "      border: none;\n",
              "      border-radius: 50%;\n",
              "      cursor: pointer;\n",
              "      display: none;\n",
              "      fill: #1967D2;\n",
              "      height: 32px;\n",
              "      padding: 0 0 0 0;\n",
              "      width: 32px;\n",
              "    }\n",
              "\n",
              "    .colab-df-convert:hover {\n",
              "      background-color: #E2EBFA;\n",
              "      box-shadow: 0px 1px 2px rgba(60, 64, 67, 0.3), 0px 1px 3px 1px rgba(60, 64, 67, 0.15);\n",
              "      fill: #174EA6;\n",
              "    }\n",
              "\n",
              "    [theme=dark] .colab-df-convert {\n",
              "      background-color: #3B4455;\n",
              "      fill: #D2E3FC;\n",
              "    }\n",
              "\n",
              "    [theme=dark] .colab-df-convert:hover {\n",
              "      background-color: #434B5C;\n",
              "      box-shadow: 0px 1px 3px 1px rgba(0, 0, 0, 0.15);\n",
              "      filter: drop-shadow(0px 1px 2px rgba(0, 0, 0, 0.3));\n",
              "      fill: #FFFFFF;\n",
              "    }\n",
              "  </style>\n",
              "\n",
              "      <script>\n",
              "        const buttonEl =\n",
              "          document.querySelector('#df-901d0e64-0163-4102-9312-18ab5ff4ab11 button.colab-df-convert');\n",
              "        buttonEl.style.display =\n",
              "          google.colab.kernel.accessAllowed ? 'block' : 'none';\n",
              "\n",
              "        async function convertToInteractive(key) {\n",
              "          const element = document.querySelector('#df-901d0e64-0163-4102-9312-18ab5ff4ab11');\n",
              "          const dataTable =\n",
              "            await google.colab.kernel.invokeFunction('convertToInteractive',\n",
              "                                                     [key], {});\n",
              "          if (!dataTable) return;\n",
              "\n",
              "          const docLinkHtml = 'Like what you see? Visit the ' +\n",
              "            '<a target=\"_blank\" href=https://colab.research.google.com/notebooks/data_table.ipynb>data table notebook</a>'\n",
              "            + ' to learn more about interactive tables.';\n",
              "          element.innerHTML = '';\n",
              "          dataTable['output_type'] = 'display_data';\n",
              "          await google.colab.output.renderOutput(dataTable, element);\n",
              "          const docLink = document.createElement('div');\n",
              "          docLink.innerHTML = docLinkHtml;\n",
              "          element.appendChild(docLink);\n",
              "        }\n",
              "      </script>\n",
              "    </div>\n",
              "  </div>\n",
              "  "
            ],
            "text/plain": [
              "               id cell_type  annotation      quantiles\n",
              "165  4425efbbacfc      cort         108  (43.0, 108.0]\n",
              "185  4b8dc9c901a6      cort          94  (43.0, 108.0]\n",
              "186  adfd16bee70c      cort          94  (43.0, 108.0]\n",
              "188  76ad9ac01e2d      cort          94  (43.0, 108.0]\n",
              "196  44a154410273      cort          89  (43.0, 108.0]"
            ]
          },
          "metadata": {}
        },
        {
          "output_type": "display_data",
          "data": {
            "text/html": [
              "\n",
              "  <div id=\"df-505a0def-9519-4440-9e2d-3f685596a6c4\">\n",
              "    <div class=\"colab-df-container\">\n",
              "      <div>\n",
              "<style scoped>\n",
              "    .dataframe tbody tr th:only-of-type {\n",
              "        vertical-align: middle;\n",
              "    }\n",
              "\n",
              "    .dataframe tbody tr th {\n",
              "        vertical-align: top;\n",
              "    }\n",
              "\n",
              "    .dataframe thead th {\n",
              "        text-align: right;\n",
              "    }\n",
              "</style>\n",
              "<table border=\"1\" class=\"dataframe\">\n",
              "  <thead>\n",
              "    <tr style=\"text-align: right;\">\n",
              "      <th></th>\n",
              "      <th>id</th>\n",
              "      <th>cell_type</th>\n",
              "      <th>annotation</th>\n",
              "      <th>quantiles</th>\n",
              "    </tr>\n",
              "  </thead>\n",
              "  <tbody>\n",
              "    <tr>\n",
              "      <th>0</th>\n",
              "      <td>c4121689002f</td>\n",
              "      <td>shsy5y</td>\n",
              "      <td>790</td>\n",
              "      <td>(447.8, 790.0]</td>\n",
              "    </tr>\n",
              "    <tr>\n",
              "      <th>1</th>\n",
              "      <td>d164e96bb7a9</td>\n",
              "      <td>shsy5y</td>\n",
              "      <td>782</td>\n",
              "      <td>(447.8, 790.0]</td>\n",
              "    </tr>\n",
              "    <tr>\n",
              "      <th>2</th>\n",
              "      <td>e748ac1c469b</td>\n",
              "      <td>shsy5y</td>\n",
              "      <td>703</td>\n",
              "      <td>(447.8, 790.0]</td>\n",
              "    </tr>\n",
              "    <tr>\n",
              "      <th>3</th>\n",
              "      <td>aff8fb4fc364</td>\n",
              "      <td>shsy5y</td>\n",
              "      <td>609</td>\n",
              "      <td>(447.8, 790.0]</td>\n",
              "    </tr>\n",
              "    <tr>\n",
              "      <th>4</th>\n",
              "      <td>e8ae919aa92e</td>\n",
              "      <td>shsy5y</td>\n",
              "      <td>605</td>\n",
              "      <td>(447.8, 790.0]</td>\n",
              "    </tr>\n",
              "  </tbody>\n",
              "</table>\n",
              "</div>\n",
              "      <button class=\"colab-df-convert\" onclick=\"convertToInteractive('df-505a0def-9519-4440-9e2d-3f685596a6c4')\"\n",
              "              title=\"Convert this dataframe to an interactive table.\"\n",
              "              style=\"display:none;\">\n",
              "        \n",
              "  <svg xmlns=\"http://www.w3.org/2000/svg\" height=\"24px\"viewBox=\"0 0 24 24\"\n",
              "       width=\"24px\">\n",
              "    <path d=\"M0 0h24v24H0V0z\" fill=\"none\"/>\n",
              "    <path d=\"M18.56 5.44l.94 2.06.94-2.06 2.06-.94-2.06-.94-.94-2.06-.94 2.06-2.06.94zm-11 1L8.5 8.5l.94-2.06 2.06-.94-2.06-.94L8.5 2.5l-.94 2.06-2.06.94zm10 10l.94 2.06.94-2.06 2.06-.94-2.06-.94-.94-2.06-.94 2.06-2.06.94z\"/><path d=\"M17.41 7.96l-1.37-1.37c-.4-.4-.92-.59-1.43-.59-.52 0-1.04.2-1.43.59L10.3 9.45l-7.72 7.72c-.78.78-.78 2.05 0 2.83L4 21.41c.39.39.9.59 1.41.59.51 0 1.02-.2 1.41-.59l7.78-7.78 2.81-2.81c.8-.78.8-2.07 0-2.86zM5.41 20L4 18.59l7.72-7.72 1.47 1.35L5.41 20z\"/>\n",
              "  </svg>\n",
              "      </button>\n",
              "      \n",
              "  <style>\n",
              "    .colab-df-container {\n",
              "      display:flex;\n",
              "      flex-wrap:wrap;\n",
              "      gap: 12px;\n",
              "    }\n",
              "\n",
              "    .colab-df-convert {\n",
              "      background-color: #E8F0FE;\n",
              "      border: none;\n",
              "      border-radius: 50%;\n",
              "      cursor: pointer;\n",
              "      display: none;\n",
              "      fill: #1967D2;\n",
              "      height: 32px;\n",
              "      padding: 0 0 0 0;\n",
              "      width: 32px;\n",
              "    }\n",
              "\n",
              "    .colab-df-convert:hover {\n",
              "      background-color: #E2EBFA;\n",
              "      box-shadow: 0px 1px 2px rgba(60, 64, 67, 0.3), 0px 1px 3px 1px rgba(60, 64, 67, 0.15);\n",
              "      fill: #174EA6;\n",
              "    }\n",
              "\n",
              "    [theme=dark] .colab-df-convert {\n",
              "      background-color: #3B4455;\n",
              "      fill: #D2E3FC;\n",
              "    }\n",
              "\n",
              "    [theme=dark] .colab-df-convert:hover {\n",
              "      background-color: #434B5C;\n",
              "      box-shadow: 0px 1px 3px 1px rgba(0, 0, 0, 0.15);\n",
              "      filter: drop-shadow(0px 1px 2px rgba(0, 0, 0, 0.3));\n",
              "      fill: #FFFFFF;\n",
              "    }\n",
              "  </style>\n",
              "\n",
              "      <script>\n",
              "        const buttonEl =\n",
              "          document.querySelector('#df-505a0def-9519-4440-9e2d-3f685596a6c4 button.colab-df-convert');\n",
              "        buttonEl.style.display =\n",
              "          google.colab.kernel.accessAllowed ? 'block' : 'none';\n",
              "\n",
              "        async function convertToInteractive(key) {\n",
              "          const element = document.querySelector('#df-505a0def-9519-4440-9e2d-3f685596a6c4');\n",
              "          const dataTable =\n",
              "            await google.colab.kernel.invokeFunction('convertToInteractive',\n",
              "                                                     [key], {});\n",
              "          if (!dataTable) return;\n",
              "\n",
              "          const docLinkHtml = 'Like what you see? Visit the ' +\n",
              "            '<a target=\"_blank\" href=https://colab.research.google.com/notebooks/data_table.ipynb>data table notebook</a>'\n",
              "            + ' to learn more about interactive tables.';\n",
              "          element.innerHTML = '';\n",
              "          dataTable['output_type'] = 'display_data';\n",
              "          await google.colab.output.renderOutput(dataTable, element);\n",
              "          const docLink = document.createElement('div');\n",
              "          docLink.innerHTML = docLinkHtml;\n",
              "          element.appendChild(docLink);\n",
              "        }\n",
              "      </script>\n",
              "    </div>\n",
              "  </div>\n",
              "  "
            ],
            "text/plain": [
              "             id cell_type  annotation       quantiles\n",
              "0  c4121689002f    shsy5y         790  (447.8, 790.0]\n",
              "1  d164e96bb7a9    shsy5y         782  (447.8, 790.0]\n",
              "2  e748ac1c469b    shsy5y         703  (447.8, 790.0]\n",
              "3  aff8fb4fc364    shsy5y         609  (447.8, 790.0]\n",
              "4  e8ae919aa92e    shsy5y         605  (447.8, 790.0]"
            ]
          },
          "metadata": {}
        }
      ],
      "source": [
        "df_images = df_base.groupby([\"id\", \"cell_type\"]).agg({'annotation': 'count'}).sort_values(\"annotation\", ascending=False).reset_index()\n",
        "\n",
        "for ct in cell_type_dict:\n",
        "    ctdf = df_images[df_images[\"cell_type\"]==ct].copy()\n",
        "    if len(ctdf)>0:\n",
        "        ctdf['quantiles'] = pd.qcut(ctdf['annotation'], 5)\n",
        "        display(ctdf.head())"
      ]
    },
    {
      "cell_type": "code",
      "execution_count": 13,
      "id": "8d6daa0b",
      "metadata": {
        "execution": {
          "iopub.execute_input": "2021-11-08T17:09:38.099460Z",
          "iopub.status.busy": "2021-11-08T17:09:38.098257Z",
          "iopub.status.idle": "2021-11-08T17:09:38.123710Z",
          "shell.execute_reply": "2021-11-08T17:09:38.124325Z",
          "shell.execute_reply.started": "2021-11-08T00:07:05.795096Z"
        },
        "id": "8d6daa0b",
        "outputId": "099d9686-88f3-4494-c480-4e025b5e8156",
        "papermill": {
          "duration": 0.064349,
          "end_time": "2021-11-08T17:09:38.124514",
          "exception": false,
          "start_time": "2021-11-08T17:09:38.060165",
          "status": "completed"
        },
        "tags": [],
        "colab": {
          "base_uri": "https://localhost:8080/",
          "height": 173
        }
      },
      "outputs": [
        {
          "output_type": "execute_result",
          "data": {
            "text/html": [
              "\n",
              "  <div id=\"df-2da096ae-03d4-4771-9264-10a6873b7a3a\">\n",
              "    <div class=\"colab-df-container\">\n",
              "      <div>\n",
              "<style scoped>\n",
              "    .dataframe tbody tr th:only-of-type {\n",
              "        vertical-align: middle;\n",
              "    }\n",
              "\n",
              "    .dataframe tbody tr th {\n",
              "        vertical-align: top;\n",
              "    }\n",
              "\n",
              "    .dataframe thead th {\n",
              "        text-align: right;\n",
              "    }\n",
              "</style>\n",
              "<table border=\"1\" class=\"dataframe\">\n",
              "  <thead>\n",
              "    <tr style=\"text-align: right;\">\n",
              "      <th></th>\n",
              "      <th>count</th>\n",
              "      <th>mean</th>\n",
              "      <th>std</th>\n",
              "      <th>min</th>\n",
              "      <th>25%</th>\n",
              "      <th>50%</th>\n",
              "      <th>75%</th>\n",
              "      <th>max</th>\n",
              "    </tr>\n",
              "    <tr>\n",
              "      <th>cell_type</th>\n",
              "      <th></th>\n",
              "      <th></th>\n",
              "      <th></th>\n",
              "      <th></th>\n",
              "      <th></th>\n",
              "      <th></th>\n",
              "      <th></th>\n",
              "      <th></th>\n",
              "    </tr>\n",
              "  </thead>\n",
              "  <tbody>\n",
              "    <tr>\n",
              "      <th>astro</th>\n",
              "      <td>131</td>\n",
              "      <td>80</td>\n",
              "      <td>64</td>\n",
              "      <td>5</td>\n",
              "      <td>50</td>\n",
              "      <td>73</td>\n",
              "      <td>100</td>\n",
              "      <td>594</td>\n",
              "    </tr>\n",
              "    <tr>\n",
              "      <th>cort</th>\n",
              "      <td>320</td>\n",
              "      <td>33</td>\n",
              "      <td>16</td>\n",
              "      <td>4</td>\n",
              "      <td>23</td>\n",
              "      <td>30</td>\n",
              "      <td>39</td>\n",
              "      <td>108</td>\n",
              "    </tr>\n",
              "    <tr>\n",
              "      <th>shsy5y</th>\n",
              "      <td>155</td>\n",
              "      <td>337</td>\n",
              "      <td>149</td>\n",
              "      <td>49</td>\n",
              "      <td>235</td>\n",
              "      <td>324</td>\n",
              "      <td>429</td>\n",
              "      <td>790</td>\n",
              "    </tr>\n",
              "  </tbody>\n",
              "</table>\n",
              "</div>\n",
              "      <button class=\"colab-df-convert\" onclick=\"convertToInteractive('df-2da096ae-03d4-4771-9264-10a6873b7a3a')\"\n",
              "              title=\"Convert this dataframe to an interactive table.\"\n",
              "              style=\"display:none;\">\n",
              "        \n",
              "  <svg xmlns=\"http://www.w3.org/2000/svg\" height=\"24px\"viewBox=\"0 0 24 24\"\n",
              "       width=\"24px\">\n",
              "    <path d=\"M0 0h24v24H0V0z\" fill=\"none\"/>\n",
              "    <path d=\"M18.56 5.44l.94 2.06.94-2.06 2.06-.94-2.06-.94-.94-2.06-.94 2.06-2.06.94zm-11 1L8.5 8.5l.94-2.06 2.06-.94-2.06-.94L8.5 2.5l-.94 2.06-2.06.94zm10 10l.94 2.06.94-2.06 2.06-.94-2.06-.94-.94-2.06-.94 2.06-2.06.94z\"/><path d=\"M17.41 7.96l-1.37-1.37c-.4-.4-.92-.59-1.43-.59-.52 0-1.04.2-1.43.59L10.3 9.45l-7.72 7.72c-.78.78-.78 2.05 0 2.83L4 21.41c.39.39.9.59 1.41.59.51 0 1.02-.2 1.41-.59l7.78-7.78 2.81-2.81c.8-.78.8-2.07 0-2.86zM5.41 20L4 18.59l7.72-7.72 1.47 1.35L5.41 20z\"/>\n",
              "  </svg>\n",
              "      </button>\n",
              "      \n",
              "  <style>\n",
              "    .colab-df-container {\n",
              "      display:flex;\n",
              "      flex-wrap:wrap;\n",
              "      gap: 12px;\n",
              "    }\n",
              "\n",
              "    .colab-df-convert {\n",
              "      background-color: #E8F0FE;\n",
              "      border: none;\n",
              "      border-radius: 50%;\n",
              "      cursor: pointer;\n",
              "      display: none;\n",
              "      fill: #1967D2;\n",
              "      height: 32px;\n",
              "      padding: 0 0 0 0;\n",
              "      width: 32px;\n",
              "    }\n",
              "\n",
              "    .colab-df-convert:hover {\n",
              "      background-color: #E2EBFA;\n",
              "      box-shadow: 0px 1px 2px rgba(60, 64, 67, 0.3), 0px 1px 3px 1px rgba(60, 64, 67, 0.15);\n",
              "      fill: #174EA6;\n",
              "    }\n",
              "\n",
              "    [theme=dark] .colab-df-convert {\n",
              "      background-color: #3B4455;\n",
              "      fill: #D2E3FC;\n",
              "    }\n",
              "\n",
              "    [theme=dark] .colab-df-convert:hover {\n",
              "      background-color: #434B5C;\n",
              "      box-shadow: 0px 1px 3px 1px rgba(0, 0, 0, 0.15);\n",
              "      filter: drop-shadow(0px 1px 2px rgba(0, 0, 0, 0.3));\n",
              "      fill: #FFFFFF;\n",
              "    }\n",
              "  </style>\n",
              "\n",
              "      <script>\n",
              "        const buttonEl =\n",
              "          document.querySelector('#df-2da096ae-03d4-4771-9264-10a6873b7a3a button.colab-df-convert');\n",
              "        buttonEl.style.display =\n",
              "          google.colab.kernel.accessAllowed ? 'block' : 'none';\n",
              "\n",
              "        async function convertToInteractive(key) {\n",
              "          const element = document.querySelector('#df-2da096ae-03d4-4771-9264-10a6873b7a3a');\n",
              "          const dataTable =\n",
              "            await google.colab.kernel.invokeFunction('convertToInteractive',\n",
              "                                                     [key], {});\n",
              "          if (!dataTable) return;\n",
              "\n",
              "          const docLinkHtml = 'Like what you see? Visit the ' +\n",
              "            '<a target=\"_blank\" href=https://colab.research.google.com/notebooks/data_table.ipynb>data table notebook</a>'\n",
              "            + ' to learn more about interactive tables.';\n",
              "          element.innerHTML = '';\n",
              "          dataTable['output_type'] = 'display_data';\n",
              "          await google.colab.output.renderOutput(dataTable, element);\n",
              "          const docLink = document.createElement('div');\n",
              "          docLink.innerHTML = docLinkHtml;\n",
              "          element.appendChild(docLink);\n",
              "        }\n",
              "      </script>\n",
              "    </div>\n",
              "  </div>\n",
              "  "
            ],
            "text/plain": [
              "           count  mean  std  min  25%  50%  75%  max\n",
              "cell_type                                           \n",
              "astro        131    80   64    5   50   73  100  594\n",
              "cort         320    33   16    4   23   30   39  108\n",
              "shsy5y       155   337  149   49  235  324  429  790"
            ]
          },
          "metadata": {},
          "execution_count": 13
        }
      ],
      "source": [
        "df_images.groupby(\"cell_type\").annotation.describe().astype(int)"
      ]
    },
    {
      "cell_type": "code",
      "execution_count": 14,
      "id": "839eb1ff",
      "metadata": {
        "execution": {
          "iopub.execute_input": "2021-11-08T17:09:38.208337Z",
          "iopub.status.busy": "2021-11-08T17:09:38.207412Z",
          "iopub.status.idle": "2021-11-08T17:09:38.211476Z",
          "shell.execute_reply": "2021-11-08T17:09:38.212025Z",
          "shell.execute_reply.started": "2021-11-08T00:07:05.817522Z"
        },
        "id": "839eb1ff",
        "outputId": "f1bed124-0603-46dc-9960-9db2cd2a3511",
        "papermill": {
          "duration": 0.05518,
          "end_time": "2021-11-08T17:09:38.212231",
          "exception": false,
          "start_time": "2021-11-08T17:09:38.157051",
          "status": "completed"
        },
        "tags": [],
        "colab": {
          "base_uri": "https://localhost:8080/",
          "height": 296
        }
      },
      "outputs": [
        {
          "output_type": "execute_result",
          "data": {
            "text/html": [
              "\n",
              "  <div id=\"df-76c30324-fe36-41a9-839e-fea81303f281\">\n",
              "    <div class=\"colab-df-container\">\n",
              "      <div>\n",
              "<style scoped>\n",
              "    .dataframe tbody tr th:only-of-type {\n",
              "        vertical-align: middle;\n",
              "    }\n",
              "\n",
              "    .dataframe tbody tr th {\n",
              "        vertical-align: top;\n",
              "    }\n",
              "\n",
              "    .dataframe thead th {\n",
              "        text-align: right;\n",
              "    }\n",
              "</style>\n",
              "<table border=\"1\" class=\"dataframe\">\n",
              "  <thead>\n",
              "    <tr style=\"text-align: right;\">\n",
              "      <th></th>\n",
              "      <th>annotation</th>\n",
              "    </tr>\n",
              "  </thead>\n",
              "  <tbody>\n",
              "    <tr>\n",
              "      <th>count</th>\n",
              "      <td>606</td>\n",
              "    </tr>\n",
              "    <tr>\n",
              "      <th>mean</th>\n",
              "      <td>121</td>\n",
              "    </tr>\n",
              "    <tr>\n",
              "      <th>std</th>\n",
              "      <td>152</td>\n",
              "    </tr>\n",
              "    <tr>\n",
              "      <th>min</th>\n",
              "      <td>4</td>\n",
              "    </tr>\n",
              "    <tr>\n",
              "      <th>25%</th>\n",
              "      <td>28</td>\n",
              "    </tr>\n",
              "    <tr>\n",
              "      <th>50%</th>\n",
              "      <td>46</td>\n",
              "    </tr>\n",
              "    <tr>\n",
              "      <th>75%</th>\n",
              "      <td>140</td>\n",
              "    </tr>\n",
              "    <tr>\n",
              "      <th>max</th>\n",
              "      <td>790</td>\n",
              "    </tr>\n",
              "  </tbody>\n",
              "</table>\n",
              "</div>\n",
              "      <button class=\"colab-df-convert\" onclick=\"convertToInteractive('df-76c30324-fe36-41a9-839e-fea81303f281')\"\n",
              "              title=\"Convert this dataframe to an interactive table.\"\n",
              "              style=\"display:none;\">\n",
              "        \n",
              "  <svg xmlns=\"http://www.w3.org/2000/svg\" height=\"24px\"viewBox=\"0 0 24 24\"\n",
              "       width=\"24px\">\n",
              "    <path d=\"M0 0h24v24H0V0z\" fill=\"none\"/>\n",
              "    <path d=\"M18.56 5.44l.94 2.06.94-2.06 2.06-.94-2.06-.94-.94-2.06-.94 2.06-2.06.94zm-11 1L8.5 8.5l.94-2.06 2.06-.94-2.06-.94L8.5 2.5l-.94 2.06-2.06.94zm10 10l.94 2.06.94-2.06 2.06-.94-2.06-.94-.94-2.06-.94 2.06-2.06.94z\"/><path d=\"M17.41 7.96l-1.37-1.37c-.4-.4-.92-.59-1.43-.59-.52 0-1.04.2-1.43.59L10.3 9.45l-7.72 7.72c-.78.78-.78 2.05 0 2.83L4 21.41c.39.39.9.59 1.41.59.51 0 1.02-.2 1.41-.59l7.78-7.78 2.81-2.81c.8-.78.8-2.07 0-2.86zM5.41 20L4 18.59l7.72-7.72 1.47 1.35L5.41 20z\"/>\n",
              "  </svg>\n",
              "      </button>\n",
              "      \n",
              "  <style>\n",
              "    .colab-df-container {\n",
              "      display:flex;\n",
              "      flex-wrap:wrap;\n",
              "      gap: 12px;\n",
              "    }\n",
              "\n",
              "    .colab-df-convert {\n",
              "      background-color: #E8F0FE;\n",
              "      border: none;\n",
              "      border-radius: 50%;\n",
              "      cursor: pointer;\n",
              "      display: none;\n",
              "      fill: #1967D2;\n",
              "      height: 32px;\n",
              "      padding: 0 0 0 0;\n",
              "      width: 32px;\n",
              "    }\n",
              "\n",
              "    .colab-df-convert:hover {\n",
              "      background-color: #E2EBFA;\n",
              "      box-shadow: 0px 1px 2px rgba(60, 64, 67, 0.3), 0px 1px 3px 1px rgba(60, 64, 67, 0.15);\n",
              "      fill: #174EA6;\n",
              "    }\n",
              "\n",
              "    [theme=dark] .colab-df-convert {\n",
              "      background-color: #3B4455;\n",
              "      fill: #D2E3FC;\n",
              "    }\n",
              "\n",
              "    [theme=dark] .colab-df-convert:hover {\n",
              "      background-color: #434B5C;\n",
              "      box-shadow: 0px 1px 3px 1px rgba(0, 0, 0, 0.15);\n",
              "      filter: drop-shadow(0px 1px 2px rgba(0, 0, 0, 0.3));\n",
              "      fill: #FFFFFF;\n",
              "    }\n",
              "  </style>\n",
              "\n",
              "      <script>\n",
              "        const buttonEl =\n",
              "          document.querySelector('#df-76c30324-fe36-41a9-839e-fea81303f281 button.colab-df-convert');\n",
              "        buttonEl.style.display =\n",
              "          google.colab.kernel.accessAllowed ? 'block' : 'none';\n",
              "\n",
              "        async function convertToInteractive(key) {\n",
              "          const element = document.querySelector('#df-76c30324-fe36-41a9-839e-fea81303f281');\n",
              "          const dataTable =\n",
              "            await google.colab.kernel.invokeFunction('convertToInteractive',\n",
              "                                                     [key], {});\n",
              "          if (!dataTable) return;\n",
              "\n",
              "          const docLinkHtml = 'Like what you see? Visit the ' +\n",
              "            '<a target=\"_blank\" href=https://colab.research.google.com/notebooks/data_table.ipynb>data table notebook</a>'\n",
              "            + ' to learn more about interactive tables.';\n",
              "          element.innerHTML = '';\n",
              "          dataTable['output_type'] = 'display_data';\n",
              "          await google.colab.output.renderOutput(dataTable, element);\n",
              "          const docLink = document.createElement('div');\n",
              "          docLink.innerHTML = docLinkHtml;\n",
              "          element.appendChild(docLink);\n",
              "        }\n",
              "      </script>\n",
              "    </div>\n",
              "  </div>\n",
              "  "
            ],
            "text/plain": [
              "       annotation\n",
              "count         606\n",
              "mean          121\n",
              "std           152\n",
              "min             4\n",
              "25%            28\n",
              "50%            46\n",
              "75%           140\n",
              "max           790"
            ]
          },
          "metadata": {},
          "execution_count": 14
        }
      ],
      "source": [
        "# We used this as a reference to fill BOX_DETECTIONS_PER_IMG=140\n",
        "df_images[['annotation']].describe().astype(int)"
      ]
    },
    {
      "cell_type": "code",
      "execution_count": 15,
      "id": "22029843",
      "metadata": {
        "execution": {
          "iopub.execute_input": "2021-11-08T17:09:38.288437Z",
          "iopub.status.busy": "2021-11-08T17:09:38.287368Z",
          "iopub.status.idle": "2021-11-08T17:09:38.315804Z",
          "shell.execute_reply": "2021-11-08T17:09:38.316435Z",
          "shell.execute_reply.started": "2021-11-08T00:07:05.832448Z"
        },
        "id": "22029843",
        "outputId": "8322a566-7c6e-4b6b-bbc0-a6c8b6bf2a81",
        "papermill": {
          "duration": 0.071238,
          "end_time": "2021-11-08T17:09:38.316633",
          "exception": false,
          "start_time": "2021-11-08T17:09:38.245395",
          "status": "completed"
        },
        "tags": [],
        "colab": {
          "base_uri": "https://localhost:8080/"
        }
      },
      "outputs": [
        {
          "output_type": "stream",
          "name": "stdout",
          "text": [
            "Images in train set:           560\n",
            "Annotations in train set:      67815\n",
            "Images in validation set:      46\n",
            "Annotations in validation set: 5770\n"
          ]
        }
      ],
      "source": [
        "# Use the quantiles of amoount of annotations to stratify\n",
        "df_images_train, df_images_val = train_test_split(df_images, stratify=df_images['cell_type'], \n",
        "                                                  test_size=PCT_IMAGES_VALIDATION,\n",
        "                                                  random_state=1234)\n",
        "df_train = df_base[df_base['id'].isin(df_images_train['id'])]\n",
        "df_val = df_base[df_base['id'].isin(df_images_val['id'])]\n",
        "print(f\"Images in train set:           {len(df_images_train)}\")\n",
        "print(f\"Annotations in train set:      {len(df_train)}\")\n",
        "print(f\"Images in validation set:      {len(df_images_val)}\")\n",
        "print(f\"Annotations in validation set: {len(df_val)}\")"
      ]
    },
    {
      "cell_type": "code",
      "execution_count": 16,
      "id": "5725b2f4",
      "metadata": {
        "execution": {
          "iopub.execute_input": "2021-11-08T17:09:38.395116Z",
          "iopub.status.busy": "2021-11-08T17:09:38.394063Z",
          "iopub.status.idle": "2021-11-08T17:09:38.509505Z",
          "shell.execute_reply": "2021-11-08T17:09:38.508885Z",
          "shell.execute_reply.started": "2021-11-08T00:07:05.869883Z"
        },
        "id": "5725b2f4",
        "papermill": {
          "duration": 0.159015,
          "end_time": "2021-11-08T17:09:38.509672",
          "exception": false,
          "start_time": "2021-11-08T17:09:38.350657",
          "status": "completed"
        },
        "tags": []
      },
      "outputs": [],
      "source": [
        "ds_train = CellDataset(TRAIN_PATH, df_train, resize=resize_factor, transforms=get_transform(train=True))\n",
        "dl_train = DataLoader(ds_train, batch_size=BATCH_SIZE, shuffle=True, pin_memory=True,\n",
        "                      num_workers=4, collate_fn=lambda x: tuple(zip(*x)))\n",
        "\n",
        "ds_val = CellDataset(TRAIN_PATH, df_val, resize=resize_factor, transforms=get_transform(train=False))\n",
        "dl_val = DataLoader(ds_val, batch_size=BATCH_SIZE, shuffle=True, pin_memory=True,\n",
        "                    num_workers=4, collate_fn=lambda x: tuple(zip(*x)))"
      ]
    },
    {
      "cell_type": "markdown",
      "id": "0c4b5ce8",
      "metadata": {
        "id": "0c4b5ce8",
        "papermill": {
          "duration": 0.033337,
          "end_time": "2021-11-08T17:09:38.576249",
          "exception": false,
          "start_time": "2021-11-08T17:09:38.542912",
          "status": "completed"
        },
        "tags": []
      },
      "source": [
        "# Train model"
      ]
    },
    {
      "cell_type": "markdown",
      "id": "35f95f08",
      "metadata": {
        "papermill": {
          "duration": 0.033425,
          "end_time": "2021-11-08T17:09:38.643321",
          "exception": false,
          "start_time": "2021-11-08T17:09:38.609896",
          "status": "completed"
        },
        "tags": [],
        "id": "35f95f08"
      },
      "source": [
        "## setup model"
      ]
    },
    {
      "cell_type": "code",
      "execution_count": 17,
      "id": "746b8f41",
      "metadata": {
        "execution": {
          "iopub.execute_input": "2021-11-08T17:09:38.733757Z",
          "iopub.status.busy": "2021-11-08T17:09:38.717504Z",
          "iopub.status.idle": "2021-11-08T17:09:43.756955Z",
          "shell.execute_reply": "2021-11-08T17:09:43.756047Z",
          "shell.execute_reply.started": "2021-11-08T00:07:05.958017Z"
        },
        "id": "746b8f41",
        "papermill": {
          "duration": 5.080507,
          "end_time": "2021-11-08T17:09:43.757118",
          "exception": false,
          "start_time": "2021-11-08T17:09:38.676611",
          "status": "completed"
        },
        "tags": []
      },
      "outputs": [],
      "source": [
        "# # Override pythorch checkpoint with an \"offline\" version of the file\n",
        "# !mkdir -p /root/.cache/torch/hub/checkpoints/\n",
        "# !cp ../input/cocopre/maskrcnn_resnet50_fpn_coco-bf2d0c1e.pth /root/.cache/torch/hub/checkpoints/maskrcnn_resnet50_fpn_coco-bf2d0c1e.pth"
      ]
    },
    {
      "cell_type": "code",
      "execution_count": 20,
      "id": "292c844f",
      "metadata": {
        "execution": {
          "iopub.execute_input": "2021-11-08T17:09:43.837261Z",
          "iopub.status.busy": "2021-11-08T17:09:43.836045Z",
          "iopub.status.idle": "2021-11-08T17:09:48.613649Z",
          "shell.execute_reply": "2021-11-08T17:09:48.612707Z",
          "shell.execute_reply.started": "2021-11-08T00:07:07.667956Z"
        },
        "id": "292c844f",
        "papermill": {
          "duration": 4.821537,
          "end_time": "2021-11-08T17:09:48.613829",
          "exception": false,
          "start_time": "2021-11-08T17:09:43.792292",
          "status": "completed"
        },
        "tags": []
      },
      "outputs": [],
      "source": [
        "def get_model(num_classes, model_chkpt=None):\n",
        "    # This is just a dummy value for the classification head\n",
        "    \n",
        "    if NORMALIZE:\n",
        "        model = torchvision.models.detection.maskrcnn_resnet50_fpn(pretrained=True,\n",
        "                                                                   box_detections_per_img=BOX_DETECTIONS_PER_IMG,\n",
        "                                                                   image_mean=RESNET_MEAN,\n",
        "                                                                   image_std=RESNET_STD)\n",
        "    else:\n",
        "        model = torchvision.models.detection.maskrcnn_resnet50_fpn(pretrained=True,\n",
        "                                                                   box_detections_per_img=BOX_DETECTIONS_PER_IMG)\n",
        "\n",
        "    # get the number of input features for the classifier\n",
        "    in_features = model.roi_heads.box_predictor.cls_score.in_features\n",
        "    # replace the pre-trained head with a new one\n",
        "    model.roi_heads.box_predictor = FastRCNNPredictor(in_features, num_classes+1)\n",
        "\n",
        "    # now get the number of input features for the mask classifier\n",
        "    in_features_mask = model.roi_heads.mask_predictor.conv5_mask.in_channels\n",
        "    hidden_layer = 256\n",
        "    # and replace the mask predictor with a new one\n",
        "    model.roi_heads.mask_predictor = MaskRCNNPredictor(in_features_mask, hidden_layer, num_classes+1)\n",
        "    \n",
        "    if model_chkpt:\n",
        "        model.load_state_dict(torch.load(model_chkpt, map_location=DEVICE))\n",
        "    return model\n",
        "\n",
        "# Get the Mask R-CNN model\n",
        "# The model does classification, bounding boxes and MASKs for individuals, all at the same time\n",
        "# We only care about MASKS\n",
        "model = get_model(len(cell_type_dict))\n",
        "model.to(DEVICE)\n",
        "\n",
        "# TODO: try removing this for\n",
        "for param in model.parameters():\n",
        "    param.requires_grad = True\n",
        "    \n",
        "model.train();"
      ]
    },
    {
      "cell_type": "markdown",
      "id": "f7bd750c",
      "metadata": {
        "id": "f7bd750c",
        "papermill": {
          "duration": 0.033707,
          "end_time": "2021-11-08T17:09:48.681133",
          "exception": false,
          "start_time": "2021-11-08T17:09:48.647426",
          "status": "completed"
        },
        "tags": []
      },
      "source": [
        "## Training loop!"
      ]
    },
    {
      "cell_type": "code",
      "execution_count": null,
      "id": "68fc696e",
      "metadata": {
        "execution": {
          "iopub.execute_input": "2021-11-08T17:09:48.769927Z",
          "iopub.status.busy": "2021-11-08T17:09:48.769133Z",
          "iopub.status.idle": "2021-11-08T19:31:50.421543Z",
          "shell.execute_reply": "2021-11-08T19:31:50.422102Z",
          "shell.execute_reply.started": "2021-11-08T00:07:08.879201Z"
        },
        "id": "68fc696e",
        "outputId": "b7b9d630-5d4f-47d2-87a2-993fc1714c6a",
        "papermill": {
          "duration": 8521.707522,
          "end_time": "2021-11-08T19:31:50.422344",
          "exception": false,
          "start_time": "2021-11-08T17:09:48.714822",
          "status": "completed"
        },
        "tags": [],
        "colab": {
          "base_uri": "https://localhost:8080/",
          "height": 66,
          "referenced_widgets": [
            "dc7547fca3e345a69714db1f33286220",
            "2270c90de20b4f73896c89308b5ff407",
            "63c2d6e7475047c78d918a20843b7292",
            "a4fd6d55bf3d4c29baebd84f20ea567c",
            "e4fc8b08bcda41309fe0b92f78a85953",
            "ab14191540df44f2a9e5ae0da14b01b1",
            "52dedc6740d3465494f00f2695fbf1fe",
            "0a6da970d3e74462bf94bbe9f244bc21",
            "ab3a66613ec644dd8744ae4edda12797",
            "296a7c4b67a04029a1521624bbcdece3",
            "221e9df0f7f44984946a5253ef126e76"
          ]
        }
      },
      "outputs": [
        {
          "output_type": "stream",
          "name": "stdout",
          "text": [
            "Starting epoch 1 of 50\n"
          ]
        },
        {
          "output_type": "display_data",
          "data": {
            "application/vnd.jupyter.widget-view+json": {
              "model_id": "dc7547fca3e345a69714db1f33286220",
              "version_minor": 0,
              "version_major": 2
            },
            "text/plain": [
              "  0%|          | 0/280 [00:00<?, ?it/s]"
            ]
          },
          "metadata": {}
        }
      ],
      "source": [
        "params = [p for p in model.parameters() if p.requires_grad]\n",
        "optimizer = torch.optim.SGD(params, lr=LEARNING_RATE, momentum=MOMENTUM, weight_decay=WEIGHT_DECAY)\n",
        "#optimizer = torch.optim.Adam(params, lr=LEARNING_RATE, weight_decay=WEIGHT_DECAY)\n",
        "\n",
        "lr_scheduler = torch.optim.lr_scheduler.StepLR(optimizer, step_size=5, gamma=0.1)\n",
        "\n",
        "n_batches, n_batches_val = len(dl_train), len(dl_val)\n",
        "\n",
        "validation_mask_losses = []\n",
        "\n",
        "for epoch in range(1, NUM_EPOCHS + 1):\n",
        "    print(f\"Starting epoch {epoch} of {NUM_EPOCHS}\")\n",
        "\n",
        "    time_start = time.time()\n",
        "    loss_accum = 0.0\n",
        "    loss_mask_accum = 0.0\n",
        "    loss_classifier_accum = 0.0\n",
        "    for batch_idx, (images, targets) in tqdm(enumerate(dl_train, 1),total = len(dl_train)):\n",
        "    \n",
        "        # Predict\n",
        "        images = list(image.to(DEVICE) for image in images)\n",
        "        targets = [{k: v.to(DEVICE) for k, v in t.items()} for t in targets]\n",
        "\n",
        "        loss_dict = model(images, targets)\n",
        "        loss = sum(loss for loss in loss_dict.values())\n",
        "        \n",
        "        # Backprop\n",
        "        optimizer.zero_grad()\n",
        "        loss.backward()\n",
        "        optimizer.step()\n",
        "        \n",
        "        # Logging\n",
        "        loss_mask = loss_dict['loss_mask'].item()\n",
        "        loss_accum += loss.item()\n",
        "        loss_mask_accum += loss_mask\n",
        "        loss_classifier_accum += loss_dict['loss_classifier'].item()\n",
        "        \n",
        "        if batch_idx % 500 == 0:\n",
        "            print(f\"    [Batch {batch_idx:3d} / {n_batches:3d}] Batch train loss: {loss.item():7.3f}. Mask-only loss: {loss_mask:7.3f}.\")\n",
        "                        \n",
        "    if USE_SCHEDULER:\n",
        "        lr_scheduler.step()\n",
        "\n",
        "    # Train losses\n",
        "    train_loss = loss_accum / n_batches\n",
        "    train_loss_mask = loss_mask_accum / n_batches\n",
        "    train_loss_classifier = loss_classifier_accum / n_batches\n",
        "\n",
        "    # Validation\n",
        "    val_loss_accum = 0\n",
        "    val_loss_mask_accum = 0\n",
        "    val_loss_classifier_accum = 0\n",
        "    \n",
        "    with torch.no_grad():\n",
        "        for batch_idx, (images, targets) in tqdm(enumerate(dl_val, 1),total=len(dl_val)):\n",
        "            images = list(image.to(DEVICE) for image in images)\n",
        "            targets = [{k: v.to(DEVICE) for k, v in t.items()} for t in targets]\n",
        "\n",
        "            val_loss_dict = model(images, targets)\n",
        "            val_batch_loss = sum(loss for loss in val_loss_dict.values())\n",
        "            val_loss_accum += val_batch_loss.item()\n",
        "            val_loss_mask_accum += val_loss_dict['loss_mask'].item()\n",
        "            val_loss_classifier_accum += val_loss_dict['loss_classifier'].item()\n",
        "\n",
        "    # Validation losses\n",
        "    val_loss = val_loss_accum / n_batches_val\n",
        "    val_loss_mask = val_loss_mask_accum / n_batches_val\n",
        "    val_loss_classifier = val_loss_classifier_accum / n_batches_val\n",
        "    elapsed = time.time() - time_start\n",
        "\n",
        "    validation_mask_losses.append(val_loss_mask)\n",
        "\n",
        "    torch.save(model.state_dict(), f\"pytorch_model-e{epoch}.bin\")\n",
        "    prefix = f\"[Epoch {epoch:2d} / {NUM_EPOCHS:2d}]\"\n",
        "    print(prefix)\n",
        "    print(f\"{prefix} Train mask-only loss: {train_loss_mask:7.3f}, classifier loss {train_loss_classifier:7.3f}\")\n",
        "    print(f\"{prefix} Val mask-only loss  : {val_loss_mask:7.3f}, classifier loss {val_loss_classifier:7.3f}\")\n",
        "    print(prefix)\n",
        "    print(f\"{prefix} Train loss: {train_loss:7.3f}. Val loss: {val_loss:7.3f} [{elapsed:.0f} secs]\")\n",
        "    print(prefix)"
      ]
    },
    {
      "cell_type": "markdown",
      "id": "881e47b5",
      "metadata": {
        "id": "881e47b5",
        "papermill": {
          "duration": 0.044292,
          "end_time": "2021-11-08T19:31:50.510563",
          "exception": false,
          "start_time": "2021-11-08T19:31:50.466271",
          "status": "completed"
        },
        "tags": []
      },
      "source": [
        "# Analyze prediction results for train set"
      ]
    },
    {
      "cell_type": "code",
      "execution_count": null,
      "id": "02b07b97",
      "metadata": {
        "execution": {
          "iopub.execute_input": "2021-11-08T19:31:50.614216Z",
          "iopub.status.busy": "2021-11-08T19:31:50.613104Z",
          "iopub.status.idle": "2021-11-08T19:31:52.976690Z",
          "shell.execute_reply": "2021-11-08T19:31:52.977267Z",
          "shell.execute_reply.started": "2021-11-08T00:11:47.971486Z"
        },
        "id": "02b07b97",
        "papermill": {
          "duration": 2.421852,
          "end_time": "2021-11-08T19:31:52.977460",
          "exception": false,
          "start_time": "2021-11-08T19:31:50.555608",
          "status": "completed"
        },
        "tags": [],
        "outputId": "d1c6bc02-ac6c-4641-9a76-dd84465b3b17"
      },
      "outputs": [
        {
          "data": {
            "image/png": "[encoded data removed]",
            "text/plain": [
              "<Figure size 1440x4320 with 3 Axes>"
            ]
          },
          "metadata": {},
          "output_type": "display_data"
        },
        {
          "name": "stdout",
          "output_type": "stream",
          "text": [
            "Score: 0.1596922048762428\n"
          ]
        }
      ],
      "source": [
        "# Plots: the image, The image + the ground truth mask, The image + the predicted mask\n",
        "\n",
        "def analyze_train_sample(model, ds_train, sample_index):\n",
        "    \n",
        "    img, targets = ds_train[sample_index]\n",
        "    #print(img.shape)\n",
        "    l = np.unique(targets[\"labels\"])\n",
        "    ig, ax = plt.subplots(nrows=1, ncols=3, figsize=(20,60), facecolor=\"#fefefe\")\n",
        "    ax[0].imshow(img.numpy().transpose((1,2,0)))\n",
        "    ax[0].set_title(f\"cell type {l}\")\n",
        "    ax[0].axis(\"off\")\n",
        "    \n",
        "    masks = combine_masks(targets['masks'], 0.5)\n",
        "    #plt.imshow(img.numpy().transpose((1,2,0)))\n",
        "    ax[1].imshow(masks)\n",
        "    ax[1].set_title(f\"Ground truth, {len(targets['masks'])} cells\")\n",
        "    ax[1].axis(\"off\")\n",
        "    \n",
        "    model.eval()\n",
        "    with torch.no_grad():\n",
        "        preds = model([img.to(DEVICE)])[0]\n",
        "    \n",
        "    l = pd.Series(preds['labels'].cpu().numpy()).value_counts()\n",
        "    lstr = \"\"\n",
        "    for i in l.index:\n",
        "        lstr += f\"{l[i]}x{i} \"\n",
        "    #print(l, l.sort_values().index[-1])\n",
        "    #plt.imshow(img.cpu().numpy().transpose((1,2,0)))\n",
        "    mask_threshold = mask_threshold_dict[l.sort_values().index[-1]]\n",
        "    #print(mask_threshold)\n",
        "    pred_masks = combine_masks(get_filtered_masks(preds), mask_threshold)\n",
        "    ax[2].imshow(pred_masks)\n",
        "    ax[2].set_title(f\"Predictions, labels: {lstr}\")\n",
        "    ax[2].axis(\"off\")\n",
        "    plt.show() \n",
        "    \n",
        "    #print(masks.shape, pred_masks.shape)\n",
        "    score = iou_map([masks],[pred_masks])\n",
        "    print(\"Score:\", score)    \n",
        "    \n",
        "    \n",
        "# NOTE: It puts the model in eval mode!! Revert for re-training\n",
        "analyze_train_sample(model, ds_train, 20)"
      ]
    },
    {
      "cell_type": "code",
      "execution_count": null,
      "id": "279c7bfa",
      "metadata": {
        "execution": {
          "iopub.execute_input": "2021-11-08T19:31:53.082349Z",
          "iopub.status.busy": "2021-11-08T19:31:53.081328Z",
          "iopub.status.idle": "2021-11-08T19:31:53.756116Z",
          "shell.execute_reply": "2021-11-08T19:31:53.756713Z",
          "shell.execute_reply.started": "2021-11-08T00:11:47.973407Z"
        },
        "id": "279c7bfa",
        "outputId": "3ff2b8d0-8e4d-46a0-b3cb-7f2fad862808",
        "papermill": {
          "duration": 0.728823,
          "end_time": "2021-11-08T19:31:53.756908",
          "exception": false,
          "start_time": "2021-11-08T19:31:53.028085",
          "status": "completed"
        },
        "tags": []
      },
      "outputs": [
        {
          "data": {
            "image/png": "[encoded data removed]",
            "text/plain": [
              "<Figure size 1440x4320 with 3 Axes>"
            ]
          },
          "metadata": {},
          "output_type": "display_data"
        },
        {
          "name": "stdout",
          "output_type": "stream",
          "text": [
            "Score: 0.5946710897797856\n"
          ]
        }
      ],
      "source": [
        "analyze_train_sample(model, ds_train, 102)"
      ]
    },
    {
      "cell_type": "code",
      "execution_count": null,
      "id": "cfc314d3",
      "metadata": {
        "execution": {
          "iopub.execute_input": "2021-11-08T19:31:53.868686Z",
          "iopub.status.busy": "2021-11-08T19:31:53.867637Z",
          "iopub.status.idle": "2021-11-08T19:31:59.831716Z",
          "shell.execute_reply": "2021-11-08T19:31:59.832303Z",
          "shell.execute_reply.started": "2021-11-08T00:11:47.975665Z"
        },
        "id": "cfc314d3",
        "outputId": "3b0b0c2b-1f0b-40b0-9529-275d24c3afa3",
        "papermill": {
          "duration": 6.022143,
          "end_time": "2021-11-08T19:31:59.832494",
          "exception": false,
          "start_time": "2021-11-08T19:31:53.810351",
          "status": "completed"
        },
        "tags": []
      },
      "outputs": [
        {
          "data": {
            "image/png": "[encoded data removed]",
            "text/plain": [
              "<Figure size 1440x4320 with 3 Axes>"
            ]
          },
          "metadata": {},
          "output_type": "display_data"
        },
        {
          "name": "stdout",
          "output_type": "stream",
          "text": [
            "Score: 0.14959083529396877\n"
          ]
        }
      ],
      "source": [
        "analyze_train_sample(model, ds_train, 7)"
      ]
    },
    {
      "cell_type": "markdown",
      "id": "748069d6",
      "metadata": {
        "id": "748069d6",
        "papermill": {
          "duration": 0.059706,
          "end_time": "2021-11-08T19:31:59.951061",
          "exception": false,
          "start_time": "2021-11-08T19:31:59.891355",
          "status": "completed"
        },
        "tags": []
      },
      "source": [
        "## Get the model from the best epoch"
      ]
    },
    {
      "cell_type": "code",
      "execution_count": null,
      "id": "db54d3c5",
      "metadata": {
        "execution": {
          "iopub.execute_input": "2021-11-08T19:32:00.094986Z",
          "iopub.status.busy": "2021-11-08T19:32:00.093908Z",
          "iopub.status.idle": "2021-11-08T20:41:53.720176Z",
          "shell.execute_reply": "2021-11-08T20:41:53.720791Z",
          "shell.execute_reply.started": "2021-11-08T00:11:47.97797Z"
        },
        "id": "db54d3c5",
        "outputId": "0806ad69-abcf-440a-c9ad-d5a2a454abe4",
        "papermill": {
          "duration": 4193.706644,
          "end_time": "2021-11-08T20:41:53.721162",
          "exception": false,
          "start_time": "2021-11-08T19:32:00.014518",
          "status": "completed"
        },
        "tags": [],
        "colab": {
          "referenced_widgets": [
            "57eb388ea891439780ae7ffc21803493",
            "013936550dbc4547a092766e4e62aa1b",
            "0d87c529c3dd4511ab9738789ae830a2",
            "7f02a8e86b2e4b4cbc00f884171cfc38",
            "6420cfc318494d31a1153f462894abdd",
            "bf789333bed749d7a82be14f8adc306e",
            "abbd4c5af2364ce6852e9a04c23b4dd6",
            "5a07a83916ae4ec1b3a74d9d1b666c7b",
            "6d195eb8482740c49e02586663a88620",
            "2bcd092c79e14adfac73b7e3dc10c904",
            "830a7e052104471bb9a4bb06479d3432",
            "92742e3d06b2433691bc190fc75d0734",
            "400f520520a84a5bbeae6c992a06526a",
            "80aa4e28e4ae4e3194039d69f2e01eb7",
            "98ac90c8f5284c6e8fa98a1cafed5504",
            "5f283637c3c74bd3a283698b84af512e",
            "397f15c122514a0b9a962c08aaf62ccc",
            "35ce492dfd25447595e03f2eb117028b",
            "7f2c0f2db33848338de2f9f33393f0b3",
            "db5e7b3f33ff441eae76698a87ba585a",
            "c5f0f4b7d1ca4032ae470a3a4f58c89d",
            "224f49dd1b1d43f8bd8a71516c3ad7ef",
            "c9dca22f24474f82b5bd9c09749d49ec",
            "af7af8e343d24065846d4016a71a5c66",
            "ef704460a9564dbaa820f9948fd991ba",
            "9fbecda45fb04abc988bcc904f5ab5d2",
            "8a2d2c9d616746bb94d84db22e162354",
            "e0a038102c3f4f7d965945cd27f5ea90",
            "437029bc023943a6a64b49819f43dce6",
            "a91b780440c040618b227353b2cb2f5e"
          ]
        }
      },
      "outputs": [
        {
          "name": "stdout",
          "output_type": "stream",
          "text": [
            "Loading: pytorch_model-e1.bin\n"
          ]
        },
        {
          "data": {
            "application/vnd.jupyter.widget-view+json": {
              "model_id": "57eb388ea891439780ae7ffc21803493",
              "version_major": 2,
              "version_minor": 0
            },
            "text/plain": [
              "  0%|          | 0/46 [00:00<?, ?it/s]"
            ]
          },
          "metadata": {},
          "output_type": "display_data"
        },
        {
          "name": "stdout",
          "output_type": "stream",
          "text": [
            "Loading: pytorch_model-e2.bin\n"
          ]
        },
        {
          "data": {
            "application/vnd.jupyter.widget-view+json": {
              "model_id": "013936550dbc4547a092766e4e62aa1b",
              "version_major": 2,
              "version_minor": 0
            },
            "text/plain": [
              "  0%|          | 0/46 [00:00<?, ?it/s]"
            ]
          },
          "metadata": {},
          "output_type": "display_data"
        },
        {
          "name": "stdout",
          "output_type": "stream",
          "text": [
            "Loading: pytorch_model-e3.bin\n"
          ]
        },
        {
          "data": {
            "application/vnd.jupyter.widget-view+json": {
              "model_id": "0d87c529c3dd4511ab9738789ae830a2",
              "version_major": 2,
              "version_minor": 0
            },
            "text/plain": [
              "  0%|          | 0/46 [00:00<?, ?it/s]"
            ]
          },
          "metadata": {},
          "output_type": "display_data"
        },
        {
          "name": "stdout",
          "output_type": "stream",
          "text": [
            "Loading: pytorch_model-e4.bin\n"
          ]
        },
        {
          "data": {
            "application/vnd.jupyter.widget-view+json": {
              "model_id": "7f02a8e86b2e4b4cbc00f884171cfc38",
              "version_major": 2,
              "version_minor": 0
            },
            "text/plain": [
              "  0%|          | 0/46 [00:00<?, ?it/s]"
            ]
          },
          "metadata": {},
          "output_type": "display_data"
        },
        {
          "name": "stdout",
          "output_type": "stream",
          "text": [
            "Loading: pytorch_model-e5.bin\n"
          ]
        },
        {
          "data": {
            "application/vnd.jupyter.widget-view+json": {
              "model_id": "6420cfc318494d31a1153f462894abdd",
              "version_major": 2,
              "version_minor": 0
            },
            "text/plain": [
              "  0%|          | 0/46 [00:00<?, ?it/s]"
            ]
          },
          "metadata": {},
          "output_type": "display_data"
        },
        {
          "name": "stdout",
          "output_type": "stream",
          "text": [
            "Loading: pytorch_model-e6.bin\n"
          ]
        },
        {
          "data": {
            "application/vnd.jupyter.widget-view+json": {
              "model_id": "bf789333bed749d7a82be14f8adc306e",
              "version_major": 2,
              "version_minor": 0
            },
            "text/plain": [
              "  0%|          | 0/46 [00:00<?, ?it/s]"
            ]
          },
          "metadata": {},
          "output_type": "display_data"
        },
        {
          "name": "stdout",
          "output_type": "stream",
          "text": [
            "Loading: pytorch_model-e7.bin\n"
          ]
        },
        {
          "data": {
            "application/vnd.jupyter.widget-view+json": {
              "model_id": "abbd4c5af2364ce6852e9a04c23b4dd6",
              "version_major": 2,
              "version_minor": 0
            },
            "text/plain": [
              "  0%|          | 0/46 [00:00<?, ?it/s]"
            ]
          },
          "metadata": {},
          "output_type": "display_data"
        },
        {
          "name": "stdout",
          "output_type": "stream",
          "text": [
            "Loading: pytorch_model-e8.bin\n"
          ]
        },
        {
          "data": {
            "application/vnd.jupyter.widget-view+json": {
              "model_id": "5a07a83916ae4ec1b3a74d9d1b666c7b",
              "version_major": 2,
              "version_minor": 0
            },
            "text/plain": [
              "  0%|          | 0/46 [00:00<?, ?it/s]"
            ]
          },
          "metadata": {},
          "output_type": "display_data"
        },
        {
          "name": "stdout",
          "output_type": "stream",
          "text": [
            "Loading: pytorch_model-e9.bin\n"
          ]
        },
        {
          "data": {
            "application/vnd.jupyter.widget-view+json": {
              "model_id": "6d195eb8482740c49e02586663a88620",
              "version_major": 2,
              "version_minor": 0
            },
            "text/plain": [
              "  0%|          | 0/46 [00:00<?, ?it/s]"
            ]
          },
          "metadata": {},
          "output_type": "display_data"
        },
        {
          "name": "stdout",
          "output_type": "stream",
          "text": [
            "Loading: pytorch_model-e10.bin\n"
          ]
        },
        {
          "data": {
            "application/vnd.jupyter.widget-view+json": {
              "model_id": "2bcd092c79e14adfac73b7e3dc10c904",
              "version_major": 2,
              "version_minor": 0
            },
            "text/plain": [
              "  0%|          | 0/46 [00:00<?, ?it/s]"
            ]
          },
          "metadata": {},
          "output_type": "display_data"
        },
        {
          "name": "stdout",
          "output_type": "stream",
          "text": [
            "Loading: pytorch_model-e11.bin\n"
          ]
        },
        {
          "data": {
            "application/vnd.jupyter.widget-view+json": {
              "model_id": "830a7e052104471bb9a4bb06479d3432",
              "version_major": 2,
              "version_minor": 0
            },
            "text/plain": [
              "  0%|          | 0/46 [00:00<?, ?it/s]"
            ]
          },
          "metadata": {},
          "output_type": "display_data"
        },
        {
          "name": "stdout",
          "output_type": "stream",
          "text": [
            "Loading: pytorch_model-e12.bin\n"
          ]
        },
        {
          "data": {
            "application/vnd.jupyter.widget-view+json": {
              "model_id": "92742e3d06b2433691bc190fc75d0734",
              "version_major": 2,
              "version_minor": 0
            },
            "text/plain": [
              "  0%|          | 0/46 [00:00<?, ?it/s]"
            ]
          },
          "metadata": {},
          "output_type": "display_data"
        },
        {
          "name": "stdout",
          "output_type": "stream",
          "text": [
            "Loading: pytorch_model-e13.bin\n"
          ]
        },
        {
          "data": {
            "application/vnd.jupyter.widget-view+json": {
              "model_id": "400f520520a84a5bbeae6c992a06526a",
              "version_major": 2,
              "version_minor": 0
            },
            "text/plain": [
              "  0%|          | 0/46 [00:00<?, ?it/s]"
            ]
          },
          "metadata": {},
          "output_type": "display_data"
        },
        {
          "name": "stdout",
          "output_type": "stream",
          "text": [
            "Loading: pytorch_model-e14.bin\n"
          ]
        },
        {
          "data": {
            "application/vnd.jupyter.widget-view+json": {
              "model_id": "80aa4e28e4ae4e3194039d69f2e01eb7",
              "version_major": 2,
              "version_minor": 0
            },
            "text/plain": [
              "  0%|          | 0/46 [00:00<?, ?it/s]"
            ]
          },
          "metadata": {},
          "output_type": "display_data"
        },
        {
          "name": "stdout",
          "output_type": "stream",
          "text": [
            "Loading: pytorch_model-e15.bin\n"
          ]
        },
        {
          "data": {
            "application/vnd.jupyter.widget-view+json": {
              "model_id": "98ac90c8f5284c6e8fa98a1cafed5504",
              "version_major": 2,
              "version_minor": 0
            },
            "text/plain": [
              "  0%|          | 0/46 [00:00<?, ?it/s]"
            ]
          },
          "metadata": {},
          "output_type": "display_data"
        },
        {
          "name": "stdout",
          "output_type": "stream",
          "text": [
            "Loading: pytorch_model-e16.bin\n"
          ]
        },
        {
          "data": {
            "application/vnd.jupyter.widget-view+json": {
              "model_id": "5f283637c3c74bd3a283698b84af512e",
              "version_major": 2,
              "version_minor": 0
            },
            "text/plain": [
              "  0%|          | 0/46 [00:00<?, ?it/s]"
            ]
          },
          "metadata": {},
          "output_type": "display_data"
        },
        {
          "name": "stdout",
          "output_type": "stream",
          "text": [
            "Loading: pytorch_model-e17.bin\n"
          ]
        },
        {
          "data": {
            "application/vnd.jupyter.widget-view+json": {
              "model_id": "397f15c122514a0b9a962c08aaf62ccc",
              "version_major": 2,
              "version_minor": 0
            },
            "text/plain": [
              "  0%|          | 0/46 [00:00<?, ?it/s]"
            ]
          },
          "metadata": {},
          "output_type": "display_data"
        },
        {
          "name": "stdout",
          "output_type": "stream",
          "text": [
            "Loading: pytorch_model-e18.bin\n"
          ]
        },
        {
          "data": {
            "application/vnd.jupyter.widget-view+json": {
              "model_id": "35ce492dfd25447595e03f2eb117028b",
              "version_major": 2,
              "version_minor": 0
            },
            "text/plain": [
              "  0%|          | 0/46 [00:00<?, ?it/s]"
            ]
          },
          "metadata": {},
          "output_type": "display_data"
        },
        {
          "name": "stdout",
          "output_type": "stream",
          "text": [
            "Loading: pytorch_model-e19.bin\n"
          ]
        },
        {
          "data": {
            "application/vnd.jupyter.widget-view+json": {
              "model_id": "7f2c0f2db33848338de2f9f33393f0b3",
              "version_major": 2,
              "version_minor": 0
            },
            "text/plain": [
              "  0%|          | 0/46 [00:00<?, ?it/s]"
            ]
          },
          "metadata": {},
          "output_type": "display_data"
        },
        {
          "name": "stdout",
          "output_type": "stream",
          "text": [
            "Loading: pytorch_model-e20.bin\n"
          ]
        },
        {
          "data": {
            "application/vnd.jupyter.widget-view+json": {
              "model_id": "db5e7b3f33ff441eae76698a87ba585a",
              "version_major": 2,
              "version_minor": 0
            },
            "text/plain": [
              "  0%|          | 0/46 [00:00<?, ?it/s]"
            ]
          },
          "metadata": {},
          "output_type": "display_data"
        },
        {
          "name": "stdout",
          "output_type": "stream",
          "text": [
            "Loading: pytorch_model-e21.bin\n"
          ]
        },
        {
          "data": {
            "application/vnd.jupyter.widget-view+json": {
              "model_id": "c5f0f4b7d1ca4032ae470a3a4f58c89d",
              "version_major": 2,
              "version_minor": 0
            },
            "text/plain": [
              "  0%|          | 0/46 [00:00<?, ?it/s]"
            ]
          },
          "metadata": {},
          "output_type": "display_data"
        },
        {
          "name": "stdout",
          "output_type": "stream",
          "text": [
            "Loading: pytorch_model-e22.bin\n"
          ]
        },
        {
          "data": {
            "application/vnd.jupyter.widget-view+json": {
              "model_id": "224f49dd1b1d43f8bd8a71516c3ad7ef",
              "version_major": 2,
              "version_minor": 0
            },
            "text/plain": [
              "  0%|          | 0/46 [00:00<?, ?it/s]"
            ]
          },
          "metadata": {},
          "output_type": "display_data"
        },
        {
          "name": "stdout",
          "output_type": "stream",
          "text": [
            "Loading: pytorch_model-e23.bin\n"
          ]
        },
        {
          "data": {
            "application/vnd.jupyter.widget-view+json": {
              "model_id": "c9dca22f24474f82b5bd9c09749d49ec",
              "version_major": 2,
              "version_minor": 0
            },
            "text/plain": [
              "  0%|          | 0/46 [00:00<?, ?it/s]"
            ]
          },
          "metadata": {},
          "output_type": "display_data"
        },
        {
          "name": "stdout",
          "output_type": "stream",
          "text": [
            "Loading: pytorch_model-e24.bin\n"
          ]
        },
        {
          "data": {
            "application/vnd.jupyter.widget-view+json": {
              "model_id": "af7af8e343d24065846d4016a71a5c66",
              "version_major": 2,
              "version_minor": 0
            },
            "text/plain": [
              "  0%|          | 0/46 [00:00<?, ?it/s]"
            ]
          },
          "metadata": {},
          "output_type": "display_data"
        },
        {
          "name": "stdout",
          "output_type": "stream",
          "text": [
            "Loading: pytorch_model-e25.bin\n"
          ]
        },
        {
          "data": {
            "application/vnd.jupyter.widget-view+json": {
              "model_id": "ef704460a9564dbaa820f9948fd991ba",
              "version_major": 2,
              "version_minor": 0
            },
            "text/plain": [
              "  0%|          | 0/46 [00:00<?, ?it/s]"
            ]
          },
          "metadata": {},
          "output_type": "display_data"
        },
        {
          "name": "stdout",
          "output_type": "stream",
          "text": [
            "Loading: pytorch_model-e26.bin\n"
          ]
        },
        {
          "data": {
            "application/vnd.jupyter.widget-view+json": {
              "model_id": "9fbecda45fb04abc988bcc904f5ab5d2",
              "version_major": 2,
              "version_minor": 0
            },
            "text/plain": [
              "  0%|          | 0/46 [00:00<?, ?it/s]"
            ]
          },
          "metadata": {},
          "output_type": "display_data"
        },
        {
          "name": "stdout",
          "output_type": "stream",
          "text": [
            "Loading: pytorch_model-e27.bin\n"
          ]
        },
        {
          "data": {
            "application/vnd.jupyter.widget-view+json": {
              "model_id": "8a2d2c9d616746bb94d84db22e162354",
              "version_major": 2,
              "version_minor": 0
            },
            "text/plain": [
              "  0%|          | 0/46 [00:00<?, ?it/s]"
            ]
          },
          "metadata": {},
          "output_type": "display_data"
        },
        {
          "name": "stdout",
          "output_type": "stream",
          "text": [
            "Loading: pytorch_model-e28.bin\n"
          ]
        },
        {
          "data": {
            "application/vnd.jupyter.widget-view+json": {
              "model_id": "e0a038102c3f4f7d965945cd27f5ea90",
              "version_major": 2,
              "version_minor": 0
            },
            "text/plain": [
              "  0%|          | 0/46 [00:00<?, ?it/s]"
            ]
          },
          "metadata": {},
          "output_type": "display_data"
        },
        {
          "name": "stdout",
          "output_type": "stream",
          "text": [
            "Loading: pytorch_model-e29.bin\n"
          ]
        },
        {
          "data": {
            "application/vnd.jupyter.widget-view+json": {
              "model_id": "437029bc023943a6a64b49819f43dce6",
              "version_major": 2,
              "version_minor": 0
            },
            "text/plain": [
              "  0%|          | 0/46 [00:00<?, ?it/s]"
            ]
          },
          "metadata": {},
          "output_type": "display_data"
        },
        {
          "name": "stdout",
          "output_type": "stream",
          "text": [
            "Loading: pytorch_model-e30.bin\n"
          ]
        },
        {
          "data": {
            "application/vnd.jupyter.widget-view+json": {
              "model_id": "a91b780440c040618b227353b2cb2f5e",
              "version_major": 2,
              "version_minor": 0
            },
            "text/plain": [
              "  0%|          | 0/46 [00:00<?, ?it/s]"
            ]
          },
          "metadata": {},
          "output_type": "display_data"
        },
        {
          "data": {
            "text/html": [
              "<div>\n",
              "<style scoped>\n",
              "    .dataframe tbody tr th:only-of-type {\n",
              "        vertical-align: middle;\n",
              "    }\n",
              "\n",
              "    .dataframe tbody tr th {\n",
              "        vertical-align: top;\n",
              "    }\n",
              "\n",
              "    .dataframe thead th {\n",
              "        text-align: right;\n",
              "    }\n",
              "</style>\n",
              "<table border=\"1\" class=\"dataframe\">\n",
              "  <thead>\n",
              "    <tr style=\"text-align: right;\">\n",
              "      <th></th>\n",
              "      <th>mask_loss</th>\n",
              "      <th>score</th>\n",
              "    </tr>\n",
              "  </thead>\n",
              "  <tbody>\n",
              "    <tr>\n",
              "      <th>28</th>\n",
              "      <td>0.297836</td>\n",
              "      <td>0.278035</td>\n",
              "    </tr>\n",
              "    <tr>\n",
              "      <th>26</th>\n",
              "      <td>0.311815</td>\n",
              "      <td>0.275641</td>\n",
              "    </tr>\n",
              "    <tr>\n",
              "      <th>25</th>\n",
              "      <td>0.299391</td>\n",
              "      <td>0.271287</td>\n",
              "    </tr>\n",
              "    <tr>\n",
              "      <th>16</th>\n",
              "      <td>0.302243</td>\n",
              "      <td>0.269703</td>\n",
              "    </tr>\n",
              "    <tr>\n",
              "      <th>15</th>\n",
              "      <td>0.298182</td>\n",
              "      <td>0.266359</td>\n",
              "    </tr>\n",
              "    <tr>\n",
              "      <th>20</th>\n",
              "      <td>0.296662</td>\n",
              "      <td>0.265303</td>\n",
              "    </tr>\n",
              "    <tr>\n",
              "      <th>24</th>\n",
              "      <td>0.300026</td>\n",
              "      <td>0.264519</td>\n",
              "    </tr>\n",
              "    <tr>\n",
              "      <th>13</th>\n",
              "      <td>0.306787</td>\n",
              "      <td>0.263265</td>\n",
              "    </tr>\n",
              "    <tr>\n",
              "      <th>12</th>\n",
              "      <td>0.302617</td>\n",
              "      <td>0.262228</td>\n",
              "    </tr>\n",
              "    <tr>\n",
              "      <th>10</th>\n",
              "      <td>0.299871</td>\n",
              "      <td>0.260348</td>\n",
              "    </tr>\n",
              "    <tr>\n",
              "      <th>9</th>\n",
              "      <td>0.304238</td>\n",
              "      <td>0.260256</td>\n",
              "    </tr>\n",
              "    <tr>\n",
              "      <th>27</th>\n",
              "      <td>0.296324</td>\n",
              "      <td>0.259672</td>\n",
              "    </tr>\n",
              "    <tr>\n",
              "      <th>23</th>\n",
              "      <td>0.298729</td>\n",
              "      <td>0.259494</td>\n",
              "    </tr>\n",
              "    <tr>\n",
              "      <th>17</th>\n",
              "      <td>0.305877</td>\n",
              "      <td>0.259140</td>\n",
              "    </tr>\n",
              "    <tr>\n",
              "      <th>5</th>\n",
              "      <td>0.309442</td>\n",
              "      <td>0.258218</td>\n",
              "    </tr>\n",
              "    <tr>\n",
              "      <th>21</th>\n",
              "      <td>0.302610</td>\n",
              "      <td>0.257739</td>\n",
              "    </tr>\n",
              "    <tr>\n",
              "      <th>14</th>\n",
              "      <td>0.299339</td>\n",
              "      <td>0.257079</td>\n",
              "    </tr>\n",
              "    <tr>\n",
              "      <th>7</th>\n",
              "      <td>0.305349</td>\n",
              "      <td>0.256080</td>\n",
              "    </tr>\n",
              "    <tr>\n",
              "      <th>8</th>\n",
              "      <td>0.302461</td>\n",
              "      <td>0.254198</td>\n",
              "    </tr>\n",
              "    <tr>\n",
              "      <th>29</th>\n",
              "      <td>0.298565</td>\n",
              "      <td>0.254044</td>\n",
              "    </tr>\n",
              "    <tr>\n",
              "      <th>22</th>\n",
              "      <td>0.299935</td>\n",
              "      <td>0.253831</td>\n",
              "    </tr>\n",
              "    <tr>\n",
              "      <th>18</th>\n",
              "      <td>0.297987</td>\n",
              "      <td>0.253054</td>\n",
              "    </tr>\n",
              "    <tr>\n",
              "      <th>11</th>\n",
              "      <td>0.300888</td>\n",
              "      <td>0.250922</td>\n",
              "    </tr>\n",
              "    <tr>\n",
              "      <th>4</th>\n",
              "      <td>0.305181</td>\n",
              "      <td>0.247088</td>\n",
              "    </tr>\n",
              "    <tr>\n",
              "      <th>6</th>\n",
              "      <td>0.304996</td>\n",
              "      <td>0.245718</td>\n",
              "    </tr>\n",
              "    <tr>\n",
              "      <th>19</th>\n",
              "      <td>0.295112</td>\n",
              "      <td>0.244713</td>\n",
              "    </tr>\n",
              "    <tr>\n",
              "      <th>3</th>\n",
              "      <td>0.305362</td>\n",
              "      <td>0.238522</td>\n",
              "    </tr>\n",
              "    <tr>\n",
              "      <th>1</th>\n",
              "      <td>0.307622</td>\n",
              "      <td>0.234102</td>\n",
              "    </tr>\n",
              "    <tr>\n",
              "      <th>2</th>\n",
              "      <td>0.311317</td>\n",
              "      <td>0.231675</td>\n",
              "    </tr>\n",
              "    <tr>\n",
              "      <th>0</th>\n",
              "      <td>0.320088</td>\n",
              "      <td>0.208608</td>\n",
              "    </tr>\n",
              "  </tbody>\n",
              "</table>\n",
              "</div>"
            ],
            "text/plain": [
              "    mask_loss     score\n",
              "28   0.297836  0.278035\n",
              "26   0.311815  0.275641\n",
              "25   0.299391  0.271287\n",
              "16   0.302243  0.269703\n",
              "15   0.298182  0.266359\n",
              "20   0.296662  0.265303\n",
              "24   0.300026  0.264519\n",
              "13   0.306787  0.263265\n",
              "12   0.302617  0.262228\n",
              "10   0.299871  0.260348\n",
              "9    0.304238  0.260256\n",
              "27   0.296324  0.259672\n",
              "23   0.298729  0.259494\n",
              "17   0.305877  0.259140\n",
              "5    0.309442  0.258218\n",
              "21   0.302610  0.257739\n",
              "14   0.299339  0.257079\n",
              "7    0.305349  0.256080\n",
              "8    0.302461  0.254198\n",
              "29   0.298565  0.254044\n",
              "22   0.299935  0.253831\n",
              "18   0.297987  0.253054\n",
              "11   0.300888  0.250922\n",
              "4    0.305181  0.247088\n",
              "6    0.304996  0.245718\n",
              "19   0.295112  0.244713\n",
              "3    0.305362  0.238522\n",
              "1    0.307622  0.234102\n",
              "2    0.311317  0.231675\n",
              "0    0.320088  0.208608"
            ]
          },
          "metadata": {},
          "output_type": "display_data"
        },
        {
          "name": "stdout",
          "output_type": "stream",
          "text": [
            "29\n"
          ]
        }
      ],
      "source": [
        "# Epochs with their losses and IOU scores\n",
        "\n",
        "val_scores = pd.DataFrame()\n",
        "for e, val_loss in enumerate(validation_mask_losses):\n",
        "    model_chk = f\"pytorch_model-e{e+1}.bin\"\n",
        "    print(\"Loading:\", model_chk)\n",
        "    model = get_model(len(cell_type_dict), model_chk)\n",
        "    model.load_state_dict(torch.load(model_chk))\n",
        "    model = model.to(DEVICE)\n",
        "    val_scores.loc[e,\"mask_loss\"] = val_loss\n",
        "    val_scores.loc[e,\"score\"] = get_score(ds_val, model)\n",
        "    \n",
        "    \n",
        "display(val_scores.sort_values(\"score\", ascending=False))\n",
        "\n",
        "best_epoch = np.argmax(val_scores[\"score\"])\n",
        "print(best_epoch+1)"
      ]
    },
    {
      "cell_type": "markdown",
      "id": "e2fbc76e",
      "metadata": {
        "id": "e2fbc76e",
        "papermill": {
          "duration": 0.090076,
          "end_time": "2021-11-08T20:41:53.949298",
          "exception": false,
          "start_time": "2021-11-08T20:41:53.859222",
          "status": "completed"
        },
        "tags": []
      },
      "source": [
        "# Prediction"
      ]
    },
    {
      "cell_type": "markdown",
      "id": "b477052d",
      "metadata": {
        "id": "b477052d",
        "papermill": {
          "duration": 0.088429,
          "end_time": "2021-11-08T20:41:54.129736",
          "exception": false,
          "start_time": "2021-11-08T20:41:54.041307",
          "status": "completed"
        },
        "tags": []
      },
      "source": [
        "## Test Dataset and DataLoader"
      ]
    },
    {
      "cell_type": "code",
      "execution_count": null,
      "id": "3cd2a3e4",
      "metadata": {
        "execution": {
          "iopub.execute_input": "2021-11-08T20:41:54.449764Z",
          "iopub.status.busy": "2021-11-08T20:41:54.448635Z",
          "iopub.status.idle": "2021-11-08T20:41:54.458366Z",
          "shell.execute_reply": "2021-11-08T20:41:54.458990Z",
          "shell.execute_reply.started": "2021-11-08T00:11:47.980083Z"
        },
        "id": "3cd2a3e4",
        "papermill": {
          "duration": 0.199609,
          "end_time": "2021-11-08T20:41:54.459310",
          "exception": false,
          "start_time": "2021-11-08T20:41:54.259701",
          "status": "completed"
        },
        "tags": []
      },
      "outputs": [],
      "source": [
        "class CellTestDataset(Dataset):\n",
        "    def __init__(self, image_dir, transforms=None, resize=False):\n",
        "        self.transforms = transforms\n",
        "        self.image_dir = image_dir\n",
        "        self.image_ids = [f[:-4]for f in os.listdir(self.image_dir)]\n",
        "        self.should_resize = resize is not False\n",
        "        if self.should_resize:\n",
        "            self.height = int(HEIGHT * resize)\n",
        "            self.width = int(WIDTH * resize)\n",
        "            print(\"image size used:\", self.height, self.width)\n",
        "            \n",
        "    def __getitem__(self, idx):\n",
        "        image_id = self.image_ids[idx]\n",
        "        image_path = os.path.join(self.image_dir, image_id + '.png')\n",
        "        image = cv2.imread(image_path, cv2.IMREAD_COLOR)\n",
        "        if self.should_resize:\n",
        "            image = cv2.resize(image, (self.width, self.height))\n",
        "\n",
        "        if self.transforms is not None:\n",
        "            image, _ = self.transforms(image=image, target=None)\n",
        "        return {'image': image, 'image_id': image_id}\n",
        "\n",
        "    def __len__(self):\n",
        "        return len(self.image_ids)"
      ]
    },
    {
      "cell_type": "code",
      "execution_count": null,
      "id": "9fcbd7ee",
      "metadata": {
        "execution": {
          "iopub.execute_input": "2021-11-08T20:41:54.743100Z",
          "iopub.status.busy": "2021-11-08T20:41:54.742177Z",
          "iopub.status.idle": "2021-11-08T20:41:54.754142Z",
          "shell.execute_reply": "2021-11-08T20:41:54.753524Z",
          "shell.execute_reply.started": "2021-11-08T00:11:47.982364Z"
        },
        "id": "9fcbd7ee",
        "papermill": {
          "duration": 0.15102,
          "end_time": "2021-11-08T20:41:54.754476",
          "exception": false,
          "start_time": "2021-11-08T20:41:54.603456",
          "status": "completed"
        },
        "tags": []
      },
      "outputs": [],
      "source": [
        "ds_test = CellTestDataset(TEST_PATH, transforms=get_transform(train=False))"
      ]
    },
    {
      "cell_type": "code",
      "execution_count": null,
      "id": "3812040c",
      "metadata": {
        "execution": {
          "iopub.execute_input": "2021-11-08T20:41:54.947836Z",
          "iopub.status.busy": "2021-11-08T20:41:54.946658Z",
          "iopub.status.idle": "2021-11-08T20:42:03.037107Z",
          "shell.execute_reply": "2021-11-08T20:42:03.036488Z",
          "shell.execute_reply.started": "2021-11-08T00:11:47.984602Z"
        },
        "id": "3812040c",
        "outputId": "5f0432a3-8b87-4540-f49d-9d033b61bdbc",
        "papermill": {
          "duration": 8.192657,
          "end_time": "2021-11-08T20:42:03.037287",
          "exception": false,
          "start_time": "2021-11-08T20:41:54.844630",
          "status": "completed"
        },
        "tags": []
      },
      "outputs": [
        {
          "name": "stdout",
          "output_type": "stream",
          "text": [
            "Loading: pytorch_model-e29.bin\n"
          ]
        },
        {
          "data": {
            "text/html": [
              "<div>\n",
              "<style scoped>\n",
              "    .dataframe tbody tr th:only-of-type {\n",
              "        vertical-align: middle;\n",
              "    }\n",
              "\n",
              "    .dataframe tbody tr th {\n",
              "        vertical-align: top;\n",
              "    }\n",
              "\n",
              "    .dataframe thead th {\n",
              "        text-align: right;\n",
              "    }\n",
              "</style>\n",
              "<table border=\"1\" class=\"dataframe\">\n",
              "  <thead>\n",
              "    <tr style=\"text-align: right;\">\n",
              "      <th></th>\n",
              "      <th>id</th>\n",
              "      <th>predicted</th>\n",
              "    </tr>\n",
              "  </thead>\n",
              "  <tbody>\n",
              "    <tr>\n",
              "      <th>0</th>\n",
              "      <td>7ae19de7bc2a</td>\n",
              "      <td>140948 7 141651 8 142355 9 143059 9 143763 10 ...</td>\n",
              "    </tr>\n",
              "    <tr>\n",
              "      <th>1</th>\n",
              "      <td>7ae19de7bc2a</td>\n",
              "      <td>97122 5 97825 7 98529 8 99233 9 99936 10 10064...</td>\n",
              "    </tr>\n",
              "    <tr>\n",
              "      <th>2</th>\n",
              "      <td>7ae19de7bc2a</td>\n",
              "      <td>140003 17 140706 20 141410 22 142114 22 142818...</td>\n",
              "    </tr>\n",
              "    <tr>\n",
              "      <th>3</th>\n",
              "      <td>7ae19de7bc2a</td>\n",
              "      <td>26628 12 27329 17 28031 19 28734 21 29437 22 3...</td>\n",
              "    </tr>\n",
              "    <tr>\n",
              "      <th>4</th>\n",
              "      <td>7ae19de7bc2a</td>\n",
              "      <td>179601 4 180304 6 181008 6 181711 7 182414 9 1...</td>\n",
              "    </tr>\n",
              "  </tbody>\n",
              "</table>\n",
              "</div>"
            ],
            "text/plain": [
              "             id                                          predicted\n",
              "0  7ae19de7bc2a  140948 7 141651 8 142355 9 143059 9 143763 10 ...\n",
              "1  7ae19de7bc2a  97122 5 97825 7 98529 8 99233 9 99936 10 10064...\n",
              "2  7ae19de7bc2a  140003 17 140706 20 141410 22 142114 22 142818...\n",
              "3  7ae19de7bc2a  26628 12 27329 17 28031 19 28734 21 29437 22 3...\n",
              "4  7ae19de7bc2a  179601 4 180304 6 181008 6 181711 7 182414 9 1..."
            ]
          },
          "execution_count": 23,
          "metadata": {},
          "output_type": "execute_result"
        }
      ],
      "source": [
        "model_chk = f\"pytorch_model-e{best_epoch+1}.bin\"\n",
        "print(\"Loading:\", model_chk)\n",
        "model = get_model(len(cell_type_dict))\n",
        "model.load_state_dict(torch.load(model_chk))\n",
        "model = model.to(DEVICE)\n",
        "\n",
        "for param in model.parameters():\n",
        "    param.requires_grad = False\n",
        "\n",
        "model.eval();\n",
        "\n",
        "submission = []\n",
        "for sample in ds_test:\n",
        "    img = sample['image']\n",
        "    image_id = sample['image_id']\n",
        "    with torch.no_grad():\n",
        "        result = model([img.to(DEVICE)])[0]\n",
        "    \n",
        "    previous_masks = []\n",
        "    for i, mask in enumerate(result[\"masks\"]):\n",
        "\n",
        "        # Filter-out low-scoring results.\n",
        "        score = result[\"scores\"][i].cpu().item()\n",
        "        label = result[\"labels\"][i].cpu().item()\n",
        "        if score > min_score_dict[label]:\n",
        "            mask = mask.cpu().numpy()\n",
        "            # Keep only highly likely pixels\n",
        "            binary_mask = mask > mask_threshold_dict[label]\n",
        "            binary_mask = remove_overlapping_pixels(binary_mask, previous_masks)\n",
        "            previous_masks.append(binary_mask)\n",
        "            rle = rle_encoding(binary_mask)\n",
        "            submission.append((image_id, rle))\n",
        "\n",
        "    # Add empty prediction if no RLE was generated for this image\n",
        "    all_images_ids = [image_id for image_id, rle in submission]\n",
        "    if image_id not in all_images_ids:\n",
        "        submission.append((image_id, \"\"))\n",
        "\n",
        "df_sub = pd.DataFrame(submission, columns=['id', 'predicted'])\n",
        "df_sub.to_csv(\"submission.csv\", index=False)\n",
        "df_sub.head()"
      ]
    },
    {
      "cell_type": "code",
      "execution_count": null,
      "id": "5b80921b",
      "metadata": {
        "id": "5b80921b",
        "papermill": {
          "duration": 0.087897,
          "end_time": "2021-11-08T20:42:03.213007",
          "exception": false,
          "start_time": "2021-11-08T20:42:03.125110",
          "status": "completed"
        },
        "tags": []
      },
      "outputs": [],
      "source": [
        ""
      ]
    }
  ],
  "metadata": {
    "kernelspec": {
      "display_name": "Python 3",
      "language": "python",
      "name": "python3"
    },
    "language_info": {
      "codemirror_mode": {
        "name": "ipython",
        "version": 3
      },
      "file_extension": ".py",
      "mimetype": "text/x-python",
      "name": "python",
      "nbconvert_exporter": "python",
      "pygments_lexer": "ipython3",
      "version": "3.7.10"
    },
    "papermill": {
      "default_parameters": {},
      "duration": 12765.604686,
      "end_time": "2021-11-08T20:42:07.249855",
      "environment_variables": {},
      "exception": null,
      "input_path": "__notebook__.ipynb",
      "output_path": "__notebook__.ipynb",
      "parameters": {},
      "start_time": "2021-11-08T17:09:21.645169",
      "version": "2.3.3"
    },
    "widgets": {
      "application/vnd.jupyter.widget-state+json": {
        "dc7547fca3e345a69714db1f33286220": {
          "model_module": "@jupyter-widgets/controls",
          "model_name": "HBoxModel",
          "model_module_version": "1.5.0",
          "state": {
            "_view_name": "HBoxView",
            "_dom_classes": [],
            "_model_name": "HBoxModel",
            "_view_module": "@jupyter-widgets/controls",
            "_model_module_version": "1.5.0",
            "_view_count": null,
            "_view_module_version": "1.5.0",
            "box_style": "",
            "layout": "IPY_MODEL_2270c90de20b4f73896c89308b5ff407",
            "_model_module": "@jupyter-widgets/controls",
            "children": [
              "IPY_MODEL_63c2d6e7475047c78d918a20843b7292",
              "IPY_MODEL_a4fd6d55bf3d4c29baebd84f20ea567c",
              "IPY_MODEL_e4fc8b08bcda41309fe0b92f78a85953"
            ]
          }
        },
        "2270c90de20b4f73896c89308b5ff407": {
          "model_module": "@jupyter-widgets/base",
          "model_name": "LayoutModel",
          "model_module_version": "1.2.0",
          "state": {
            "_view_name": "LayoutView",
            "grid_template_rows": null,
            "right": null,
            "justify_content": null,
            "_view_module": "@jupyter-widgets/base",
            "overflow": null,
            "_model_module_version": "1.2.0",
            "_view_count": null,
            "flex_flow": null,
            "width": null,
            "min_width": null,
            "border": null,
            "align_items": null,
            "bottom": null,
            "_model_module": "@jupyter-widgets/base",
            "top": null,
            "grid_column": null,
            "overflow_y": null,
            "overflow_x": null,
            "grid_auto_flow": null,
            "grid_area": null,
            "grid_template_columns": null,
            "flex": null,
            "_model_name": "LayoutModel",
            "justify_items": null,
            "grid_row": null,
            "max_height": null,
            "align_content": null,
            "visibility": null,
            "align_self": null,
            "height": null,
            "min_height": null,
            "padding": null,
            "grid_auto_rows": null,
            "grid_gap": null,
            "max_width": null,
            "order": null,
            "_view_module_version": "1.2.0",
            "grid_template_areas": null,
            "object_position": null,
            "object_fit": null,
            "grid_auto_columns": null,
            "margin": null,
            "display": null,
            "left": null
          }
        },
        "63c2d6e7475047c78d918a20843b7292": {
          "model_module": "@jupyter-widgets/controls",
          "model_name": "HTMLModel",
          "model_module_version": "1.5.0",
          "state": {
            "_view_name": "HTMLView",
            "style": "IPY_MODEL_ab14191540df44f2a9e5ae0da14b01b1",
            "_dom_classes": [],
            "description": "",
            "_model_name": "HTMLModel",
            "placeholder": "​",
            "_view_module": "@jupyter-widgets/controls",
            "_model_module_version": "1.5.0",
            "value": " 24%",
            "_view_count": null,
            "_view_module_version": "1.5.0",
            "description_tooltip": null,
            "_model_module": "@jupyter-widgets/controls",
            "layout": "IPY_MODEL_52dedc6740d3465494f00f2695fbf1fe"
          }
        },
        "a4fd6d55bf3d4c29baebd84f20ea567c": {
          "model_module": "@jupyter-widgets/controls",
          "model_name": "FloatProgressModel",
          "model_module_version": "1.5.0",
          "state": {
            "_view_name": "ProgressView",
            "style": "IPY_MODEL_0a6da970d3e74462bf94bbe9f244bc21",
            "_dom_classes": [],
            "description": "",
            "_model_name": "FloatProgressModel",
            "bar_style": "",
            "max": 280,
            "_view_module": "@jupyter-widgets/controls",
            "_model_module_version": "1.5.0",
            "value": 66,
            "_view_count": null,
            "_view_module_version": "1.5.0",
            "orientation": "horizontal",
            "min": 0,
            "description_tooltip": null,
            "_model_module": "@jupyter-widgets/controls",
            "layout": "IPY_MODEL_ab3a66613ec644dd8744ae4edda12797"
          }
        },
        "e4fc8b08bcda41309fe0b92f78a85953": {
          "model_module": "@jupyter-widgets/controls",
          "model_name": "HTMLModel",
          "model_module_version": "1.5.0",
          "state": {
            "_view_name": "HTMLView",
            "style": "IPY_MODEL_296a7c4b67a04029a1521624bbcdece3",
            "_dom_classes": [],
            "description": "",
            "_model_name": "HTMLModel",
            "placeholder": "​",
            "_view_module": "@jupyter-widgets/controls",
            "_model_module_version": "1.5.0",
            "value": " 66/280 [00:46&lt;02:13,  1.60it/s]",
            "_view_count": null,
            "_view_module_version": "1.5.0",
            "description_tooltip": null,
            "_model_module": "@jupyter-widgets/controls",
            "layout": "IPY_MODEL_221e9df0f7f44984946a5253ef126e76"
          }
        },
        "ab14191540df44f2a9e5ae0da14b01b1": {
          "model_module": "@jupyter-widgets/controls",
          "model_name": "DescriptionStyleModel",
          "model_module_version": "1.5.0",
          "state": {
            "_view_name": "StyleView",
            "_model_name": "DescriptionStyleModel",
            "description_width": "",
            "_view_module": "@jupyter-widgets/base",
            "_model_module_version": "1.5.0",
            "_view_count": null,
            "_view_module_version": "1.2.0",
            "_model_module": "@jupyter-widgets/controls"
          }
        },
        "52dedc6740d3465494f00f2695fbf1fe": {
          "model_module": "@jupyter-widgets/base",
          "model_name": "LayoutModel",
          "model_module_version": "1.2.0",
          "state": {
            "_view_name": "LayoutView",
            "grid_template_rows": null,
            "right": null,
            "justify_content": null,
            "_view_module": "@jupyter-widgets/base",
            "overflow": null,
            "_model_module_version": "1.2.0",
            "_view_count": null,
            "flex_flow": null,
            "width": null,
            "min_width": null,
            "border": null,
            "align_items": null,
            "bottom": null,
            "_model_module": "@jupyter-widgets/base",
            "top": null,
            "grid_column": null,
            "overflow_y": null,
            "overflow_x": null,
            "grid_auto_flow": null,
            "grid_area": null,
            "grid_template_columns": null,
            "flex": null,
            "_model_name": "LayoutModel",
            "justify_items": null,
            "grid_row": null,
            "max_height": null,
            "align_content": null,
            "visibility": null,
            "align_self": null,
            "height": null,
            "min_height": null,
            "padding": null,
            "grid_auto_rows": null,
            "grid_gap": null,
            "max_width": null,
            "order": null,
            "_view_module_version": "1.2.0",
            "grid_template_areas": null,
            "object_position": null,
            "object_fit": null,
            "grid_auto_columns": null,
            "margin": null,
            "display": null,
            "left": null
          }
        },
        "0a6da970d3e74462bf94bbe9f244bc21": {
          "model_module": "@jupyter-widgets/controls",
          "model_name": "ProgressStyleModel",
          "model_module_version": "1.5.0",
          "state": {
            "_view_name": "StyleView",
            "_model_name": "ProgressStyleModel",
            "description_width": "",
            "_view_module": "@jupyter-widgets/base",
            "_model_module_version": "1.5.0",
            "_view_count": null,
            "_view_module_version": "1.2.0",
            "bar_color": null,
            "_model_module": "@jupyter-widgets/controls"
          }
        },
        "ab3a66613ec644dd8744ae4edda12797": {
          "model_module": "@jupyter-widgets/base",
          "model_name": "LayoutModel",
          "model_module_version": "1.2.0",
          "state": {
            "_view_name": "LayoutView",
            "grid_template_rows": null,
            "right": null,
            "justify_content": null,
            "_view_module": "@jupyter-widgets/base",
            "overflow": null,
            "_model_module_version": "1.2.0",
            "_view_count": null,
            "flex_flow": null,
            "width": null,
            "min_width": null,
            "border": null,
            "align_items": null,
            "bottom": null,
            "_model_module": "@jupyter-widgets/base",
            "top": null,
            "grid_column": null,
            "overflow_y": null,
            "overflow_x": null,
            "grid_auto_flow": null,
            "grid_area": null,
            "grid_template_columns": null,
            "flex": null,
            "_model_name": "LayoutModel",
            "justify_items": null,
            "grid_row": null,
            "max_height": null,
            "align_content": null,
            "visibility": null,
            "align_self": null,
            "height": null,
            "min_height": null,
            "padding": null,
            "grid_auto_rows": null,
            "grid_gap": null,
            "max_width": null,
            "order": null,
            "_view_module_version": "1.2.0",
            "grid_template_areas": null,
            "object_position": null,
            "object_fit": null,
            "grid_auto_columns": null,
            "margin": null,
            "display": null,
            "left": null
          }
        },
        "296a7c4b67a04029a1521624bbcdece3": {
          "model_module": "@jupyter-widgets/controls",
          "model_name": "DescriptionStyleModel",
          "model_module_version": "1.5.0",
          "state": {
            "_view_name": "StyleView",
            "_model_name": "DescriptionStyleModel",
            "description_width": "",
            "_view_module": "@jupyter-widgets/base",
            "_model_module_version": "1.5.0",
            "_view_count": null,
            "_view_module_version": "1.2.0",
            "_model_module": "@jupyter-widgets/controls"
          }
        },
        "221e9df0f7f44984946a5253ef126e76": {
          "model_module": "@jupyter-widgets/base",
          "model_name": "LayoutModel",
          "model_module_version": "1.2.0",
          "state": {
            "_view_name": "LayoutView",
            "grid_template_rows": null,
            "right": null,
            "justify_content": null,
            "_view_module": "@jupyter-widgets/base",
            "overflow": null,
            "_model_module_version": "1.2.0",
            "_view_count": null,
            "flex_flow": null,
            "width": null,
            "min_width": null,
            "border": null,
            "align_items": null,
            "bottom": null,
            "_model_module": "@jupyter-widgets/base",
            "top": null,
            "grid_column": null,
            "overflow_y": null,
            "overflow_x": null,
            "grid_auto_flow": null,
            "grid_area": null,
            "grid_template_columns": null,
            "flex": null,
            "_model_name": "LayoutModel",
            "justify_items": null,
            "grid_row": null,
            "max_height": null,
            "align_content": null,
            "visibility": null,
            "align_self": null,
            "height": null,
            "min_height": null,
            "padding": null,
            "grid_auto_rows": null,
            "grid_gap": null,
            "max_width": null,
            "order": null,
            "_view_module_version": "1.2.0",
            "grid_template_areas": null,
            "object_position": null,
            "object_fit": null,
            "grid_auto_columns": null,
            "margin": null,
            "display": null,
            "left": null
          }
        }
      }
    },
    "colab": {
      "name": "sartorius-torch-mask-r-cnn.ipynb",
      "provenance": [],
      "collapsed_sections": [],
      "machine_shape": "hm"
    },
    "accelerator": "GPU"
  },
  "nbformat": 4,
  "nbformat_minor": 5
}